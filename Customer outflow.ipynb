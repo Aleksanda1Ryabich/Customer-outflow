{
 "cells": [
  {
   "cell_type": "markdown",
   "metadata": {},
   "source": [
    "# Отток клиентов"
   ]
  },
  {
   "cell_type": "markdown",
   "metadata": {},
   "source": [
    "Из «Бета-Банка» стали уходить клиенты. Каждый месяц. Немного, но заметно. Банковские маркетологи посчитали: сохранять текущих клиентов дешевле, чем привлекать новых.\n",
    "\n",
    "Нужно спрогнозировать, уйдёт клиент из банка в ближайшее время или нет. Вам предоставлены исторические данные о поведении клиентов и расторжении договоров с банком. \n",
    "\n",
    "Постройте модель с предельно большим значением *F1*-меры. Чтобы сдать проект успешно, нужно довести метрику до 0.59. Проверьте *F1*-меру на тестовой выборке самостоятельно.\n",
    "\n",
    "Дополнительно измеряйте *AUC-ROC*, сравнивайте её значение с *F1*-мерой.\n",
    "\n",
    "Источник данных: [https://www.kaggle.com/barelydedicated/bank-customer-churn-modeling](https://www.kaggle.com/barelydedicated/bank-customer-churn-modeling)"
   ]
  },
  {
   "cell_type": "markdown",
   "metadata": {},
   "source": [
    "## Подготовка данных"
   ]
  },
  {
   "cell_type": "markdown",
   "metadata": {},
   "source": [
    "План:\n",
    "\n",
    "Загрузите и подготовьте данные. Поясните порядок действий.\n",
    "\n",
    "Исследуйте баланс классов, обучите модель без учёта дисбаланса. Кратко опишите выводы.\n",
    "\n",
    "Улучшите качество модели, учитывая дисбаланс классов. Обучите разные модели и найдите лучшую. Кратко опишите выводы.\n",
    "\n",
    "Проведите финальное тестирование."
   ]
  },
  {
   "cell_type": "code",
   "execution_count": 1,
   "metadata": {},
   "outputs": [],
   "source": [
    "import pandas as pd\n",
    "import matplotlib.pyplot as plt\n",
    "\n",
    "from sklearn.preprocessing import MinMaxScaler\n",
    "from sklearn.utils import shuffle\n",
    "from sklearn.model_selection import train_test_split, GridSearchCV\n",
    "from sklearn.metrics import accuracy_score, f1_score, recall_score, precision_score, roc_auc_score, roc_curve, confusion_matrix\n",
    "\n",
    "\n",
    "from sklearn.linear_model import LogisticRegression\n",
    "from sklearn.ensemble import RandomForestClassifier\n",
    "from sklearn.preprocessing import StandardScaler\n",
    "from sklearn.tree import DecisionTreeClassifier\n",
    "from sklearn.dummy import DummyClassifier\n",
    "\n",
    "\n",
    "import warnings\n",
    "warnings.filterwarnings(\"ignore\")\n"
   ]
  },
  {
   "cell_type": "code",
   "execution_count": 2,
   "metadata": {},
   "outputs": [],
   "source": [
    "data = pd.read_csv('/datasets/Churn.csv')"
   ]
  },
  {
   "cell_type": "code",
   "execution_count": 3,
   "metadata": {
    "scrolled": true
   },
   "outputs": [
    {
     "data": {
      "text/html": [
       "<div>\n",
       "<style scoped>\n",
       "    .dataframe tbody tr th:only-of-type {\n",
       "        vertical-align: middle;\n",
       "    }\n",
       "\n",
       "    .dataframe tbody tr th {\n",
       "        vertical-align: top;\n",
       "    }\n",
       "\n",
       "    .dataframe thead th {\n",
       "        text-align: right;\n",
       "    }\n",
       "</style>\n",
       "<table border=\"1\" class=\"dataframe\">\n",
       "  <thead>\n",
       "    <tr style=\"text-align: right;\">\n",
       "      <th></th>\n",
       "      <th>RowNumber</th>\n",
       "      <th>CustomerId</th>\n",
       "      <th>Surname</th>\n",
       "      <th>CreditScore</th>\n",
       "      <th>Geography</th>\n",
       "      <th>Gender</th>\n",
       "      <th>Age</th>\n",
       "      <th>Tenure</th>\n",
       "      <th>Balance</th>\n",
       "      <th>NumOfProducts</th>\n",
       "      <th>HasCrCard</th>\n",
       "      <th>IsActiveMember</th>\n",
       "      <th>EstimatedSalary</th>\n",
       "      <th>Exited</th>\n",
       "    </tr>\n",
       "  </thead>\n",
       "  <tbody>\n",
       "    <tr>\n",
       "      <th>0</th>\n",
       "      <td>1</td>\n",
       "      <td>15634602</td>\n",
       "      <td>Hargrave</td>\n",
       "      <td>619</td>\n",
       "      <td>France</td>\n",
       "      <td>Female</td>\n",
       "      <td>42</td>\n",
       "      <td>2.0</td>\n",
       "      <td>0.00</td>\n",
       "      <td>1</td>\n",
       "      <td>1</td>\n",
       "      <td>1</td>\n",
       "      <td>101348.88</td>\n",
       "      <td>1</td>\n",
       "    </tr>\n",
       "    <tr>\n",
       "      <th>1</th>\n",
       "      <td>2</td>\n",
       "      <td>15647311</td>\n",
       "      <td>Hill</td>\n",
       "      <td>608</td>\n",
       "      <td>Spain</td>\n",
       "      <td>Female</td>\n",
       "      <td>41</td>\n",
       "      <td>1.0</td>\n",
       "      <td>83807.86</td>\n",
       "      <td>1</td>\n",
       "      <td>0</td>\n",
       "      <td>1</td>\n",
       "      <td>112542.58</td>\n",
       "      <td>0</td>\n",
       "    </tr>\n",
       "    <tr>\n",
       "      <th>2</th>\n",
       "      <td>3</td>\n",
       "      <td>15619304</td>\n",
       "      <td>Onio</td>\n",
       "      <td>502</td>\n",
       "      <td>France</td>\n",
       "      <td>Female</td>\n",
       "      <td>42</td>\n",
       "      <td>8.0</td>\n",
       "      <td>159660.80</td>\n",
       "      <td>3</td>\n",
       "      <td>1</td>\n",
       "      <td>0</td>\n",
       "      <td>113931.57</td>\n",
       "      <td>1</td>\n",
       "    </tr>\n",
       "    <tr>\n",
       "      <th>3</th>\n",
       "      <td>4</td>\n",
       "      <td>15701354</td>\n",
       "      <td>Boni</td>\n",
       "      <td>699</td>\n",
       "      <td>France</td>\n",
       "      <td>Female</td>\n",
       "      <td>39</td>\n",
       "      <td>1.0</td>\n",
       "      <td>0.00</td>\n",
       "      <td>2</td>\n",
       "      <td>0</td>\n",
       "      <td>0</td>\n",
       "      <td>93826.63</td>\n",
       "      <td>0</td>\n",
       "    </tr>\n",
       "    <tr>\n",
       "      <th>4</th>\n",
       "      <td>5</td>\n",
       "      <td>15737888</td>\n",
       "      <td>Mitchell</td>\n",
       "      <td>850</td>\n",
       "      <td>Spain</td>\n",
       "      <td>Female</td>\n",
       "      <td>43</td>\n",
       "      <td>2.0</td>\n",
       "      <td>125510.82</td>\n",
       "      <td>1</td>\n",
       "      <td>1</td>\n",
       "      <td>1</td>\n",
       "      <td>79084.10</td>\n",
       "      <td>0</td>\n",
       "    </tr>\n",
       "  </tbody>\n",
       "</table>\n",
       "</div>"
      ],
      "text/plain": [
       "   RowNumber  CustomerId   Surname  CreditScore Geography  Gender  Age  \\\n",
       "0          1    15634602  Hargrave          619    France  Female   42   \n",
       "1          2    15647311      Hill          608     Spain  Female   41   \n",
       "2          3    15619304      Onio          502    France  Female   42   \n",
       "3          4    15701354      Boni          699    France  Female   39   \n",
       "4          5    15737888  Mitchell          850     Spain  Female   43   \n",
       "\n",
       "   Tenure    Balance  NumOfProducts  HasCrCard  IsActiveMember  \\\n",
       "0     2.0       0.00              1          1               1   \n",
       "1     1.0   83807.86              1          0               1   \n",
       "2     8.0  159660.80              3          1               0   \n",
       "3     1.0       0.00              2          0               0   \n",
       "4     2.0  125510.82              1          1               1   \n",
       "\n",
       "   EstimatedSalary  Exited  \n",
       "0        101348.88       1  \n",
       "1        112542.58       0  \n",
       "2        113931.57       1  \n",
       "3         93826.63       0  \n",
       "4         79084.10       0  "
      ]
     },
     "execution_count": 3,
     "metadata": {},
     "output_type": "execute_result"
    }
   ],
   "source": [
    "data.head()"
   ]
  },
  {
   "cell_type": "code",
   "execution_count": 4,
   "metadata": {},
   "outputs": [
    {
     "name": "stdout",
     "output_type": "stream",
     "text": [
      "<class 'pandas.core.frame.DataFrame'>\n",
      "RangeIndex: 10000 entries, 0 to 9999\n",
      "Data columns (total 14 columns):\n",
      " #   Column           Non-Null Count  Dtype  \n",
      "---  ------           --------------  -----  \n",
      " 0   RowNumber        10000 non-null  int64  \n",
      " 1   CustomerId       10000 non-null  int64  \n",
      " 2   Surname          10000 non-null  object \n",
      " 3   CreditScore      10000 non-null  int64  \n",
      " 4   Geography        10000 non-null  object \n",
      " 5   Gender           10000 non-null  object \n",
      " 6   Age              10000 non-null  int64  \n",
      " 7   Tenure           9091 non-null   float64\n",
      " 8   Balance          10000 non-null  float64\n",
      " 9   NumOfProducts    10000 non-null  int64  \n",
      " 10  HasCrCard        10000 non-null  int64  \n",
      " 11  IsActiveMember   10000 non-null  int64  \n",
      " 12  EstimatedSalary  10000 non-null  float64\n",
      " 13  Exited           10000 non-null  int64  \n",
      "dtypes: float64(3), int64(8), object(3)\n",
      "memory usage: 1.1+ MB\n"
     ]
    }
   ],
   "source": [
    "data.info()"
   ]
  },
  {
   "cell_type": "code",
   "execution_count": 5,
   "metadata": {
    "scrolled": true
   },
   "outputs": [
    {
     "data": {
      "text/html": [
       "<div>\n",
       "<style scoped>\n",
       "    .dataframe tbody tr th:only-of-type {\n",
       "        vertical-align: middle;\n",
       "    }\n",
       "\n",
       "    .dataframe tbody tr th {\n",
       "        vertical-align: top;\n",
       "    }\n",
       "\n",
       "    .dataframe thead th {\n",
       "        text-align: right;\n",
       "    }\n",
       "</style>\n",
       "<table border=\"1\" class=\"dataframe\">\n",
       "  <thead>\n",
       "    <tr style=\"text-align: right;\">\n",
       "      <th></th>\n",
       "      <th>RowNumber</th>\n",
       "      <th>CustomerId</th>\n",
       "      <th>CreditScore</th>\n",
       "      <th>Age</th>\n",
       "      <th>Tenure</th>\n",
       "      <th>Balance</th>\n",
       "      <th>NumOfProducts</th>\n",
       "      <th>HasCrCard</th>\n",
       "      <th>IsActiveMember</th>\n",
       "      <th>EstimatedSalary</th>\n",
       "      <th>Exited</th>\n",
       "    </tr>\n",
       "  </thead>\n",
       "  <tbody>\n",
       "    <tr>\n",
       "      <th>count</th>\n",
       "      <td>10000.00000</td>\n",
       "      <td>1.000000e+04</td>\n",
       "      <td>10000.000000</td>\n",
       "      <td>10000.000000</td>\n",
       "      <td>9091.000000</td>\n",
       "      <td>10000.000000</td>\n",
       "      <td>10000.000000</td>\n",
       "      <td>10000.00000</td>\n",
       "      <td>10000.000000</td>\n",
       "      <td>10000.000000</td>\n",
       "      <td>10000.000000</td>\n",
       "    </tr>\n",
       "    <tr>\n",
       "      <th>mean</th>\n",
       "      <td>5000.50000</td>\n",
       "      <td>1.569094e+07</td>\n",
       "      <td>650.528800</td>\n",
       "      <td>38.921800</td>\n",
       "      <td>4.997690</td>\n",
       "      <td>76485.889288</td>\n",
       "      <td>1.530200</td>\n",
       "      <td>0.70550</td>\n",
       "      <td>0.515100</td>\n",
       "      <td>100090.239881</td>\n",
       "      <td>0.203700</td>\n",
       "    </tr>\n",
       "    <tr>\n",
       "      <th>std</th>\n",
       "      <td>2886.89568</td>\n",
       "      <td>7.193619e+04</td>\n",
       "      <td>96.653299</td>\n",
       "      <td>10.487806</td>\n",
       "      <td>2.894723</td>\n",
       "      <td>62397.405202</td>\n",
       "      <td>0.581654</td>\n",
       "      <td>0.45584</td>\n",
       "      <td>0.499797</td>\n",
       "      <td>57510.492818</td>\n",
       "      <td>0.402769</td>\n",
       "    </tr>\n",
       "    <tr>\n",
       "      <th>min</th>\n",
       "      <td>1.00000</td>\n",
       "      <td>1.556570e+07</td>\n",
       "      <td>350.000000</td>\n",
       "      <td>18.000000</td>\n",
       "      <td>0.000000</td>\n",
       "      <td>0.000000</td>\n",
       "      <td>1.000000</td>\n",
       "      <td>0.00000</td>\n",
       "      <td>0.000000</td>\n",
       "      <td>11.580000</td>\n",
       "      <td>0.000000</td>\n",
       "    </tr>\n",
       "    <tr>\n",
       "      <th>25%</th>\n",
       "      <td>2500.75000</td>\n",
       "      <td>1.562853e+07</td>\n",
       "      <td>584.000000</td>\n",
       "      <td>32.000000</td>\n",
       "      <td>2.000000</td>\n",
       "      <td>0.000000</td>\n",
       "      <td>1.000000</td>\n",
       "      <td>0.00000</td>\n",
       "      <td>0.000000</td>\n",
       "      <td>51002.110000</td>\n",
       "      <td>0.000000</td>\n",
       "    </tr>\n",
       "    <tr>\n",
       "      <th>50%</th>\n",
       "      <td>5000.50000</td>\n",
       "      <td>1.569074e+07</td>\n",
       "      <td>652.000000</td>\n",
       "      <td>37.000000</td>\n",
       "      <td>5.000000</td>\n",
       "      <td>97198.540000</td>\n",
       "      <td>1.000000</td>\n",
       "      <td>1.00000</td>\n",
       "      <td>1.000000</td>\n",
       "      <td>100193.915000</td>\n",
       "      <td>0.000000</td>\n",
       "    </tr>\n",
       "    <tr>\n",
       "      <th>75%</th>\n",
       "      <td>7500.25000</td>\n",
       "      <td>1.575323e+07</td>\n",
       "      <td>718.000000</td>\n",
       "      <td>44.000000</td>\n",
       "      <td>7.000000</td>\n",
       "      <td>127644.240000</td>\n",
       "      <td>2.000000</td>\n",
       "      <td>1.00000</td>\n",
       "      <td>1.000000</td>\n",
       "      <td>149388.247500</td>\n",
       "      <td>0.000000</td>\n",
       "    </tr>\n",
       "    <tr>\n",
       "      <th>max</th>\n",
       "      <td>10000.00000</td>\n",
       "      <td>1.581569e+07</td>\n",
       "      <td>850.000000</td>\n",
       "      <td>92.000000</td>\n",
       "      <td>10.000000</td>\n",
       "      <td>250898.090000</td>\n",
       "      <td>4.000000</td>\n",
       "      <td>1.00000</td>\n",
       "      <td>1.000000</td>\n",
       "      <td>199992.480000</td>\n",
       "      <td>1.000000</td>\n",
       "    </tr>\n",
       "  </tbody>\n",
       "</table>\n",
       "</div>"
      ],
      "text/plain": [
       "         RowNumber    CustomerId   CreditScore           Age       Tenure  \\\n",
       "count  10000.00000  1.000000e+04  10000.000000  10000.000000  9091.000000   \n",
       "mean    5000.50000  1.569094e+07    650.528800     38.921800     4.997690   \n",
       "std     2886.89568  7.193619e+04     96.653299     10.487806     2.894723   \n",
       "min        1.00000  1.556570e+07    350.000000     18.000000     0.000000   \n",
       "25%     2500.75000  1.562853e+07    584.000000     32.000000     2.000000   \n",
       "50%     5000.50000  1.569074e+07    652.000000     37.000000     5.000000   \n",
       "75%     7500.25000  1.575323e+07    718.000000     44.000000     7.000000   \n",
       "max    10000.00000  1.581569e+07    850.000000     92.000000    10.000000   \n",
       "\n",
       "             Balance  NumOfProducts    HasCrCard  IsActiveMember  \\\n",
       "count   10000.000000   10000.000000  10000.00000    10000.000000   \n",
       "mean    76485.889288       1.530200      0.70550        0.515100   \n",
       "std     62397.405202       0.581654      0.45584        0.499797   \n",
       "min         0.000000       1.000000      0.00000        0.000000   \n",
       "25%         0.000000       1.000000      0.00000        0.000000   \n",
       "50%     97198.540000       1.000000      1.00000        1.000000   \n",
       "75%    127644.240000       2.000000      1.00000        1.000000   \n",
       "max    250898.090000       4.000000      1.00000        1.000000   \n",
       "\n",
       "       EstimatedSalary        Exited  \n",
       "count     10000.000000  10000.000000  \n",
       "mean     100090.239881      0.203700  \n",
       "std       57510.492818      0.402769  \n",
       "min          11.580000      0.000000  \n",
       "25%       51002.110000      0.000000  \n",
       "50%      100193.915000      0.000000  \n",
       "75%      149388.247500      0.000000  \n",
       "max      199992.480000      1.000000  "
      ]
     },
     "execution_count": 5,
     "metadata": {},
     "output_type": "execute_result"
    }
   ],
   "source": [
    "data.describe()"
   ]
  },
  {
   "cell_type": "code",
   "execution_count": 6,
   "metadata": {},
   "outputs": [
    {
     "data": {
      "text/plain": [
       "0"
      ]
     },
     "execution_count": 6,
     "metadata": {},
     "output_type": "execute_result"
    }
   ],
   "source": [
    "data.duplicated().sum()"
   ]
  },
  {
   "cell_type": "markdown",
   "metadata": {},
   "source": [
    "Столбец 'Tenure' имеет пропуски. Следует заменить пропуски на минимальное значение, их менее 10%."
   ]
  },
  {
   "cell_type": "code",
   "execution_count": 7,
   "metadata": {},
   "outputs": [],
   "source": [
    "data['Tenure'] = data['Tenure'].fillna(5)"
   ]
  },
  {
   "cell_type": "code",
   "execution_count": 8,
   "metadata": {},
   "outputs": [
    {
     "data": {
      "text/plain": [
       "array(['France', 'Spain', 'Germany'], dtype=object)"
      ]
     },
     "execution_count": 8,
     "metadata": {},
     "output_type": "execute_result"
    }
   ],
   "source": [
    "data['Geography'].unique()"
   ]
  },
  {
   "cell_type": "markdown",
   "metadata": {},
   "source": [
    "Признаки: \n",
    "\n",
    "RowNumber — индекс строки в данных, не имеет ценности для обучения модели, можно столбец удалить. \n",
    "\n",
    "CustomerId — уникальный идентификатор клиента, стоблец можно удалить.\n",
    "\n",
    "Surname — фамилия, не несет ценности для качества будущей модели — столбец можно удалить.\n",
    "\n",
    "CreditScore — кредитный рейтинг, следует проверить распределение и сохранить данный столбец.\n",
    "\n",
    "Geography — страна проживания, имеет 3 уникальных значения France', 'Spain', 'Germany' — выполнить преобразование OHE.\n",
    "\n",
    "Gender — пол, значение преобразовать — OHE.\n",
    "\n",
    "Age — возраст, \n",
    "\n",
    "Tenure — сколько лет человек является клиентом банка, \n",
    "\n",
    "Balance — баланс на счёте, \n",
    "\n",
    "NumOfProducts — количество продуктов банка, используемых клиентом, \n",
    "\n",
    "HasCrCard — наличие кредитной карты, \n",
    "\n",
    "IsActiveMember — активность клиента, \n",
    "\n",
    "EstimatedSalary — предполагаемая зарплата.\n",
    "\n",
    "Целевой признак: 'Exited' — факт ухода клиента."
   ]
  },
  {
   "cell_type": "code",
   "execution_count": 9,
   "metadata": {},
   "outputs": [
    {
     "data": {
      "text/html": [
       "<div>\n",
       "<style scoped>\n",
       "    .dataframe tbody tr th:only-of-type {\n",
       "        vertical-align: middle;\n",
       "    }\n",
       "\n",
       "    .dataframe tbody tr th {\n",
       "        vertical-align: top;\n",
       "    }\n",
       "\n",
       "    .dataframe thead th {\n",
       "        text-align: right;\n",
       "    }\n",
       "</style>\n",
       "<table border=\"1\" class=\"dataframe\">\n",
       "  <thead>\n",
       "    <tr style=\"text-align: right;\">\n",
       "      <th></th>\n",
       "      <th>CreditScore</th>\n",
       "      <th>Geography</th>\n",
       "      <th>Gender</th>\n",
       "      <th>Age</th>\n",
       "      <th>Tenure</th>\n",
       "      <th>Balance</th>\n",
       "      <th>NumOfProducts</th>\n",
       "      <th>HasCrCard</th>\n",
       "      <th>IsActiveMember</th>\n",
       "      <th>EstimatedSalary</th>\n",
       "      <th>Exited</th>\n",
       "    </tr>\n",
       "  </thead>\n",
       "  <tbody>\n",
       "    <tr>\n",
       "      <th>0</th>\n",
       "      <td>619</td>\n",
       "      <td>France</td>\n",
       "      <td>Female</td>\n",
       "      <td>42</td>\n",
       "      <td>2.0</td>\n",
       "      <td>0.00</td>\n",
       "      <td>1</td>\n",
       "      <td>1</td>\n",
       "      <td>1</td>\n",
       "      <td>101348.88</td>\n",
       "      <td>1</td>\n",
       "    </tr>\n",
       "    <tr>\n",
       "      <th>1</th>\n",
       "      <td>608</td>\n",
       "      <td>Spain</td>\n",
       "      <td>Female</td>\n",
       "      <td>41</td>\n",
       "      <td>1.0</td>\n",
       "      <td>83807.86</td>\n",
       "      <td>1</td>\n",
       "      <td>0</td>\n",
       "      <td>1</td>\n",
       "      <td>112542.58</td>\n",
       "      <td>0</td>\n",
       "    </tr>\n",
       "    <tr>\n",
       "      <th>2</th>\n",
       "      <td>502</td>\n",
       "      <td>France</td>\n",
       "      <td>Female</td>\n",
       "      <td>42</td>\n",
       "      <td>8.0</td>\n",
       "      <td>159660.80</td>\n",
       "      <td>3</td>\n",
       "      <td>1</td>\n",
       "      <td>0</td>\n",
       "      <td>113931.57</td>\n",
       "      <td>1</td>\n",
       "    </tr>\n",
       "    <tr>\n",
       "      <th>3</th>\n",
       "      <td>699</td>\n",
       "      <td>France</td>\n",
       "      <td>Female</td>\n",
       "      <td>39</td>\n",
       "      <td>1.0</td>\n",
       "      <td>0.00</td>\n",
       "      <td>2</td>\n",
       "      <td>0</td>\n",
       "      <td>0</td>\n",
       "      <td>93826.63</td>\n",
       "      <td>0</td>\n",
       "    </tr>\n",
       "    <tr>\n",
       "      <th>4</th>\n",
       "      <td>850</td>\n",
       "      <td>Spain</td>\n",
       "      <td>Female</td>\n",
       "      <td>43</td>\n",
       "      <td>2.0</td>\n",
       "      <td>125510.82</td>\n",
       "      <td>1</td>\n",
       "      <td>1</td>\n",
       "      <td>1</td>\n",
       "      <td>79084.10</td>\n",
       "      <td>0</td>\n",
       "    </tr>\n",
       "  </tbody>\n",
       "</table>\n",
       "</div>"
      ],
      "text/plain": [
       "   CreditScore Geography  Gender  Age  Tenure    Balance  NumOfProducts  \\\n",
       "0          619    France  Female   42     2.0       0.00              1   \n",
       "1          608     Spain  Female   41     1.0   83807.86              1   \n",
       "2          502    France  Female   42     8.0  159660.80              3   \n",
       "3          699    France  Female   39     1.0       0.00              2   \n",
       "4          850     Spain  Female   43     2.0  125510.82              1   \n",
       "\n",
       "   HasCrCard  IsActiveMember  EstimatedSalary  Exited  \n",
       "0          1               1        101348.88       1  \n",
       "1          0               1        112542.58       0  \n",
       "2          1               0        113931.57       1  \n",
       "3          0               0         93826.63       0  \n",
       "4          1               1         79084.10       0  "
      ]
     },
     "execution_count": 9,
     "metadata": {},
     "output_type": "execute_result"
    }
   ],
   "source": [
    "#Обозначим новый датафрейм \"data_ml\" — данные для машинного обучения\n",
    "#Удалим столбцы-идентификаторы, не представляющие ценностия для алгоритма \n",
    "for_drop = ['RowNumber','CustomerId', 'Surname']\n",
    "data_ml = data.drop(for_drop, axis=1)\n",
    "data_ml.head()"
   ]
  },
  {
   "cell_type": "markdown",
   "metadata": {},
   "source": [
    "## Исследование задачи"
   ]
  },
  {
   "cell_type": "code",
   "execution_count": 10,
   "metadata": {},
   "outputs": [
    {
     "data": {
      "text/html": [
       "<div>\n",
       "<style scoped>\n",
       "    .dataframe tbody tr th:only-of-type {\n",
       "        vertical-align: middle;\n",
       "    }\n",
       "\n",
       "    .dataframe tbody tr th {\n",
       "        vertical-align: top;\n",
       "    }\n",
       "\n",
       "    .dataframe thead th {\n",
       "        text-align: right;\n",
       "    }\n",
       "</style>\n",
       "<table border=\"1\" class=\"dataframe\">\n",
       "  <thead>\n",
       "    <tr style=\"text-align: right;\">\n",
       "      <th></th>\n",
       "      <th>CreditScore</th>\n",
       "      <th>Age</th>\n",
       "      <th>Tenure</th>\n",
       "      <th>Balance</th>\n",
       "      <th>NumOfProducts</th>\n",
       "      <th>HasCrCard</th>\n",
       "      <th>IsActiveMember</th>\n",
       "      <th>EstimatedSalary</th>\n",
       "      <th>Exited</th>\n",
       "      <th>Geography_Germany</th>\n",
       "      <th>Geography_Spain</th>\n",
       "      <th>Gender_Male</th>\n",
       "    </tr>\n",
       "  </thead>\n",
       "  <tbody>\n",
       "    <tr>\n",
       "      <th>0</th>\n",
       "      <td>619</td>\n",
       "      <td>42</td>\n",
       "      <td>2.0</td>\n",
       "      <td>0.00</td>\n",
       "      <td>1</td>\n",
       "      <td>1</td>\n",
       "      <td>1</td>\n",
       "      <td>101348.88</td>\n",
       "      <td>1</td>\n",
       "      <td>0</td>\n",
       "      <td>0</td>\n",
       "      <td>0</td>\n",
       "    </tr>\n",
       "    <tr>\n",
       "      <th>1</th>\n",
       "      <td>608</td>\n",
       "      <td>41</td>\n",
       "      <td>1.0</td>\n",
       "      <td>83807.86</td>\n",
       "      <td>1</td>\n",
       "      <td>0</td>\n",
       "      <td>1</td>\n",
       "      <td>112542.58</td>\n",
       "      <td>0</td>\n",
       "      <td>0</td>\n",
       "      <td>1</td>\n",
       "      <td>0</td>\n",
       "    </tr>\n",
       "    <tr>\n",
       "      <th>2</th>\n",
       "      <td>502</td>\n",
       "      <td>42</td>\n",
       "      <td>8.0</td>\n",
       "      <td>159660.80</td>\n",
       "      <td>3</td>\n",
       "      <td>1</td>\n",
       "      <td>0</td>\n",
       "      <td>113931.57</td>\n",
       "      <td>1</td>\n",
       "      <td>0</td>\n",
       "      <td>0</td>\n",
       "      <td>0</td>\n",
       "    </tr>\n",
       "    <tr>\n",
       "      <th>3</th>\n",
       "      <td>699</td>\n",
       "      <td>39</td>\n",
       "      <td>1.0</td>\n",
       "      <td>0.00</td>\n",
       "      <td>2</td>\n",
       "      <td>0</td>\n",
       "      <td>0</td>\n",
       "      <td>93826.63</td>\n",
       "      <td>0</td>\n",
       "      <td>0</td>\n",
       "      <td>0</td>\n",
       "      <td>0</td>\n",
       "    </tr>\n",
       "    <tr>\n",
       "      <th>4</th>\n",
       "      <td>850</td>\n",
       "      <td>43</td>\n",
       "      <td>2.0</td>\n",
       "      <td>125510.82</td>\n",
       "      <td>1</td>\n",
       "      <td>1</td>\n",
       "      <td>1</td>\n",
       "      <td>79084.10</td>\n",
       "      <td>0</td>\n",
       "      <td>0</td>\n",
       "      <td>1</td>\n",
       "      <td>0</td>\n",
       "    </tr>\n",
       "  </tbody>\n",
       "</table>\n",
       "</div>"
      ],
      "text/plain": [
       "   CreditScore  Age  Tenure    Balance  NumOfProducts  HasCrCard  \\\n",
       "0          619   42     2.0       0.00              1          1   \n",
       "1          608   41     1.0   83807.86              1          0   \n",
       "2          502   42     8.0  159660.80              3          1   \n",
       "3          699   39     1.0       0.00              2          0   \n",
       "4          850   43     2.0  125510.82              1          1   \n",
       "\n",
       "   IsActiveMember  EstimatedSalary  Exited  Geography_Germany  \\\n",
       "0               1        101348.88       1                  0   \n",
       "1               1        112542.58       0                  0   \n",
       "2               0        113931.57       1                  0   \n",
       "3               0         93826.63       0                  0   \n",
       "4               1         79084.10       0                  0   \n",
       "\n",
       "   Geography_Spain  Gender_Male  \n",
       "0                0            0  \n",
       "1                1            0  \n",
       "2                0            0  \n",
       "3                0            0  \n",
       "4                1            0  "
      ]
     },
     "execution_count": 10,
     "metadata": {},
     "output_type": "execute_result"
    }
   ],
   "source": [
    "# Данные подготовлены методом OHE, позволит использовать разные модели и не словить дамми-ловушку\n",
    "data_ml = pd.get_dummies(data_ml, drop_first=True)\n",
    "data_ml.head()"
   ]
  },
  {
   "cell_type": "code",
   "execution_count": 11,
   "metadata": {},
   "outputs": [
    {
     "data": {
      "text/plain": [
       "(10000, 12)"
      ]
     },
     "execution_count": 11,
     "metadata": {},
     "output_type": "execute_result"
    }
   ],
   "source": [
    "data_ml.shape"
   ]
  },
  {
   "cell_type": "markdown",
   "metadata": {},
   "source": [
    "В новом датафрейме количество столбцов увеличелост на 1. Столбец 'Geography' содержал 3 класса, 'Gender_Male' 2 класса. В итоге получилось только 2 и 1 столбцов соответственно, что позволяет избежать дамми-ловушку."
   ]
  },
  {
   "cell_type": "code",
   "execution_count": 12,
   "metadata": {},
   "outputs": [],
   "source": [
    "#Разделим на признаки и целевой признак\n",
    "features = data_ml.drop('Exited', axis=1)\n",
    "target = data_ml['Exited']"
   ]
  },
  {
   "cell_type": "code",
   "execution_count": 13,
   "metadata": {},
   "outputs": [],
   "source": [
    "#Валидационная 60%\n",
    "features_train, features_validtest, target_train, target_validtest = train_test_split(features,\n",
    "                                                    target,\n",
    "                                                    train_size=0.6,\n",
    "                                                    random_state=12345)"
   ]
  },
  {
   "cell_type": "code",
   "execution_count": 14,
   "metadata": {},
   "outputs": [],
   "source": [
    "#Валидационная и тестовая по 20% от общей\n",
    "features_valid, features_test, target_valid, target_test = train_test_split(features_validtest,\n",
    "                                                    target_validtest,\n",
    "                                                    train_size=0.5,\n",
    "                                                    random_state=12345)"
   ]
  },
  {
   "cell_type": "markdown",
   "metadata": {},
   "source": [
    "Созданы выборки: обучающая - 60, валидационная - 20 и тестовая - 20."
   ]
  },
  {
   "cell_type": "code",
   "execution_count": 15,
   "metadata": {},
   "outputs": [],
   "source": [
    "#Для масштабирования методом scaler зафиксируем численные признаки\n",
    "numeric = ['CreditScore', 'Age', 'Tenure', 'Balance', 'NumOfProducts', 'EstimatedSalary']"
   ]
  },
  {
   "cell_type": "code",
   "execution_count": 16,
   "metadata": {},
   "outputs": [
    {
     "data": {
      "text/plain": [
       "StandardScaler()"
      ]
     },
     "execution_count": 16,
     "metadata": {},
     "output_type": "execute_result"
    }
   ],
   "source": [
    "scaler = StandardScaler()\n",
    "scaler.fit(features_train[numeric])"
   ]
  },
  {
   "cell_type": "code",
   "execution_count": 17,
   "metadata": {},
   "outputs": [
    {
     "data": {
      "text/html": [
       "<div>\n",
       "<style scoped>\n",
       "    .dataframe tbody tr th:only-of-type {\n",
       "        vertical-align: middle;\n",
       "    }\n",
       "\n",
       "    .dataframe tbody tr th {\n",
       "        vertical-align: top;\n",
       "    }\n",
       "\n",
       "    .dataframe thead th {\n",
       "        text-align: right;\n",
       "    }\n",
       "</style>\n",
       "<table border=\"1\" class=\"dataframe\">\n",
       "  <thead>\n",
       "    <tr style=\"text-align: right;\">\n",
       "      <th></th>\n",
       "      <th>CreditScore</th>\n",
       "      <th>Age</th>\n",
       "      <th>Tenure</th>\n",
       "      <th>Balance</th>\n",
       "      <th>NumOfProducts</th>\n",
       "      <th>HasCrCard</th>\n",
       "      <th>IsActiveMember</th>\n",
       "      <th>EstimatedSalary</th>\n",
       "      <th>Geography_Germany</th>\n",
       "      <th>Geography_Spain</th>\n",
       "      <th>Gender_Male</th>\n",
       "    </tr>\n",
       "  </thead>\n",
       "  <tbody>\n",
       "    <tr>\n",
       "      <th>7479</th>\n",
       "      <td>-0.886751</td>\n",
       "      <td>-0.373192</td>\n",
       "      <td>1.082277</td>\n",
       "      <td>1.232271</td>\n",
       "      <td>-0.891560</td>\n",
       "      <td>1</td>\n",
       "      <td>0</td>\n",
       "      <td>-0.187705</td>\n",
       "      <td>0</td>\n",
       "      <td>1</td>\n",
       "      <td>1</td>\n",
       "    </tr>\n",
       "    <tr>\n",
       "      <th>3411</th>\n",
       "      <td>0.608663</td>\n",
       "      <td>-0.183385</td>\n",
       "      <td>1.082277</td>\n",
       "      <td>0.600563</td>\n",
       "      <td>-0.891560</td>\n",
       "      <td>0</td>\n",
       "      <td>0</td>\n",
       "      <td>-0.333945</td>\n",
       "      <td>0</td>\n",
       "      <td>0</td>\n",
       "      <td>0</td>\n",
       "    </tr>\n",
       "    <tr>\n",
       "      <th>6027</th>\n",
       "      <td>2.052152</td>\n",
       "      <td>0.480939</td>\n",
       "      <td>-0.737696</td>\n",
       "      <td>1.027098</td>\n",
       "      <td>0.830152</td>\n",
       "      <td>0</td>\n",
       "      <td>1</td>\n",
       "      <td>1.503095</td>\n",
       "      <td>1</td>\n",
       "      <td>0</td>\n",
       "      <td>1</td>\n",
       "    </tr>\n",
       "    <tr>\n",
       "      <th>1247</th>\n",
       "      <td>-1.457915</td>\n",
       "      <td>-1.417129</td>\n",
       "      <td>0.354288</td>\n",
       "      <td>-1.233163</td>\n",
       "      <td>0.830152</td>\n",
       "      <td>1</td>\n",
       "      <td>0</td>\n",
       "      <td>-1.071061</td>\n",
       "      <td>0</td>\n",
       "      <td>0</td>\n",
       "      <td>1</td>\n",
       "    </tr>\n",
       "    <tr>\n",
       "      <th>3716</th>\n",
       "      <td>0.130961</td>\n",
       "      <td>-1.132419</td>\n",
       "      <td>-1.101690</td>\n",
       "      <td>1.140475</td>\n",
       "      <td>-0.891560</td>\n",
       "      <td>0</td>\n",
       "      <td>0</td>\n",
       "      <td>1.524268</td>\n",
       "      <td>1</td>\n",
       "      <td>0</td>\n",
       "      <td>0</td>\n",
       "    </tr>\n",
       "  </tbody>\n",
       "</table>\n",
       "</div>"
      ],
      "text/plain": [
       "      CreditScore       Age    Tenure   Balance  NumOfProducts  HasCrCard  \\\n",
       "7479    -0.886751 -0.373192  1.082277  1.232271      -0.891560          1   \n",
       "3411     0.608663 -0.183385  1.082277  0.600563      -0.891560          0   \n",
       "6027     2.052152  0.480939 -0.737696  1.027098       0.830152          0   \n",
       "1247    -1.457915 -1.417129  0.354288 -1.233163       0.830152          1   \n",
       "3716     0.130961 -1.132419 -1.101690  1.140475      -0.891560          0   \n",
       "\n",
       "      IsActiveMember  EstimatedSalary  Geography_Germany  Geography_Spain  \\\n",
       "7479               0        -0.187705                  0                1   \n",
       "3411               0        -0.333945                  0                0   \n",
       "6027               1         1.503095                  1                0   \n",
       "1247               0        -1.071061                  0                0   \n",
       "3716               0         1.524268                  1                0   \n",
       "\n",
       "      Gender_Male  \n",
       "7479            1  \n",
       "3411            0  \n",
       "6027            1  \n",
       "1247            1  \n",
       "3716            0  "
      ]
     },
     "execution_count": 17,
     "metadata": {},
     "output_type": "execute_result"
    }
   ],
   "source": [
    "#Масштабируем численные признаки обучающей выборки\n",
    "features_train[numeric] = scaler.transform(features_train[numeric])\n",
    "features_train.head()"
   ]
  },
  {
   "cell_type": "code",
   "execution_count": 18,
   "metadata": {},
   "outputs": [
    {
     "data": {
      "text/html": [
       "<div>\n",
       "<style scoped>\n",
       "    .dataframe tbody tr th:only-of-type {\n",
       "        vertical-align: middle;\n",
       "    }\n",
       "\n",
       "    .dataframe tbody tr th {\n",
       "        vertical-align: top;\n",
       "    }\n",
       "\n",
       "    .dataframe thead th {\n",
       "        text-align: right;\n",
       "    }\n",
       "</style>\n",
       "<table border=\"1\" class=\"dataframe\">\n",
       "  <thead>\n",
       "    <tr style=\"text-align: right;\">\n",
       "      <th></th>\n",
       "      <th>CreditScore</th>\n",
       "      <th>Age</th>\n",
       "      <th>Tenure</th>\n",
       "      <th>Balance</th>\n",
       "      <th>NumOfProducts</th>\n",
       "      <th>HasCrCard</th>\n",
       "      <th>IsActiveMember</th>\n",
       "      <th>EstimatedSalary</th>\n",
       "      <th>Geography_Germany</th>\n",
       "      <th>Geography_Spain</th>\n",
       "      <th>Gender_Male</th>\n",
       "    </tr>\n",
       "  </thead>\n",
       "  <tbody>\n",
       "    <tr>\n",
       "      <th>8532</th>\n",
       "      <td>-0.699824</td>\n",
       "      <td>-0.373192</td>\n",
       "      <td>-1.101690</td>\n",
       "      <td>-1.233163</td>\n",
       "      <td>0.830152</td>\n",
       "      <td>1</td>\n",
       "      <td>0</td>\n",
       "      <td>-0.015173</td>\n",
       "      <td>0</td>\n",
       "      <td>0</td>\n",
       "      <td>0</td>\n",
       "    </tr>\n",
       "    <tr>\n",
       "      <th>5799</th>\n",
       "      <td>-0.284431</td>\n",
       "      <td>0.575842</td>\n",
       "      <td>-0.737696</td>\n",
       "      <td>-1.233163</td>\n",
       "      <td>-0.891560</td>\n",
       "      <td>1</td>\n",
       "      <td>1</td>\n",
       "      <td>1.471724</td>\n",
       "      <td>0</td>\n",
       "      <td>0</td>\n",
       "      <td>0</td>\n",
       "    </tr>\n",
       "    <tr>\n",
       "      <th>5511</th>\n",
       "      <td>0.151731</td>\n",
       "      <td>-0.657902</td>\n",
       "      <td>-1.829679</td>\n",
       "      <td>0.438711</td>\n",
       "      <td>-0.891560</td>\n",
       "      <td>1</td>\n",
       "      <td>0</td>\n",
       "      <td>-1.367107</td>\n",
       "      <td>1</td>\n",
       "      <td>0</td>\n",
       "      <td>1</td>\n",
       "    </tr>\n",
       "    <tr>\n",
       "      <th>7365</th>\n",
       "      <td>-0.876366</td>\n",
       "      <td>-0.278288</td>\n",
       "      <td>1.810266</td>\n",
       "      <td>1.239884</td>\n",
       "      <td>-0.891560</td>\n",
       "      <td>1</td>\n",
       "      <td>1</td>\n",
       "      <td>-0.786517</td>\n",
       "      <td>0</td>\n",
       "      <td>1</td>\n",
       "      <td>0</td>\n",
       "    </tr>\n",
       "    <tr>\n",
       "      <th>7367</th>\n",
       "      <td>-0.481743</td>\n",
       "      <td>0.291132</td>\n",
       "      <td>1.810266</td>\n",
       "      <td>-1.233163</td>\n",
       "      <td>0.830152</td>\n",
       "      <td>1</td>\n",
       "      <td>0</td>\n",
       "      <td>1.358533</td>\n",
       "      <td>0</td>\n",
       "      <td>1</td>\n",
       "      <td>1</td>\n",
       "    </tr>\n",
       "  </tbody>\n",
       "</table>\n",
       "</div>"
      ],
      "text/plain": [
       "      CreditScore       Age    Tenure   Balance  NumOfProducts  HasCrCard  \\\n",
       "8532    -0.699824 -0.373192 -1.101690 -1.233163       0.830152          1   \n",
       "5799    -0.284431  0.575842 -0.737696 -1.233163      -0.891560          1   \n",
       "5511     0.151731 -0.657902 -1.829679  0.438711      -0.891560          1   \n",
       "7365    -0.876366 -0.278288  1.810266  1.239884      -0.891560          1   \n",
       "7367    -0.481743  0.291132  1.810266 -1.233163       0.830152          1   \n",
       "\n",
       "      IsActiveMember  EstimatedSalary  Geography_Germany  Geography_Spain  \\\n",
       "8532               0        -0.015173                  0                0   \n",
       "5799               1         1.471724                  0                0   \n",
       "5511               0        -1.367107                  1                0   \n",
       "7365               1        -0.786517                  0                1   \n",
       "7367               0         1.358533                  0                1   \n",
       "\n",
       "      Gender_Male  \n",
       "8532            0  \n",
       "5799            0  \n",
       "5511            1  \n",
       "7365            0  \n",
       "7367            1  "
      ]
     },
     "execution_count": 18,
     "metadata": {},
     "output_type": "execute_result"
    }
   ],
   "source": [
    "#Масштабируем численные признаки валидационной выборки \n",
    "features_valid[numeric] = scaler.transform(features_valid[numeric])\n",
    "features_valid.head()"
   ]
  },
  {
   "cell_type": "code",
   "execution_count": 19,
   "metadata": {},
   "outputs": [
    {
     "data": {
      "text/html": [
       "<div>\n",
       "<style scoped>\n",
       "    .dataframe tbody tr th:only-of-type {\n",
       "        vertical-align: middle;\n",
       "    }\n",
       "\n",
       "    .dataframe tbody tr th {\n",
       "        vertical-align: top;\n",
       "    }\n",
       "\n",
       "    .dataframe thead th {\n",
       "        text-align: right;\n",
       "    }\n",
       "</style>\n",
       "<table border=\"1\" class=\"dataframe\">\n",
       "  <thead>\n",
       "    <tr style=\"text-align: right;\">\n",
       "      <th></th>\n",
       "      <th>CreditScore</th>\n",
       "      <th>Age</th>\n",
       "      <th>Tenure</th>\n",
       "      <th>Balance</th>\n",
       "      <th>NumOfProducts</th>\n",
       "      <th>HasCrCard</th>\n",
       "      <th>IsActiveMember</th>\n",
       "      <th>EstimatedSalary</th>\n",
       "      <th>Geography_Germany</th>\n",
       "      <th>Geography_Spain</th>\n",
       "      <th>Gender_Male</th>\n",
       "    </tr>\n",
       "  </thead>\n",
       "  <tbody>\n",
       "    <tr>\n",
       "      <th>7041</th>\n",
       "      <td>-2.226392</td>\n",
       "      <td>-0.088482</td>\n",
       "      <td>-1.101690</td>\n",
       "      <td>-1.233163</td>\n",
       "      <td>0.830152</td>\n",
       "      <td>1</td>\n",
       "      <td>0</td>\n",
       "      <td>0.647083</td>\n",
       "      <td>0</td>\n",
       "      <td>0</td>\n",
       "      <td>1</td>\n",
       "    </tr>\n",
       "    <tr>\n",
       "      <th>5709</th>\n",
       "      <td>-0.087120</td>\n",
       "      <td>0.006422</td>\n",
       "      <td>1.446272</td>\n",
       "      <td>-1.233163</td>\n",
       "      <td>-0.891560</td>\n",
       "      <td>1</td>\n",
       "      <td>0</td>\n",
       "      <td>-1.658410</td>\n",
       "      <td>0</td>\n",
       "      <td>0</td>\n",
       "      <td>0</td>\n",
       "    </tr>\n",
       "    <tr>\n",
       "      <th>7117</th>\n",
       "      <td>-0.917905</td>\n",
       "      <td>-0.752805</td>\n",
       "      <td>-0.009707</td>\n",
       "      <td>0.722307</td>\n",
       "      <td>-0.891560</td>\n",
       "      <td>1</td>\n",
       "      <td>1</td>\n",
       "      <td>-1.369334</td>\n",
       "      <td>0</td>\n",
       "      <td>1</td>\n",
       "      <td>1</td>\n",
       "    </tr>\n",
       "    <tr>\n",
       "      <th>7775</th>\n",
       "      <td>-0.253277</td>\n",
       "      <td>0.101325</td>\n",
       "      <td>1.810266</td>\n",
       "      <td>-1.233163</td>\n",
       "      <td>0.830152</td>\n",
       "      <td>1</td>\n",
       "      <td>0</td>\n",
       "      <td>0.075086</td>\n",
       "      <td>0</td>\n",
       "      <td>1</td>\n",
       "      <td>1</td>\n",
       "    </tr>\n",
       "    <tr>\n",
       "      <th>8735</th>\n",
       "      <td>0.785204</td>\n",
       "      <td>-0.847708</td>\n",
       "      <td>1.810266</td>\n",
       "      <td>0.615625</td>\n",
       "      <td>-0.891560</td>\n",
       "      <td>0</td>\n",
       "      <td>1</td>\n",
       "      <td>-1.070919</td>\n",
       "      <td>0</td>\n",
       "      <td>0</td>\n",
       "      <td>1</td>\n",
       "    </tr>\n",
       "  </tbody>\n",
       "</table>\n",
       "</div>"
      ],
      "text/plain": [
       "      CreditScore       Age    Tenure   Balance  NumOfProducts  HasCrCard  \\\n",
       "7041    -2.226392 -0.088482 -1.101690 -1.233163       0.830152          1   \n",
       "5709    -0.087120  0.006422  1.446272 -1.233163      -0.891560          1   \n",
       "7117    -0.917905 -0.752805 -0.009707  0.722307      -0.891560          1   \n",
       "7775    -0.253277  0.101325  1.810266 -1.233163       0.830152          1   \n",
       "8735     0.785204 -0.847708  1.810266  0.615625      -0.891560          0   \n",
       "\n",
       "      IsActiveMember  EstimatedSalary  Geography_Germany  Geography_Spain  \\\n",
       "7041               0         0.647083                  0                0   \n",
       "5709               0        -1.658410                  0                0   \n",
       "7117               1        -1.369334                  0                1   \n",
       "7775               0         0.075086                  0                1   \n",
       "8735               1        -1.070919                  0                0   \n",
       "\n",
       "      Gender_Male  \n",
       "7041            1  \n",
       "5709            0  \n",
       "7117            1  \n",
       "7775            1  \n",
       "8735            1  "
      ]
     },
     "execution_count": 19,
     "metadata": {},
     "output_type": "execute_result"
    }
   ],
   "source": [
    "#Масштабируем численные признаки тестовой выборки \n",
    "features_test[numeric] = scaler.transform(features_test[numeric])\n",
    "features_test.head()"
   ]
  },
  {
   "cell_type": "markdown",
   "metadata": {},
   "source": [
    "В результате мы получили масштабированные признаки для трех выборок. Перейдем к обучению моделей."
   ]
  },
  {
   "cell_type": "code",
   "execution_count": 20,
   "metadata": {},
   "outputs": [],
   "source": [
    "def all_models_accuracy(features_train, target_train, features_valid, target_valid):\n",
    "    model_DTC = DecisionTreeClassifier(random_state=1515)\n",
    "    DTC_score = model_DTC.fit(features_train, target_train).score(features_valid, target_valid)\n",
    "    \n",
    "    model_RFC = RandomForestClassifier(max_depth=7, n_estimators=43, min_samples_leaf=3, random_state=1515)\n",
    "    RFC_score = model_RFC.fit(features_train, target_train).score(features_valid, target_valid)\n",
    "    \n",
    "    model_LgR = LogisticRegression(solver = 'liblinear')\n",
    "    LgR_score = model_LgR.fit(features_train, target_train).score(features_valid, target_valid)\n",
    "    print(\"Точность:\" \"дерево решений\", DTC_score, \"случайный лес \", RFC_score, \"логистческая регрессия\", LgR_score)"
   ]
  },
  {
   "cell_type": "code",
   "execution_count": 21,
   "metadata": {},
   "outputs": [
    {
     "name": "stdout",
     "output_type": "stream",
     "text": [
      "Точность:дерево решений 0.79 случайный лес  0.8585 логистческая регрессия 0.802\n"
     ]
    }
   ],
   "source": [
    "all_models_accuracy(features_train, target_train, features_valid, target_valid)"
   ]
  },
  {
   "cell_type": "markdown",
   "metadata": {},
   "source": [
    "Исследование баланса классов выборки."
   ]
  },
  {
   "cell_type": "code",
   "execution_count": 22,
   "metadata": {},
   "outputs": [
    {
     "data": {
      "text/plain": [
       "0    0.800667\n",
       "1    0.199333\n",
       "Name: Exited, dtype: float64"
      ]
     },
     "execution_count": 22,
     "metadata": {},
     "output_type": "execute_result"
    }
   ],
   "source": [
    "target_train.value_counts(normalize = 1)"
   ]
  },
  {
   "cell_type": "code",
   "execution_count": 23,
   "metadata": {},
   "outputs": [
    {
     "data": {
      "image/png": "[encoded data removed]",
      "text/plain": [
       "<Figure size 72x72 with 1 Axes>"
      ]
     },
     "metadata": {
      "needs_background": "light"
     },
     "output_type": "display_data"
    }
   ],
   "source": [
    "# Диаграмма баланса классов\n",
    "target_train.plot(kind ='hist', bins=2, figsize=(1,1));"
   ]
  },
  {
   "cell_type": "markdown",
   "metadata": {},
   "source": [
    "В имеющейся выборке отрицательных ответов около 80% , положитительных около 20%. Имеется дисбаланс."
   ]
  },
  {
   "cell_type": "markdown",
   "metadata": {},
   "source": [
    "Проверим качество моделей до борьбы с дисбалансом"
   ]
  },
  {
   "cell_type": "code",
   "execution_count": 24,
   "metadata": {},
   "outputs": [],
   "source": [
    "#Заранее напишем функцию для изучия полноты, точности и F1-меры\n",
    "def rec_prec_f1(target_valid, prediction):\n",
    "    print(\"Полнота\" , recall_score(target_valid, prediction))\n",
    "    print(\"Точность\", precision_score(target_valid, prediction))\n",
    "    print(\"F1-мера\", f1_score(target_valid, prediction))"
   ]
  },
  {
   "cell_type": "code",
   "execution_count": 25,
   "metadata": {},
   "outputs": [],
   "source": [
    "# Функция для отображения соотношения ответов моделей (сколько 0, сколько 1)\n",
    "def all_models_share(features_train, target_train, features_valid, target_valid):\n",
    "    model_DTC = DecisionTreeClassifier(random_state=1515)\n",
    "    model_DTC.fit(features_train, target_train)\n",
    "    DTC_share = pd.Series(model_DTC.predict(features_valid)).value_counts(normalize = 1)\n",
    "    \n",
    "    \n",
    "    \n",
    "    model_RFC = RandomForestClassifier(random_state=1515, n_estimators = 100)\n",
    "    model_RFC.fit(features_train, target_train)\n",
    "    RFC_share = pd.Series(model_RFC.predict(features_valid)).value_counts(normalize = 1)\n",
    "    \n",
    "    model_LgR = LogisticRegression(solver = 'liblinear')\n",
    "    model_LgR.fit(features_train, target_train)\n",
    "    LgR_share = pd.Series(model_LgR.predict(features_valid)).value_counts(normalize = 1)\n",
    "    \n",
    "\n",
    "    \n",
    "    print(\"Доли ответов:\" \"Дерево решений\", DTC_share, \"Случайный лес \", RFC_share, \"Логистческая регрессия\", LgR_share , end='')"
   ]
  },
  {
   "cell_type": "code",
   "execution_count": 26,
   "metadata": {},
   "outputs": [
    {
     "name": "stdout",
     "output_type": "stream",
     "text": [
      "Доли ответов:Дерево решений 0    0.795\n",
      "1    0.205\n",
      "dtype: float64 Случайный лес  0    0.874\n",
      "1    0.126\n",
      "dtype: float64 Логистческая регрессия 0    0.913\n",
      "1    0.087\n",
      "dtype: float64"
     ]
    }
   ],
   "source": [
    "#Применим функцию отображения соотношения ответов моделей\n",
    "all_models_share(features_train, target_train, features_valid, target_valid)"
   ]
  },
  {
   "cell_type": "markdown",
   "metadata": {},
   "source": [
    "Логистичесая регрессия выдает самую высокую точность, затем Случайный лес и после Дерево решений.\n",
    "\n",
    "С учетом дисбаланса результата модели с большой вероятностью будут выдавать ответ 0, построим матрицы ошибок для моделей."
   ]
  },
  {
   "cell_type": "code",
   "execution_count": 27,
   "metadata": {},
   "outputs": [
    {
     "data": {
      "text/plain": [
       "array([[1526,   56],\n",
       "       [ 222,  196]])"
      ]
     },
     "execution_count": 27,
     "metadata": {},
     "output_type": "execute_result"
    }
   ],
   "source": [
    "# Случайный лес\n",
    "model_RFC = RandomForestClassifier(random_state=1515, n_estimators = 100)\n",
    "model_RFC.fit(features_train, target_train)\n",
    "RFC_prediction = model_RFC.predict(features_valid)\n",
    "confusion_matrix(target_valid, RFC_prediction)"
   ]
  },
  {
   "cell_type": "code",
   "execution_count": 28,
   "metadata": {},
   "outputs": [
    {
     "name": "stdout",
     "output_type": "stream",
     "text": [
      "Полнота 0.4688995215311005\n",
      "Точность 0.7777777777777778\n",
      "F1-мера 0.5850746268656717\n"
     ]
    }
   ],
   "source": [
    "rec_prec_f1(target_valid, RFC_prediction)"
   ]
  },
  {
   "cell_type": "code",
   "execution_count": 29,
   "metadata": {},
   "outputs": [
    {
     "data": {
      "text/plain": [
       "0.8383821581306443"
      ]
     },
     "execution_count": 29,
     "metadata": {},
     "output_type": "execute_result"
    }
   ],
   "source": [
    "#Расчет roc_auc_RFC\n",
    "RFC_probabilities_one_valid = model_RFC.predict_proba(features_valid)[:, 1]\n",
    "\n",
    "auc_roc_RFC = roc_auc_score(target_valid, RFC_probabilities_one_valid)\n",
    "\n",
    "auc_roc_RFC"
   ]
  },
  {
   "cell_type": "code",
   "execution_count": 30,
   "metadata": {},
   "outputs": [
    {
     "name": "stdout",
     "output_type": "stream",
     "text": [
      "max_depth: 1 F1: 0.0\n",
      "max_depth: 2 F1: 0.5217391304347825\n",
      "max_depth: 3 F1: 0.4234875444839857\n",
      "max_depth: 4 F1: 0.5528700906344411\n",
      "max_depth: 5 F1: 0.5406249999999999\n",
      "max_depth: 6 F1: 0.56752655538695\n",
      "max_depth: 7 F1: 0.5485362095531587\n",
      "max_depth: 8 F1: 0.5418569254185692\n",
      "max_depth: 9 F1: 0.5577464788732395\n"
     ]
    }
   ],
   "source": [
    "# Циклом ищем лучший гиперпораметр max_depth\n",
    "\n",
    "for depth in range(1,10,1):\n",
    "    model_tree=DecisionTreeClassifier(max_depth=depth,random_state=1234).fit(features_train, target_train)\n",
    "    prediction=model_tree.predict(features_valid)\n",
    "    print('max_depth:',depth,'F1:',f1_score(target_valid,prediction))"
   ]
  },
  {
   "cell_type": "markdown",
   "metadata": {},
   "source": [
    "Лучшее значение max_depth=6, при котором F1=0.567"
   ]
  },
  {
   "cell_type": "code",
   "execution_count": 31,
   "metadata": {},
   "outputs": [
    {
     "name": "stdout",
     "output_type": "stream",
     "text": [
      "max_depth: 1 F1: 0.0\n",
      "max_depth: 2 F1: 0.20085470085470084\n",
      "max_depth: 3 F1: 0.23651452282157678\n",
      "max_depth: 4 F1: 0.35984848484848486\n",
      "max_depth: 5 F1: 0.4786324786324787\n",
      "max_depth: 6 F1: 0.5271828665568369\n",
      "max_depth: 7 F1: 0.540453074433657\n",
      "max_depth: 8 F1: 0.5641838351822503\n",
      "max_depth: 9 F1: 0.5696202531645569\n",
      "max_depth: 10 F1: 0.5727848101265823\n",
      "max_depth: 11 F1: 0.5696969696969697\n",
      "max_depth: 12 F1: 0.5652173913043478\n",
      "max_depth: 13 F1: 0.5649546827794562\n",
      "max_depth: 14 F1: 0.5714285714285714\n",
      "max_depth: 15 F1: 0.5907046476761619\n",
      "max_depth: 16 F1: 0.5824665676077266\n",
      "max_depth: 17 F1: 0.5761194029850746\n",
      "max_depth: 18 F1: 0.5803571428571428\n",
      "max_depth: 19 F1: 0.5709969788519637\n"
     ]
    }
   ],
   "source": [
    "# Циклом ищем лучший гиперпораметр max_depth\n",
    "\n",
    "for max_depth in range(1,20,1):\n",
    "    model_forest=RandomForestClassifier(max_depth=max_depth,n_estimators=50,random_state=1234).fit(features_train, target_train)\n",
    "    prediction=model_forest.predict(features_valid)\n",
    "    print('max_depth:',max_depth,'F1:',f1_score(target_valid,prediction))"
   ]
  },
  {
   "cell_type": "markdown",
   "metadata": {},
   "source": [
    "Лучшее значение max_depth=19, при котором F1=0.594"
   ]
  },
  {
   "cell_type": "code",
   "execution_count": 32,
   "metadata": {},
   "outputs": [
    {
     "name": "stdout",
     "output_type": "stream",
     "text": [
      "estim 1 F1: 0.49821215733015495\n",
      "estim 3 F1: 0.5424657534246575\n",
      "estim 5 F1: 0.5348189415041783\n",
      "estim 7 F1: 0.5542857142857143\n",
      "estim 9 F1: 0.5714285714285714\n",
      "estim 11 F1: 0.5710186513629841\n",
      "estim 13 F1: 0.5701881331403763\n",
      "estim 15 F1: 0.5735080058224163\n",
      "estim 17 F1: 0.5714285714285714\n",
      "estim 19 F1: 0.5726872246696035\n",
      "estim 21 F1: 0.5714285714285715\n",
      "estim 23 F1: 0.5739644970414202\n",
      "estim 25 F1: 0.5773195876288659\n",
      "estim 27 F1: 0.5828402366863905\n",
      "estim 29 F1: 0.5828402366863905\n",
      "estim 31 F1: 0.5765230312035662\n",
      "estim 33 F1: 0.5748148148148149\n",
      "estim 35 F1: 0.5735512630014858\n",
      "estim 37 F1: 0.56973293768546\n",
      "estim 39 F1: 0.5710059171597633\n",
      "estim 41 F1: 0.5680473372781065\n",
      "estim 43 F1: 0.5701624815361891\n",
      "estim 45 F1: 0.5663189269746647\n",
      "estim 47 F1: 0.5646359583952452\n",
      "estim 49 F1: 0.5637181409295353\n"
     ]
    }
   ],
   "source": [
    "# Циклом подбираем гиперпораметр n_estimators (количество деревьев)\n",
    "for estim in range(1,50,2):\n",
    "    model_forest=RandomForestClassifier(max_depth=19,n_estimators=estim,random_state=1234).fit(features_train, target_train)\n",
    "    prediction=model_forest.predict(features_valid)\n",
    "    print('estim',estim,'F1:',f1_score(target_valid,prediction))"
   ]
  },
  {
   "cell_type": "markdown",
   "metadata": {},
   "source": [
    "Лучшее значение max_depth=19 и n_estimators=19 при котором F1=0.588"
   ]
  },
  {
   "cell_type": "code",
   "execution_count": 33,
   "metadata": {},
   "outputs": [
    {
     "name": "stdout",
     "output_type": "stream",
     "text": [
      "F1: 0.33108108108108103\n"
     ]
    }
   ],
   "source": [
    "model_logistic=LogisticRegression().fit(features_train, target_train)\n",
    "prediction=model_logistic.predict(features_valid)\n",
    "print('F1:',f1_score(target_valid,prediction))"
   ]
  },
  {
   "cell_type": "markdown",
   "metadata": {},
   "source": [
    "F1 = 0.331"
   ]
  },
  {
   "cell_type": "markdown",
   "metadata": {},
   "source": [
    "Случайный лес имеет примерно равную пропорцию позитивных и негативных предсказаний, выдает заметно больше качественных предсказаний, но также сильно склоняется к ложно позитивным предсказаниям (FP). Точность и качество также низкое."
   ]
  },
  {
   "cell_type": "code",
   "execution_count": 34,
   "metadata": {},
   "outputs": [
    {
     "data": {
      "text/plain": [
       "array([[1376,  206],\n",
       "       [ 214,  204]])"
      ]
     },
     "execution_count": 34,
     "metadata": {},
     "output_type": "execute_result"
    }
   ],
   "source": [
    "#Матрица ошибок для дерево решений\n",
    "model_DTC = DecisionTreeClassifier(random_state=1515)\n",
    "model_DTC.fit(features_train, target_train)\n",
    "DTC_prediction = model_DTC.predict(features_valid)\n",
    "confusion_matrix(target_valid, DTC_prediction)"
   ]
  },
  {
   "cell_type": "markdown",
   "metadata": {},
   "source": [
    "Матрица показала, что Дерево решений склонно выдавать позитивные предсказания, очень высокое количество ложных позитивных предсказания (FP)."
   ]
  },
  {
   "cell_type": "code",
   "execution_count": 35,
   "metadata": {},
   "outputs": [
    {
     "name": "stdout",
     "output_type": "stream",
     "text": [
      "Полнота 0.4880382775119617\n",
      "Точность 0.4975609756097561\n",
      "F1-мера 0.49275362318840576\n"
     ]
    }
   ],
   "source": [
    "rec_prec_f1(target_valid, DTC_prediction)"
   ]
  },
  {
   "cell_type": "code",
   "execution_count": 36,
   "metadata": {},
   "outputs": [
    {
     "data": {
      "text/plain": [
       "0.6789116798432122"
      ]
     },
     "execution_count": 36,
     "metadata": {},
     "output_type": "execute_result"
    }
   ],
   "source": [
    "#Расчет roc_auc_DTC\n",
    "DTC_probabilities_one_valid = model_DTC.predict_proba(features_valid)[:, 1]\n",
    "\n",
    "auc_roc_DTC = roc_auc_score(target_valid, DTC_probabilities_one_valid)\n",
    "\n",
    "auc_roc_DTC"
   ]
  },
  {
   "cell_type": "markdown",
   "metadata": {},
   "source": [
    "Низкое значение F1, следовательно низкое качество модели, проблема в точности."
   ]
  },
  {
   "cell_type": "code",
   "execution_count": 37,
   "metadata": {},
   "outputs": [
    {
     "data": {
      "text/plain": [
       "array([[1506,   76],\n",
       "       [ 320,   98]])"
      ]
     },
     "execution_count": 37,
     "metadata": {},
     "output_type": "execute_result"
    }
   ],
   "source": [
    "#Матрица ошибок для логистической регрессии\n",
    "model_LgR = LogisticRegression(solver = 'liblinear')\n",
    "model_LgR.fit(features_train, target_train)\n",
    "LgR_prediction = model_LgR.predict(features_valid)\n",
    "confusion_matrix(target_valid, LgR_prediction)"
   ]
  },
  {
   "cell_type": "code",
   "execution_count": 38,
   "metadata": {},
   "outputs": [
    {
     "name": "stdout",
     "output_type": "stream",
     "text": [
      "Полнота 0.23444976076555024\n",
      "Точность 0.5632183908045977\n",
      "F1-мера 0.33108108108108103\n"
     ]
    }
   ],
   "source": [
    "rec_prec_f1(target_valid, LgR_prediction)"
   ]
  },
  {
   "cell_type": "code",
   "execution_count": 39,
   "metadata": {},
   "outputs": [
    {
     "data": {
      "text/plain": [
       "0.7587512627102753"
      ]
     },
     "execution_count": 39,
     "metadata": {},
     "output_type": "execute_result"
    }
   ],
   "source": [
    "#Для логистической регрессии расчитаем метрику AUC-ROC\n",
    "LgR_probabilities_one_valid = model_LgR.predict_proba(features_valid)[:, 1]\n",
    "\n",
    "auc_roc_LgR = roc_auc_score(target_valid, LgR_probabilities_one_valid)\n",
    "\n",
    "auc_roc_LgR"
   ]
  },
  {
   "cell_type": "code",
   "execution_count": 40,
   "metadata": {},
   "outputs": [],
   "source": [
    "def plot_roc_curve(fper, tper):\n",
    "    plt.plot(fper, tper, color='red', label='ROC')\n",
    "    plt.plot([0, 1], [0, 1], color='green', linestyle='--')\n",
    "    plt.xlim([0.0, 1.0])\n",
    "    plt.ylim([0.0, 1.0])\n",
    "    plt.xlabel('False Positive Rate')\n",
    "    plt.ylabel('True Positive Rate')\n",
    "    plt.title('ROC-кривая')\n",
    "    plt.legend()\n",
    "    plt.show()"
   ]
  },
  {
   "cell_type": "code",
   "execution_count": 41,
   "metadata": {},
   "outputs": [
    {
     "data": {
      "image/png": "[encoded data removed]",
      "text/plain": [
       "<Figure size 432x288 with 1 Axes>"
      ]
     },
     "metadata": {
      "needs_background": "light"
     },
     "output_type": "display_data"
    }
   ],
   "source": [
    "fper, tper, thresholds = roc_curve(target_valid, LgR_probabilities_one_valid)\n",
    "plot_roc_curve(fper, tper)"
   ]
  },
  {
   "cell_type": "code",
   "execution_count": 42,
   "metadata": {},
   "outputs": [
    {
     "name": "stdout",
     "output_type": "stream",
     "text": [
      "Score 0.802\n",
      "AUC-ROC 0.7587512627102753\n"
     ]
    },
    {
     "data": {
      "image/png": "[encoded data removed]",
      "text/plain": [
       "<Figure size 432x288 with 1 Axes>"
      ]
     },
     "metadata": {
      "needs_background": "light"
     },
     "output_type": "display_data"
    }
   ],
   "source": [
    "#Попробуем обучать логистическую регресию, сбалансировав классы\n",
    "model_LgR = LogisticRegression(solver = 'liblinear')\n",
    "model_LgR.fit(features_train, target_train)\n",
    "LgR_probabilities_one_valid_class_weight = model_LgR.predict_proba(features_valid)[:, 1]\n",
    "print(\"Score\", model_LgR.score(features_valid, target_valid))\n",
    "print(\"AUC-ROC\", roc_auc_score(target_valid, LgR_probabilities_one_valid_class_weight))\n",
    "\n",
    "fper, tper, thresholds = roc_curve(target_valid, LgR_probabilities_one_valid_class_weight) \n",
    "plot_roc_curve(fper, tper)"
   ]
  },
  {
   "cell_type": "markdown",
   "metadata": {},
   "source": [
    "Наблюдается отстутсвие улучшений. Высокая точность модели объясняется высокой долей негативных ответов в валидационной выборке."
   ]
  },
  {
   "cell_type": "markdown",
   "metadata": {},
   "source": [
    "## Борьба с дисбалансом"
   ]
  },
  {
   "cell_type": "code",
   "execution_count": 43,
   "metadata": {},
   "outputs": [],
   "source": [
    "#Создадим функцию для увеличения представленной класса в выборке \n",
    "def upsample(features, target, repeat, upsampled_сlass):\n",
    " \n",
    "    features_zeros = features[target == 0]\n",
    "    features_ones = features[target == 1]\n",
    "    target_zeros = target[target == 0]\n",
    "    target_ones = target[target == 1]\n",
    "    \n",
    "    if upsampled_сlass == 0:\n",
    "        features_upsampled = pd.concat([features_zeros]* repeat + [features_ones] )\n",
    "        target_upsampled = pd.concat([target_zeros]* repeat + [target_ones] )\n",
    "        features_upsampled, target_upsampled = shuffle(\n",
    "        features_upsampled, target_upsampled, random_state=12345)\n",
    "        \n",
    "    elif upsampled_сlass == 1:\n",
    "        features_upsampled = pd.concat([features_zeros] + [features_ones] * repeat)\n",
    "        target_upsampled = pd.concat([target_zeros] + [target_ones] * repeat)\n",
    "        features_upsampled, target_upsampled = shuffle(\n",
    "        features_upsampled, target_upsampled, random_state=12345)\n",
    "    else:\n",
    "        features_upsampled = 0\n",
    "        target_upsampled = 0  \n",
    "        \n",
    "        \n",
    "       \n",
    "    return features_upsampled, target_upsampled"
   ]
  },
  {
   "cell_type": "code",
   "execution_count": 45,
   "metadata": {},
   "outputs": [],
   "source": [
    "features_downsampled_train, target_downsampled_train = downsample(features_train, target_train, fraction=0.25)"
   ]
  },
  {
   "cell_type": "code",
   "execution_count": 46,
   "metadata": {},
   "outputs": [
    {
     "name": "stdout",
     "output_type": "stream",
     "text": [
      "0    0.941407\n",
      "1    0.058593\n",
      "Name: Exited, dtype: float64\n",
      "(20412,)\n"
     ]
    }
   ],
   "source": [
    "#Протестируем функцию (верное значение)\n",
    "features_train_upsampled, target_train_upsampled = upsample(features_train, target_train, 4, 0)\n",
    "print(target_train_upsampled.value_counts(normalize = 1))\n",
    "print(target_train_upsampled.shape)"
   ]
  },
  {
   "cell_type": "code",
   "execution_count": 47,
   "metadata": {},
   "outputs": [
    {
     "data": {
      "text/plain": [
       "0"
      ]
     },
     "execution_count": 47,
     "metadata": {},
     "output_type": "execute_result"
    }
   ],
   "source": [
    "#Протестируем функцию (верное значение)\n",
    "features_train_upsampled, target_train_upsampled = upsample(features_train, target_train, 4, 3)\n",
    "features_train_upsampled"
   ]
  },
  {
   "cell_type": "code",
   "execution_count": 48,
   "metadata": {},
   "outputs": [
    {
     "name": "stdout",
     "output_type": "stream",
     "text": [
      "0    0.501043\n",
      "1    0.498957\n",
      "Name: Exited, dtype: float64\n",
      "(9588,)\n"
     ]
    }
   ],
   "source": [
    "#Применим функцию upsample \n",
    "#увеличим количество положительных ответов в 4 раза\n",
    "features_train_upsampled, target_train_upsampled = upsample(features_train, target_train, 4, 1)\n",
    "print(target_train_upsampled.value_counts(normalize = 1))\n",
    "print(target_train_upsampled.shape)"
   ]
  },
  {
   "cell_type": "code",
   "execution_count": 49,
   "metadata": {},
   "outputs": [
    {
     "name": "stdout",
     "output_type": "stream",
     "text": [
      "1    1196\n",
      "0     961\n",
      "Name: Exited, dtype: int64\n",
      "(2157,)\n"
     ]
    }
   ],
   "source": [
    "#Применим функцию downsample\n",
    "#Уменьшим количество пооложительных ответов в 4 раза\n",
    "#Протестируем функцию (верное значение)\n",
    "features_downsampled_train, target_downsampled_train = downsample(features_train, target_train, 0.2)\n",
    "print(target_downsampled_train.value_counts(normalize = 0))\n",
    "print(target_downsampled_train.shape)"
   ]
  },
  {
   "cell_type": "code",
   "execution_count": 50,
   "metadata": {},
   "outputs": [
    {
     "data": {
      "image/png": "[encoded data removed]",
      "text/plain": [
       "<Figure size 144x144 with 1 Axes>"
      ]
     },
     "metadata": {
      "needs_background": "light"
     },
     "output_type": "display_data"
    }
   ],
   "source": [
    "target_train_upsampled.plot(kind ='hist', bins=3, figsize=(2,2));"
   ]
  },
  {
   "cell_type": "code",
   "execution_count": 51,
   "metadata": {},
   "outputs": [
    {
     "name": "stdout",
     "output_type": "stream",
     "text": [
      "Точность:дерево решений 0.79 случайный лес  0.8585 логистческая регрессия 0.802\n"
     ]
    }
   ],
   "source": [
    "#Точность моделей на выборке с дисбалансом\n",
    "all_models_accuracy(features_train, target_train, features_valid, target_valid)"
   ]
  },
  {
   "cell_type": "code",
   "execution_count": 52,
   "metadata": {},
   "outputs": [
    {
     "name": "stdout",
     "output_type": "stream",
     "text": [
      "Точность:дерево решений 0.793 случайный лес  0.8105 логистческая регрессия 0.702\n"
     ]
    }
   ],
   "source": [
    "#Точность моделей на сбалансированной выборке\n",
    "all_models_accuracy(features_train_upsampled, target_train_upsampled, features_valid, target_valid)"
   ]
  },
  {
   "cell_type": "markdown",
   "metadata": {},
   "source": [
    "Точность сильно не изменилась. Проверим качество ответов."
   ]
  },
  {
   "cell_type": "code",
   "execution_count": 53,
   "metadata": {},
   "outputs": [
    {
     "name": "stdout",
     "output_type": "stream",
     "text": [
      "Полнота 0.4784688995215311\n",
      "Точность 0.5050505050505051\n",
      "F1-мера 0.49140049140049147\n"
     ]
    }
   ],
   "source": [
    "#Решающее дерево\n",
    "model_DTC_upsampled = DecisionTreeClassifier(random_state=1515)\n",
    "model_DTC_upsampled.fit(features_train_upsampled, target_train_upsampled)\n",
    "DTC_prediction_upsampled = model_DTC_upsampled.predict(features_valid)\n",
    "rec_prec_f1(target_valid, DTC_prediction_upsampled)"
   ]
  },
  {
   "cell_type": "code",
   "execution_count": 54,
   "metadata": {},
   "outputs": [
    {
     "data": {
      "text/plain": [
       "0.6772875471058983"
      ]
     },
     "execution_count": 54,
     "metadata": {},
     "output_type": "execute_result"
    }
   ],
   "source": [
    "#Расчитаем auc_roc для DTC на сбалансированной выборке\n",
    "DTC_upsampled_valid = model_DTC_upsampled.predict_proba(features_valid)[:, 1]\n",
    "\n",
    "auc_roc_DTC = roc_auc_score(target_valid, DTC_upsampled_valid)\n",
    "\n",
    "auc_roc_DTC"
   ]
  },
  {
   "cell_type": "code",
   "execution_count": 55,
   "metadata": {},
   "outputs": [
    {
     "name": "stdout",
     "output_type": "stream",
     "text": [
      "max_depth: 1 F1: 0.4994903160040775\n",
      "max_depth: 2 F1: 0.541015625\n",
      "max_depth: 3 F1: 0.541015625\n",
      "max_depth: 4 F1: 0.5277777777777778\n",
      "max_depth: 5 F1: 0.5963791267305644\n",
      "max_depth: 6 F1: 0.5581835383159887\n",
      "max_depth: 7 F1: 0.5524752475247525\n",
      "max_depth: 8 F1: 0.5408560311284047\n",
      "max_depth: 9 F1: 0.5405940594059405\n"
     ]
    }
   ],
   "source": [
    "for depth in range(1,10,1):\n",
    "    model_DTC_upsampled=DecisionTreeClassifier(max_depth=depth,random_state=12345).fit(features_train_upsampled, target_train_upsampled)\n",
    "    prediction=model_DTC_upsampled.predict(features_valid)\n",
    "    print('max_depth:',depth,'F1:',f1_score(target_valid,prediction))"
   ]
  },
  {
   "cell_type": "markdown",
   "metadata": {},
   "source": [
    "Лучшее значение max_depth=5, при котором F1=0.596"
   ]
  },
  {
   "cell_type": "code",
   "execution_count": 56,
   "metadata": {},
   "outputs": [
    {
     "name": "stdout",
     "output_type": "stream",
     "text": [
      "max_depth: 1 F1: 0.546458141674333\n",
      "max_depth: 2 F1: 0.5564892623716153\n",
      "max_depth: 3 F1: 0.5746061167747915\n",
      "max_depth: 4 F1: 0.6011673151750972\n",
      "max_depth: 5 F1: 0.6068965517241379\n",
      "max_depth: 6 F1: 0.6068965517241379\n",
      "max_depth: 7 F1: 0.6122860020140987\n",
      "max_depth: 8 F1: 0.621196222455404\n",
      "max_depth: 9 F1: 0.6214209968186638\n",
      "max_depth: 10 F1: 0.6179039301310043\n",
      "max_depth: 11 F1: 0.6192090395480226\n",
      "max_depth: 12 F1: 0.6083916083916083\n",
      "max_depth: 13 F1: 0.6107055961070559\n",
      "max_depth: 14 F1: 0.6110429447852761\n",
      "max_depth: 15 F1: 0.6047678795483061\n",
      "max_depth: 16 F1: 0.6104725415070242\n",
      "max_depth: 17 F1: 0.6057441253263707\n",
      "max_depth: 18 F1: 0.6038709677419355\n",
      "max_depth: 19 F1: 0.6103896103896105\n"
     ]
    }
   ],
   "source": [
    "# Циклом ищем лучший гиперпораметр max_depth\n",
    "\n",
    "for max_depth in range(1,20,1):\n",
    "    model_forest=RandomForestClassifier(max_depth=max_depth,n_estimators=50,random_state=12345).fit(features_train_upsampled, target_train_upsampled)\n",
    "    prediction=model_forest.predict(features_valid)\n",
    "    print('max_depth:',max_depth,'F1:',f1_score(target_valid,prediction))"
   ]
  },
  {
   "cell_type": "markdown",
   "metadata": {},
   "source": [
    "Лучшее значение max_depth=9, при котором F1=0.621"
   ]
  },
  {
   "cell_type": "code",
   "execution_count": 57,
   "metadata": {},
   "outputs": [
    {
     "name": "stdout",
     "output_type": "stream",
     "text": [
      "estim 1 F1: 0.5365402405180388\n",
      "estim 3 F1: 0.568273092369478\n",
      "estim 5 F1: 0.5811088295687886\n",
      "estim 7 F1: 0.6029411764705882\n",
      "estim 9 F1: 0.6010471204188481\n",
      "estim 11 F1: 0.6027111574556829\n",
      "estim 13 F1: 0.6023329798515378\n",
      "estim 15 F1: 0.6044538706256628\n",
      "estim 17 F1: 0.6044538706256628\n",
      "estim 19 F1: 0.5967914438502674\n",
      "estim 21 F1: 0.6042553191489363\n",
      "estim 23 F1: 0.6112886048988285\n",
      "estim 25 F1: 0.6143931256713211\n",
      "estim 27 F1: 0.617363344051447\n",
      "estim 29 F1: 0.6134185303514378\n",
      "estim 31 F1: 0.6198083067092651\n",
      "estim 33 F1: 0.617678381256656\n",
      "estim 35 F1: 0.618490967056323\n",
      "estim 37 F1: 0.6191489361702128\n",
      "estim 39 F1: 0.6203208556149732\n",
      "estim 41 F1: 0.6155484558040468\n",
      "estim 43 F1: 0.6247334754797441\n",
      "estim 45 F1: 0.6212765957446809\n",
      "estim 47 F1: 0.6183368869936033\n",
      "estim 49 F1: 0.6219382321618744\n"
     ]
    }
   ],
   "source": [
    "# Циклом подбираем гиперпораметр n_estimators (количество деревьев)\n",
    "for estim in range(1,50,2):\n",
    "    model_forest=RandomForestClassifier(max_depth=9,n_estimators=estim,random_state=12345).fit(features_train_upsampled, target_train_upsampled)\n",
    "    prediction=model_forest.predict(features_valid)\n",
    "    print('estim',estim,'F1:',f1_score(target_valid,prediction))"
   ]
  },
  {
   "cell_type": "markdown",
   "metadata": {},
   "source": [
    "Лучшее значение max_depth=7 и n_estimators=43 при котором F1=0.625"
   ]
  },
  {
   "cell_type": "code",
   "execution_count": 58,
   "metadata": {},
   "outputs": [
    {
     "name": "stdout",
     "output_type": "stream",
     "text": [
      "Полнота 0.7200956937799043\n",
      "Точность 0.5346358792184724\n",
      "F1-мера 0.6136595310907238\n"
     ]
    }
   ],
   "source": [
    "#Случайный лес\n",
    "model_RFC_upsampled = RandomForestClassifier(max_depth=7, n_estimators=43, min_samples_leaf=3, random_state=1515)\n",
    "model_RFC_upsampled.fit(features_train_upsampled, target_train_upsampled)\n",
    "RFC_prediction_upsampled = model_RFC_upsampled.predict(features_valid)\n",
    "rec_prec_f1(target_valid, RFC_prediction_upsampled)"
   ]
  },
  {
   "cell_type": "code",
   "execution_count": 59,
   "metadata": {},
   "outputs": [
    {
     "data": {
      "text/plain": [
       "0.8507499138030111"
      ]
     },
     "execution_count": 59,
     "metadata": {},
     "output_type": "execute_result"
    }
   ],
   "source": [
    "#Расчитаем auc_roc для RFC на сбалансированной выборке\n",
    "RFC_upsampled_valid = model_RFC_upsampled.predict_proba(features_valid)[:, 1]\n",
    "\n",
    "auc_roc_RFC = roc_auc_score(target_valid, RFC_upsampled_valid)\n",
    "\n",
    "auc_roc_RFC"
   ]
  },
  {
   "cell_type": "code",
   "execution_count": 60,
   "metadata": {},
   "outputs": [
    {
     "name": "stdout",
     "output_type": "stream",
     "text": [
      "Полнота 0.6818181818181818\n",
      "Точность 0.3810160427807487\n",
      "F1-мера 0.4888507718696398\n"
     ]
    }
   ],
   "source": [
    "#Логистическая регрессия\n",
    "model_LgR_upsampled = LogisticRegression(solver = 'liblinear')\n",
    "model_LgR_upsampled.fit(features_train_upsampled, target_train_upsampled)\n",
    "LgR_prediction_upsampled = model_LgR_upsampled.predict(features_valid)\n",
    "rec_prec_f1(target_valid, LgR_prediction_upsampled)"
   ]
  },
  {
   "cell_type": "code",
   "execution_count": 61,
   "metadata": {},
   "outputs": [
    {
     "data": {
      "text/plain": [
       "0.7636478565682107"
      ]
     },
     "execution_count": 61,
     "metadata": {},
     "output_type": "execute_result"
    }
   ],
   "source": [
    "#Расчитаем auc_roc для LgR на сбалансированной выборке\n",
    "LgR_upsampled_valid = model_LgR_upsampled.predict_proba(features_valid)[:, 1]\n",
    "\n",
    "auc_roc_LgR = roc_auc_score(target_valid, LgR_upsampled_valid)\n",
    "\n",
    "auc_roc_LgR"
   ]
  },
  {
   "cell_type": "markdown",
   "metadata": {},
   "source": [
    "## Тестирование модели"
   ]
  },
  {
   "cell_type": "code",
   "execution_count": 62,
   "metadata": {},
   "outputs": [
    {
     "data": {
      "text/plain": [
       "RandomForestClassifier(max_depth=7, n_estimators=43, random_state=12345)"
      ]
     },
     "execution_count": 62,
     "metadata": {},
     "output_type": "execute_result"
    }
   ],
   "source": [
    "#Обучим финальную модель\n",
    "model_RFC_final = RandomForestClassifier(\n",
    "    bootstrap = True, max_depth= 7,  n_estimators = 43, random_state=12345)\n",
    "model_RFC_final.fit(features_train_upsampled, target_train_upsampled)"
   ]
  },
  {
   "cell_type": "code",
   "execution_count": 63,
   "metadata": {
    "scrolled": true
   },
   "outputs": [
    {
     "name": "stdout",
     "output_type": "stream",
     "text": [
      "Полнота 0.7115839243498818\n",
      "Точность 0.5110356536502547\n",
      "F1-мера 0.5948616600790515\n"
     ]
    }
   ],
   "source": [
    "model_RFC_final_prediction = model_RFC_final.predict(features_test)\n",
    "rec_prec_f1(target_test, model_RFC_final_prediction)"
   ]
  },
  {
   "cell_type": "code",
   "execution_count": 64,
   "metadata": {},
   "outputs": [
    {
     "data": {
      "text/plain": [
       "0.8474420264109818"
      ]
     },
     "execution_count": 64,
     "metadata": {},
     "output_type": "execute_result"
    }
   ],
   "source": [
    "#Расчитаем auc_roc для RFC на тестовой выборке\n",
    "model_RFC_final_valid = model_RFC_final.predict_proba(features_test)[:, 1]\n",
    "\n",
    "auc_roc_RFC = roc_auc_score(target_test, model_RFC_final_valid)\n",
    "\n",
    "auc_roc_RFC"
   ]
  },
  {
   "cell_type": "code",
   "execution_count": 65,
   "metadata": {},
   "outputs": [
    {
     "data": {
      "text/plain": [
       "0    2000\n",
       "dtype: int64"
      ]
     },
     "execution_count": 65,
     "metadata": {},
     "output_type": "execute_result"
    }
   ],
   "source": [
    "#Создаем константную модель\n",
    "target_predict_constant = pd.Series([0]*len(target_test))\n",
    "target_predict_constant.value_counts()"
   ]
  },
  {
   "cell_type": "code",
   "execution_count": 66,
   "metadata": {},
   "outputs": [
    {
     "name": "stdout",
     "output_type": "stream",
     "text": [
      "accuracy_score константой модели: 0.791\n",
      "accuracy_score финальной модели: 0.795\n",
      "AUC-ROC константой модели: 0.5\n",
      "AUC-ROC финальной модели: 0.8474420264109818\n"
     ]
    }
   ],
   "source": [
    "#Сравним показатель точности (accuracy_score) константной модели и финальной\n",
    "print('accuracy_score константой модели:', accuracy_score(target_valid, target_predict_constant))\n",
    "print('accuracy_score финальной модели:', accuracy_score(target_test, model_RFC_final_prediction))\n",
    "#Дополнительно сравним AUC-ROC — единственный параметр подающийся сравнению, потому что константная подель содержит только негативные ответы\n",
    "print('AUC-ROC константой модели:', roc_auc_score(target_valid, target_predict_constant))\n",
    "print('AUC-ROC финальной модели:', roc_auc_score(target_test, model_RFC_final_valid))"
   ]
  },
  {
   "cell_type": "markdown",
   "metadata": {},
   "source": [
    "Финальная модель показывает результаты лучше, чем константная модель — модель можно считать адекватной."
   ]
  },
  {
   "cell_type": "markdown",
   "metadata": {},
   "source": [
    "Было проведено исследование, чтобы спрогнозировать, уйдёт клиент из «Бета-Банка» банка в ближайшее время или нет. Входные данные - исторические данные о поведении клиентов и расторжении договоров с банком. Результаты исследования будут учтены бизнесом при формировании модели стратегического развития.\n",
    "\n",
    "В первоначальные данных наблюдался значительный дисбаланс (80% ответов целевого признака были негативными и только 20% позитивными), из-за чего обученная на этих данных модель не проходила проверку на адекватность. Все модели не первоначальных данных характеризовались высокой степенью ошибок и низким качеством взвешенной величины (F1) — модели показывали низкие результаты точности и полноты.\n",
    "\n",
    "Было проведено устранение дисбаланса классов в обучающей выборки методом upsampling — увеличили количество значений позитивного класса в 4 раза. Так мы достигли баланса классо в обучеющей выборки: 0 - 0.501043, 1 - 0.498957.\n",
    "\n",
    "Разобрали борьбу с дисбалансом методом upsampling.\n",
    "\n",
    "На новых данных все модели показали результат выше, чем на несбалансированной выборке. Лучшие показатели были у модели Случайного леса:\n",
    "\n",
    "Полнота 0.7200956937799043\n",
    "Точность 0.5346358792184724\n",
    "F1-мера 0.6136595310907238\n",
    "AUC-ROC 0.8507499138030111\n",
    "Финальная модель прошла проверку на адекватность в сравнении с контантной моделью: accuracy_score константой модели: 0.796\n",
    "\n",
    "accuracy_score константой модели: 0.791\n",
    "accuracy_score финальной модели: 0.795\n",
    "AUC-ROC константой модели: 0.5\n",
    "AUC-ROC финальной модели: 0.8474420264109818"
   ]
  }
 ],
 "metadata": {
  "ExecuteTimeLog": [
   {
    "duration": 76,
    "start_time": "2023-03-09T08:46:44.979Z"
   },
   {
    "duration": 416,
    "start_time": "2023-03-09T08:46:58.684Z"
   },
   {
    "duration": 112,
    "start_time": "2023-03-09T08:46:59.452Z"
   },
   {
    "duration": 15,
    "start_time": "2023-03-09T08:46:59.936Z"
   },
   {
    "duration": 46,
    "start_time": "2023-03-09T08:47:52.097Z"
   },
   {
    "duration": 57,
    "start_time": "2023-03-09T08:53:15.926Z"
   },
   {
    "duration": 29,
    "start_time": "2023-03-09T09:05:33.870Z"
   },
   {
    "duration": 14,
    "start_time": "2023-03-09T09:05:45.952Z"
   },
   {
    "duration": 1427,
    "start_time": "2023-03-09T09:59:04.569Z"
   },
   {
    "duration": 85,
    "start_time": "2023-03-09T09:59:07.668Z"
   },
   {
    "duration": 14,
    "start_time": "2023-03-09T09:59:08.165Z"
   },
   {
    "duration": 14,
    "start_time": "2023-03-09T09:59:09.988Z"
   },
   {
    "duration": 50,
    "start_time": "2023-03-09T09:59:12.740Z"
   },
   {
    "duration": 13,
    "start_time": "2023-03-09T09:59:14.422Z"
   },
   {
    "duration": 1469,
    "start_time": "2023-03-10T06:14:35.077Z"
   },
   {
    "duration": 119,
    "start_time": "2023-03-10T06:14:36.548Z"
   },
   {
    "duration": 0,
    "start_time": "2023-03-10T06:14:36.669Z"
   },
   {
    "duration": 0,
    "start_time": "2023-03-10T06:14:36.670Z"
   },
   {
    "duration": 0,
    "start_time": "2023-03-10T06:14:36.671Z"
   },
   {
    "duration": 0,
    "start_time": "2023-03-10T06:14:36.672Z"
   },
   {
    "duration": 0,
    "start_time": "2023-03-10T06:14:36.674Z"
   },
   {
    "duration": 0,
    "start_time": "2023-03-10T06:14:36.674Z"
   },
   {
    "duration": 1266,
    "start_time": "2023-03-10T06:15:17.024Z"
   },
   {
    "duration": 117,
    "start_time": "2023-03-10T06:15:18.293Z"
   },
   {
    "duration": 0,
    "start_time": "2023-03-10T06:15:18.411Z"
   },
   {
    "duration": 0,
    "start_time": "2023-03-10T06:15:18.412Z"
   },
   {
    "duration": 0,
    "start_time": "2023-03-10T06:15:18.413Z"
   },
   {
    "duration": 0,
    "start_time": "2023-03-10T06:15:18.414Z"
   },
   {
    "duration": 0,
    "start_time": "2023-03-10T06:15:18.415Z"
   },
   {
    "duration": 0,
    "start_time": "2023-03-10T06:15:18.416Z"
   },
   {
    "duration": 1211,
    "start_time": "2023-03-10T06:15:36.307Z"
   },
   {
    "duration": 108,
    "start_time": "2023-03-10T06:15:37.519Z"
   },
   {
    "duration": 0,
    "start_time": "2023-03-10T06:15:37.629Z"
   },
   {
    "duration": 0,
    "start_time": "2023-03-10T06:15:37.630Z"
   },
   {
    "duration": 0,
    "start_time": "2023-03-10T06:15:37.631Z"
   },
   {
    "duration": 0,
    "start_time": "2023-03-10T06:15:37.631Z"
   },
   {
    "duration": 0,
    "start_time": "2023-03-10T06:15:37.633Z"
   },
   {
    "duration": 0,
    "start_time": "2023-03-10T06:15:37.634Z"
   },
   {
    "duration": 1308,
    "start_time": "2023-03-10T06:16:20.644Z"
   },
   {
    "duration": 80,
    "start_time": "2023-03-10T06:16:21.953Z"
   },
   {
    "duration": 15,
    "start_time": "2023-03-10T06:16:22.034Z"
   },
   {
    "duration": 11,
    "start_time": "2023-03-10T06:16:22.051Z"
   },
   {
    "duration": 33,
    "start_time": "2023-03-10T06:16:22.063Z"
   },
   {
    "duration": 9,
    "start_time": "2023-03-10T06:16:22.098Z"
   },
   {
    "duration": 2,
    "start_time": "2023-03-10T06:16:22.109Z"
   },
   {
    "duration": 9,
    "start_time": "2023-03-10T06:16:22.112Z"
   },
   {
    "duration": 112,
    "start_time": "2023-03-10T06:31:47.674Z"
   },
   {
    "duration": 4,
    "start_time": "2023-03-10T06:32:03.654Z"
   },
   {
    "duration": 17,
    "start_time": "2023-03-10T06:32:08.009Z"
   },
   {
    "duration": 14,
    "start_time": "2023-03-10T06:32:20.913Z"
   },
   {
    "duration": 13,
    "start_time": "2023-03-10T06:33:01.450Z"
   },
   {
    "duration": 13,
    "start_time": "2023-03-10T06:33:15.304Z"
   },
   {
    "duration": 1336,
    "start_time": "2023-03-10T06:33:25.467Z"
   },
   {
    "duration": 49,
    "start_time": "2023-03-10T06:33:26.805Z"
   },
   {
    "duration": 18,
    "start_time": "2023-03-10T06:33:26.855Z"
   },
   {
    "duration": 21,
    "start_time": "2023-03-10T06:33:26.874Z"
   },
   {
    "duration": 33,
    "start_time": "2023-03-10T06:33:26.897Z"
   },
   {
    "duration": 9,
    "start_time": "2023-03-10T06:33:26.931Z"
   },
   {
    "duration": 2,
    "start_time": "2023-03-10T06:33:26.942Z"
   },
   {
    "duration": 6,
    "start_time": "2023-03-10T06:33:26.946Z"
   },
   {
    "duration": 8,
    "start_time": "2023-03-10T06:33:26.954Z"
   },
   {
    "duration": 4,
    "start_time": "2023-03-10T06:33:34.470Z"
   },
   {
    "duration": 4,
    "start_time": "2023-03-10T06:33:37.382Z"
   },
   {
    "duration": 4,
    "start_time": "2023-03-10T06:34:10.796Z"
   },
   {
    "duration": 12,
    "start_time": "2023-03-10T06:34:27.691Z"
   },
   {
    "duration": 16,
    "start_time": "2023-03-10T06:36:43.150Z"
   },
   {
    "duration": 11,
    "start_time": "2023-03-10T06:39:14.146Z"
   },
   {
    "duration": 15,
    "start_time": "2023-03-10T06:39:21.142Z"
   },
   {
    "duration": 5,
    "start_time": "2023-03-10T06:39:30.094Z"
   },
   {
    "duration": 1340,
    "start_time": "2023-03-10T06:40:33.296Z"
   },
   {
    "duration": 64,
    "start_time": "2023-03-10T06:40:34.637Z"
   },
   {
    "duration": 31,
    "start_time": "2023-03-10T06:40:34.703Z"
   },
   {
    "duration": 15,
    "start_time": "2023-03-10T06:40:34.736Z"
   },
   {
    "duration": 47,
    "start_time": "2023-03-10T06:40:34.753Z"
   },
   {
    "duration": 10,
    "start_time": "2023-03-10T06:40:34.802Z"
   },
   {
    "duration": 3,
    "start_time": "2023-03-10T06:40:34.813Z"
   },
   {
    "duration": 7,
    "start_time": "2023-03-10T06:40:34.817Z"
   },
   {
    "duration": 12,
    "start_time": "2023-03-10T06:40:34.826Z"
   },
   {
    "duration": 40,
    "start_time": "2023-03-10T06:40:34.841Z"
   },
   {
    "duration": 143,
    "start_time": "2023-03-10T06:40:34.882Z"
   },
   {
    "duration": 3,
    "start_time": "2023-03-10T06:40:55.019Z"
   },
   {
    "duration": 6,
    "start_time": "2023-03-10T07:01:11.312Z"
   },
   {
    "duration": 10,
    "start_time": "2023-03-10T07:01:11.872Z"
   },
   {
    "duration": 6,
    "start_time": "2023-03-10T07:01:26.614Z"
   },
   {
    "duration": 4,
    "start_time": "2023-03-10T07:42:32.566Z"
   },
   {
    "duration": 6,
    "start_time": "2023-03-10T07:42:33.200Z"
   },
   {
    "duration": 7,
    "start_time": "2023-03-10T07:42:33.742Z"
   },
   {
    "duration": 5,
    "start_time": "2023-03-10T07:42:34.319Z"
   },
   {
    "duration": 4,
    "start_time": "2023-03-10T07:42:37.702Z"
   },
   {
    "duration": 8,
    "start_time": "2023-03-10T07:42:38.200Z"
   },
   {
    "duration": 27,
    "start_time": "2023-03-10T07:42:43.098Z"
   },
   {
    "duration": 17,
    "start_time": "2023-03-10T07:43:11.842Z"
   },
   {
    "duration": 22,
    "start_time": "2023-03-10T07:43:32.541Z"
   },
   {
    "duration": 9,
    "start_time": "2023-03-10T12:25:02.545Z"
   },
   {
    "duration": 6,
    "start_time": "2023-03-10T12:25:13.171Z"
   },
   {
    "duration": 1605,
    "start_time": "2023-03-10T12:25:19.682Z"
   },
   {
    "duration": 77,
    "start_time": "2023-03-10T12:25:21.289Z"
   },
   {
    "duration": 17,
    "start_time": "2023-03-10T12:25:21.368Z"
   },
   {
    "duration": 15,
    "start_time": "2023-03-10T12:25:21.387Z"
   },
   {
    "duration": 42,
    "start_time": "2023-03-10T12:25:21.403Z"
   },
   {
    "duration": 10,
    "start_time": "2023-03-10T12:25:21.447Z"
   },
   {
    "duration": 3,
    "start_time": "2023-03-10T12:25:21.459Z"
   },
   {
    "duration": 9,
    "start_time": "2023-03-10T12:25:21.463Z"
   },
   {
    "duration": 37,
    "start_time": "2023-03-10T12:25:21.474Z"
   },
   {
    "duration": 19,
    "start_time": "2023-03-10T12:25:21.514Z"
   },
   {
    "duration": 4,
    "start_time": "2023-03-10T12:25:21.534Z"
   },
   {
    "duration": 6,
    "start_time": "2023-03-10T12:25:21.539Z"
   },
   {
    "duration": 5,
    "start_time": "2023-03-10T12:25:21.547Z"
   },
   {
    "duration": 4,
    "start_time": "2023-03-10T12:25:21.554Z"
   },
   {
    "duration": 4,
    "start_time": "2023-03-10T12:25:21.560Z"
   },
   {
    "duration": 42,
    "start_time": "2023-03-10T12:25:21.565Z"
   },
   {
    "duration": 23,
    "start_time": "2023-03-10T12:25:21.609Z"
   },
   {
    "duration": 19,
    "start_time": "2023-03-10T12:25:21.634Z"
   },
   {
    "duration": 19,
    "start_time": "2023-03-10T12:25:21.654Z"
   },
   {
    "duration": 5,
    "start_time": "2023-03-10T12:25:21.701Z"
   },
   {
    "duration": 4,
    "start_time": "2023-03-10T12:33:25.679Z"
   },
   {
    "duration": 40,
    "start_time": "2023-03-10T12:33:26.684Z"
   },
   {
    "duration": 1388,
    "start_time": "2023-03-10T12:33:32.541Z"
   },
   {
    "duration": 40,
    "start_time": "2023-03-10T12:33:33.931Z"
   },
   {
    "duration": 18,
    "start_time": "2023-03-10T12:33:33.972Z"
   },
   {
    "duration": 14,
    "start_time": "2023-03-10T12:33:33.991Z"
   },
   {
    "duration": 50,
    "start_time": "2023-03-10T12:33:34.007Z"
   },
   {
    "duration": 11,
    "start_time": "2023-03-10T12:33:34.059Z"
   },
   {
    "duration": 11,
    "start_time": "2023-03-10T12:33:34.072Z"
   },
   {
    "duration": 18,
    "start_time": "2023-03-10T12:33:34.085Z"
   },
   {
    "duration": 23,
    "start_time": "2023-03-10T12:33:34.105Z"
   },
   {
    "duration": 24,
    "start_time": "2023-03-10T12:33:34.130Z"
   },
   {
    "duration": 4,
    "start_time": "2023-03-10T12:33:34.155Z"
   },
   {
    "duration": 11,
    "start_time": "2023-03-10T12:33:34.161Z"
   },
   {
    "duration": 7,
    "start_time": "2023-03-10T12:33:34.174Z"
   },
   {
    "duration": 7,
    "start_time": "2023-03-10T12:33:34.202Z"
   },
   {
    "duration": 7,
    "start_time": "2023-03-10T12:33:34.211Z"
   },
   {
    "duration": 17,
    "start_time": "2023-03-10T12:33:34.220Z"
   },
   {
    "duration": 42,
    "start_time": "2023-03-10T12:33:34.239Z"
   },
   {
    "duration": 23,
    "start_time": "2023-03-10T12:33:34.283Z"
   },
   {
    "duration": 20,
    "start_time": "2023-03-10T12:33:34.308Z"
   },
   {
    "duration": 5,
    "start_time": "2023-03-10T12:33:34.330Z"
   },
   {
    "duration": 18,
    "start_time": "2023-03-11T04:45:24.648Z"
   },
   {
    "duration": 1660,
    "start_time": "2023-03-11T05:11:35.890Z"
   },
   {
    "duration": 83,
    "start_time": "2023-03-11T05:11:37.552Z"
   },
   {
    "duration": 18,
    "start_time": "2023-03-11T05:11:37.636Z"
   },
   {
    "duration": 74,
    "start_time": "2023-03-11T05:11:37.656Z"
   },
   {
    "duration": 74,
    "start_time": "2023-03-11T05:11:37.732Z"
   },
   {
    "duration": 15,
    "start_time": "2023-03-11T05:11:37.808Z"
   },
   {
    "duration": 27,
    "start_time": "2023-03-11T05:11:37.824Z"
   },
   {
    "duration": 68,
    "start_time": "2023-03-11T05:11:37.853Z"
   },
   {
    "duration": 51,
    "start_time": "2023-03-11T05:11:37.923Z"
   },
   {
    "duration": 119,
    "start_time": "2023-03-11T05:11:37.976Z"
   },
   {
    "duration": 42,
    "start_time": "2023-03-11T05:11:38.098Z"
   },
   {
    "duration": 56,
    "start_time": "2023-03-11T05:11:38.142Z"
   },
   {
    "duration": 36,
    "start_time": "2023-03-11T05:11:38.199Z"
   },
   {
    "duration": 17,
    "start_time": "2023-03-11T05:11:38.240Z"
   },
   {
    "duration": 149,
    "start_time": "2023-03-11T05:11:38.259Z"
   },
   {
    "duration": 0,
    "start_time": "2023-03-11T05:11:38.410Z"
   },
   {
    "duration": 0,
    "start_time": "2023-03-11T05:11:38.411Z"
   },
   {
    "duration": 0,
    "start_time": "2023-03-11T05:11:38.412Z"
   },
   {
    "duration": 0,
    "start_time": "2023-03-11T05:11:38.413Z"
   },
   {
    "duration": 0,
    "start_time": "2023-03-11T05:11:38.414Z"
   },
   {
    "duration": 0,
    "start_time": "2023-03-11T05:11:38.415Z"
   },
   {
    "duration": 0,
    "start_time": "2023-03-11T05:11:38.416Z"
   },
   {
    "duration": 0,
    "start_time": "2023-03-11T05:11:38.417Z"
   },
   {
    "duration": 0,
    "start_time": "2023-03-11T05:11:38.418Z"
   },
   {
    "duration": 0,
    "start_time": "2023-03-11T05:11:38.419Z"
   },
   {
    "duration": 0,
    "start_time": "2023-03-11T05:11:38.420Z"
   },
   {
    "duration": 0,
    "start_time": "2023-03-11T05:11:38.421Z"
   },
   {
    "duration": 0,
    "start_time": "2023-03-11T05:11:38.423Z"
   },
   {
    "duration": 0,
    "start_time": "2023-03-11T05:11:38.425Z"
   },
   {
    "duration": 0,
    "start_time": "2023-03-11T05:11:38.426Z"
   },
   {
    "duration": 0,
    "start_time": "2023-03-11T05:11:38.427Z"
   },
   {
    "duration": 0,
    "start_time": "2023-03-11T05:11:38.429Z"
   },
   {
    "duration": 0,
    "start_time": "2023-03-11T05:11:38.430Z"
   },
   {
    "duration": 0,
    "start_time": "2023-03-11T05:11:38.432Z"
   },
   {
    "duration": 0,
    "start_time": "2023-03-11T05:11:38.433Z"
   },
   {
    "duration": 0,
    "start_time": "2023-03-11T05:11:38.435Z"
   },
   {
    "duration": 0,
    "start_time": "2023-03-11T05:11:38.436Z"
   },
   {
    "duration": 0,
    "start_time": "2023-03-11T05:11:38.477Z"
   },
   {
    "duration": 0,
    "start_time": "2023-03-11T05:11:38.478Z"
   },
   {
    "duration": 0,
    "start_time": "2023-03-11T05:11:38.480Z"
   },
   {
    "duration": 7,
    "start_time": "2023-03-11T05:12:59.388Z"
   },
   {
    "duration": 10,
    "start_time": "2023-03-11T05:12:59.882Z"
   },
   {
    "duration": 26,
    "start_time": "2023-03-11T05:13:01.620Z"
   },
   {
    "duration": 12,
    "start_time": "2023-03-11T05:13:03.684Z"
   },
   {
    "duration": 6,
    "start_time": "2023-03-11T05:14:08.028Z"
   },
   {
    "duration": 6,
    "start_time": "2023-03-11T05:14:10.792Z"
   },
   {
    "duration": 29,
    "start_time": "2023-03-11T05:14:12.031Z"
   },
   {
    "duration": 174,
    "start_time": "2023-03-11T05:14:12.962Z"
   },
   {
    "duration": 6066,
    "start_time": "2023-03-11T05:14:17.006Z"
   },
   {
    "duration": 4395,
    "start_time": "2023-03-11T05:14:26.504Z"
   },
   {
    "duration": 167,
    "start_time": "2023-03-11T05:14:35.830Z"
   },
   {
    "duration": 4,
    "start_time": "2023-03-11T05:14:43.092Z"
   },
   {
    "duration": 12,
    "start_time": "2023-03-11T05:14:44.364Z"
   },
   {
    "duration": 4,
    "start_time": "2023-03-11T05:14:44.960Z"
   },
   {
    "duration": 10,
    "start_time": "2023-03-11T05:14:45.657Z"
   },
   {
    "duration": 443,
    "start_time": "2023-03-11T05:14:47.525Z"
   },
   {
    "duration": 5411,
    "start_time": "2023-03-11T05:14:52.679Z"
   },
   {
    "duration": 8661,
    "start_time": "2023-03-11T05:14:58.093Z"
   },
   {
    "duration": 377,
    "start_time": "2023-03-11T05:15:06.758Z"
   },
   {
    "duration": 51,
    "start_time": "2023-03-11T05:15:09.710Z"
   },
   {
    "duration": 9,
    "start_time": "2023-03-11T05:15:11.220Z"
   },
   {
    "duration": 7,
    "start_time": "2023-03-11T05:15:16.511Z"
   },
   {
    "duration": 6,
    "start_time": "2023-03-11T05:15:17.006Z"
   },
   {
    "duration": 36,
    "start_time": "2023-03-11T05:15:17.510Z"
   },
   {
    "duration": 7,
    "start_time": "2023-03-11T05:15:18.038Z"
   },
   {
    "duration": 5,
    "start_time": "2023-03-11T05:15:18.567Z"
   },
   {
    "duration": 11,
    "start_time": "2023-03-11T05:15:19.130Z"
   },
   {
    "duration": 7,
    "start_time": "2023-03-11T05:15:19.618Z"
   },
   {
    "duration": 5,
    "start_time": "2023-03-11T05:15:20.125Z"
   },
   {
    "duration": 271,
    "start_time": "2023-03-11T05:15:20.687Z"
   },
   {
    "duration": 7,
    "start_time": "2023-03-11T05:15:21.672Z"
   },
   {
    "duration": 9,
    "start_time": "2023-03-11T05:15:35.392Z"
   },
   {
    "duration": 23,
    "start_time": "2023-03-11T05:45:36.316Z"
   },
   {
    "duration": 283,
    "start_time": "2023-03-11T05:58:43.798Z"
   },
   {
    "duration": 196,
    "start_time": "2023-03-11T05:59:10.098Z"
   },
   {
    "duration": 50,
    "start_time": "2023-03-11T07:27:52.534Z"
   },
   {
    "duration": 1463,
    "start_time": "2023-03-11T07:28:05.501Z"
   },
   {
    "duration": 74,
    "start_time": "2023-03-11T07:28:06.966Z"
   },
   {
    "duration": 15,
    "start_time": "2023-03-11T07:28:07.041Z"
   },
   {
    "duration": 11,
    "start_time": "2023-03-11T07:28:07.058Z"
   },
   {
    "duration": 38,
    "start_time": "2023-03-11T07:28:07.071Z"
   },
   {
    "duration": 10,
    "start_time": "2023-03-11T07:28:07.111Z"
   },
   {
    "duration": 3,
    "start_time": "2023-03-11T07:28:07.123Z"
   },
   {
    "duration": 6,
    "start_time": "2023-03-11T07:28:07.127Z"
   },
   {
    "duration": 12,
    "start_time": "2023-03-11T07:28:07.134Z"
   },
   {
    "duration": 33,
    "start_time": "2023-03-11T07:28:07.148Z"
   },
   {
    "duration": 3,
    "start_time": "2023-03-11T07:28:07.183Z"
   },
   {
    "duration": 7,
    "start_time": "2023-03-11T07:28:07.187Z"
   },
   {
    "duration": 6,
    "start_time": "2023-03-11T07:28:07.195Z"
   },
   {
    "duration": 121,
    "start_time": "2023-03-11T07:28:07.202Z"
   },
   {
    "duration": 0,
    "start_time": "2023-03-11T07:28:07.324Z"
   },
   {
    "duration": 0,
    "start_time": "2023-03-11T07:28:07.325Z"
   },
   {
    "duration": 0,
    "start_time": "2023-03-11T07:28:07.326Z"
   },
   {
    "duration": 0,
    "start_time": "2023-03-11T07:28:07.327Z"
   },
   {
    "duration": 0,
    "start_time": "2023-03-11T07:28:07.327Z"
   },
   {
    "duration": 0,
    "start_time": "2023-03-11T07:28:07.328Z"
   },
   {
    "duration": 1,
    "start_time": "2023-03-11T07:28:07.329Z"
   },
   {
    "duration": 0,
    "start_time": "2023-03-11T07:28:07.331Z"
   },
   {
    "duration": 0,
    "start_time": "2023-03-11T07:28:07.331Z"
   },
   {
    "duration": 0,
    "start_time": "2023-03-11T07:28:07.332Z"
   },
   {
    "duration": 0,
    "start_time": "2023-03-11T07:28:07.333Z"
   },
   {
    "duration": 0,
    "start_time": "2023-03-11T07:28:07.334Z"
   },
   {
    "duration": 0,
    "start_time": "2023-03-11T07:28:07.335Z"
   },
   {
    "duration": 0,
    "start_time": "2023-03-11T07:28:07.336Z"
   },
   {
    "duration": 0,
    "start_time": "2023-03-11T07:28:07.337Z"
   },
   {
    "duration": 0,
    "start_time": "2023-03-11T07:28:07.338Z"
   },
   {
    "duration": 0,
    "start_time": "2023-03-11T07:28:07.339Z"
   },
   {
    "duration": 0,
    "start_time": "2023-03-11T07:28:07.339Z"
   },
   {
    "duration": 0,
    "start_time": "2023-03-11T07:28:07.340Z"
   },
   {
    "duration": 0,
    "start_time": "2023-03-11T07:28:07.341Z"
   },
   {
    "duration": 0,
    "start_time": "2023-03-11T07:28:07.342Z"
   },
   {
    "duration": 0,
    "start_time": "2023-03-11T07:28:07.343Z"
   },
   {
    "duration": 0,
    "start_time": "2023-03-11T07:28:07.343Z"
   },
   {
    "duration": 0,
    "start_time": "2023-03-11T07:28:07.344Z"
   },
   {
    "duration": 0,
    "start_time": "2023-03-11T07:28:07.345Z"
   },
   {
    "duration": 0,
    "start_time": "2023-03-11T07:28:07.345Z"
   },
   {
    "duration": 6,
    "start_time": "2023-03-11T07:28:19.595Z"
   },
   {
    "duration": 9,
    "start_time": "2023-03-11T07:28:29.082Z"
   },
   {
    "duration": 9,
    "start_time": "2023-03-11T07:28:42.937Z"
   },
   {
    "duration": 9,
    "start_time": "2023-03-11T07:29:30.966Z"
   },
   {
    "duration": 6,
    "start_time": "2023-03-11T07:30:01.521Z"
   },
   {
    "duration": 5,
    "start_time": "2023-03-11T07:30:04.461Z"
   },
   {
    "duration": 4,
    "start_time": "2023-03-11T07:30:04.869Z"
   },
   {
    "duration": 19,
    "start_time": "2023-03-11T07:30:06.217Z"
   },
   {
    "duration": 144,
    "start_time": "2023-03-11T07:30:13.999Z"
   },
   {
    "duration": 5456,
    "start_time": "2023-03-11T07:30:55.631Z"
   },
   {
    "duration": 3984,
    "start_time": "2023-03-11T07:32:15.929Z"
   },
   {
    "duration": 104,
    "start_time": "2023-03-11T07:34:01.177Z"
   },
   {
    "duration": 5,
    "start_time": "2023-03-11T07:37:09.584Z"
   },
   {
    "duration": 4,
    "start_time": "2023-03-11T07:38:06.150Z"
   },
   {
    "duration": 22,
    "start_time": "2023-03-11T07:38:07.818Z"
   },
   {
    "duration": 7,
    "start_time": "2023-03-11T08:19:02.138Z"
   },
   {
    "duration": 27,
    "start_time": "2023-03-11T08:19:46.154Z"
   },
   {
    "duration": 25,
    "start_time": "2023-03-11T08:20:00.803Z"
   },
   {
    "duration": 7,
    "start_time": "2023-03-11T08:22:03.528Z"
   },
   {
    "duration": 4,
    "start_time": "2023-03-11T08:22:19.298Z"
   },
   {
    "duration": 5,
    "start_time": "2023-03-11T08:22:34.515Z"
   },
   {
    "duration": 5,
    "start_time": "2023-03-11T08:22:46.664Z"
   },
   {
    "duration": 3,
    "start_time": "2023-03-11T08:23:15.266Z"
   },
   {
    "duration": 9,
    "start_time": "2023-03-11T08:23:30.905Z"
   },
   {
    "duration": 18,
    "start_time": "2023-03-11T08:23:41.799Z"
   },
   {
    "duration": 16,
    "start_time": "2023-03-11T08:24:07.741Z"
   },
   {
    "duration": 23,
    "start_time": "2023-03-11T08:24:29.884Z"
   },
   {
    "duration": 4,
    "start_time": "2023-03-11T08:25:07.822Z"
   },
   {
    "duration": 352,
    "start_time": "2023-03-11T08:25:29.438Z"
   },
   {
    "duration": 8,
    "start_time": "2023-03-11T08:26:23.064Z"
   },
   {
    "duration": 96,
    "start_time": "2023-03-11T08:26:38.171Z"
   },
   {
    "duration": 92,
    "start_time": "2023-03-11T08:26:47.141Z"
   },
   {
    "duration": 5,
    "start_time": "2023-03-11T08:28:35.137Z"
   },
   {
    "duration": 6,
    "start_time": "2023-03-11T08:28:52.267Z"
   },
   {
    "duration": 926,
    "start_time": "2023-03-11T08:29:18.970Z"
   },
   {
    "duration": 932,
    "start_time": "2023-03-11T08:30:04.911Z"
   },
   {
    "duration": 713,
    "start_time": "2023-03-11T08:31:28.325Z"
   },
   {
    "duration": 984,
    "start_time": "2023-03-11T08:31:52.335Z"
   },
   {
    "duration": 16,
    "start_time": "2023-03-11T08:32:13.402Z"
   },
   {
    "duration": 1835,
    "start_time": "2023-03-11T08:33:10.405Z"
   },
   {
    "duration": 24,
    "start_time": "2023-03-11T08:33:12.246Z"
   },
   {
    "duration": 24,
    "start_time": "2023-03-11T08:33:12.272Z"
   },
   {
    "duration": 77,
    "start_time": "2023-03-11T08:33:12.299Z"
   },
   {
    "duration": 74,
    "start_time": "2023-03-11T08:33:12.379Z"
   },
   {
    "duration": 16,
    "start_time": "2023-03-11T08:33:12.455Z"
   },
   {
    "duration": 4,
    "start_time": "2023-03-11T08:33:12.473Z"
   },
   {
    "duration": 59,
    "start_time": "2023-03-11T08:33:12.486Z"
   },
   {
    "duration": 30,
    "start_time": "2023-03-11T08:33:12.547Z"
   },
   {
    "duration": 72,
    "start_time": "2023-03-11T08:33:12.579Z"
   },
   {
    "duration": 11,
    "start_time": "2023-03-11T08:33:12.653Z"
   },
   {
    "duration": 51,
    "start_time": "2023-03-11T08:33:12.666Z"
   },
   {
    "duration": 44,
    "start_time": "2023-03-11T08:33:12.719Z"
   },
   {
    "duration": 21,
    "start_time": "2023-03-11T08:33:12.769Z"
   },
   {
    "duration": 28,
    "start_time": "2023-03-11T08:33:12.794Z"
   },
   {
    "duration": 15,
    "start_time": "2023-03-11T08:33:12.824Z"
   },
   {
    "duration": 33,
    "start_time": "2023-03-11T08:33:12.842Z"
   },
   {
    "duration": 29,
    "start_time": "2023-03-11T08:33:12.879Z"
   },
   {
    "duration": 37,
    "start_time": "2023-03-11T08:33:12.910Z"
   },
   {
    "duration": 6,
    "start_time": "2023-03-11T08:33:12.949Z"
   },
   {
    "duration": 468,
    "start_time": "2023-03-11T08:33:12.957Z"
   },
   {
    "duration": 32,
    "start_time": "2023-03-11T08:33:13.481Z"
   },
   {
    "duration": 122,
    "start_time": "2023-03-11T08:33:13.517Z"
   },
   {
    "duration": 4,
    "start_time": "2023-03-11T08:33:13.641Z"
   },
   {
    "duration": 16,
    "start_time": "2023-03-11T08:33:13.646Z"
   },
   {
    "duration": 1245,
    "start_time": "2023-03-11T08:33:13.666Z"
   },
   {
    "duration": 2015,
    "start_time": "2023-03-11T08:33:14.920Z"
   },
   {
    "duration": 54,
    "start_time": "2023-03-11T08:33:16.936Z"
   },
   {
    "duration": 57,
    "start_time": "2023-03-11T08:33:16.993Z"
   },
   {
    "duration": 226,
    "start_time": "2023-03-11T08:33:17.052Z"
   },
   {
    "duration": 0,
    "start_time": "2023-03-11T08:33:17.290Z"
   },
   {
    "duration": 0,
    "start_time": "2023-03-11T08:33:17.291Z"
   },
   {
    "duration": 0,
    "start_time": "2023-03-11T08:33:17.292Z"
   },
   {
    "duration": 0,
    "start_time": "2023-03-11T08:33:17.293Z"
   },
   {
    "duration": 0,
    "start_time": "2023-03-11T08:33:17.294Z"
   },
   {
    "duration": 0,
    "start_time": "2023-03-11T08:33:17.295Z"
   },
   {
    "duration": 0,
    "start_time": "2023-03-11T08:33:17.296Z"
   },
   {
    "duration": 0,
    "start_time": "2023-03-11T08:33:17.297Z"
   },
   {
    "duration": 0,
    "start_time": "2023-03-11T08:33:17.298Z"
   },
   {
    "duration": 0,
    "start_time": "2023-03-11T08:33:17.299Z"
   },
   {
    "duration": 0,
    "start_time": "2023-03-11T08:33:17.299Z"
   },
   {
    "duration": 0,
    "start_time": "2023-03-11T08:33:17.300Z"
   },
   {
    "duration": 0,
    "start_time": "2023-03-11T08:33:17.301Z"
   },
   {
    "duration": 0,
    "start_time": "2023-03-11T08:33:17.302Z"
   },
   {
    "duration": 0,
    "start_time": "2023-03-11T08:33:17.303Z"
   },
   {
    "duration": 0,
    "start_time": "2023-03-11T08:33:17.304Z"
   },
   {
    "duration": 0,
    "start_time": "2023-03-11T08:33:17.308Z"
   },
   {
    "duration": 0,
    "start_time": "2023-03-11T08:33:17.310Z"
   },
   {
    "duration": 0,
    "start_time": "2023-03-11T08:33:17.311Z"
   },
   {
    "duration": 61,
    "start_time": "2023-03-11T08:34:04.495Z"
   },
   {
    "duration": 50,
    "start_time": "2023-03-11T08:34:35.509Z"
   },
   {
    "duration": 10,
    "start_time": "2023-03-11T08:35:01.638Z"
   },
   {
    "duration": 19,
    "start_time": "2023-03-11T08:35:16.877Z"
   },
   {
    "duration": 78,
    "start_time": "2023-03-11T08:35:39.431Z"
   },
   {
    "duration": 11,
    "start_time": "2023-03-11T08:35:54.453Z"
   },
   {
    "duration": 22,
    "start_time": "2023-03-11T08:36:04.972Z"
   },
   {
    "duration": 4,
    "start_time": "2023-03-11T08:36:15.639Z"
   },
   {
    "duration": 156,
    "start_time": "2023-03-11T08:36:29.308Z"
   },
   {
    "duration": 337,
    "start_time": "2023-03-11T08:36:46.011Z"
   },
   {
    "duration": 7,
    "start_time": "2023-03-11T08:37:54.434Z"
   },
   {
    "duration": 5,
    "start_time": "2023-03-11T08:38:11.942Z"
   },
   {
    "duration": 17,
    "start_time": "2023-03-11T08:38:25.738Z"
   },
   {
    "duration": 18,
    "start_time": "2023-03-11T08:38:48.827Z"
   },
   {
    "duration": 8,
    "start_time": "2023-03-11T08:39:02.912Z"
   },
   {
    "duration": 13,
    "start_time": "2023-03-11T08:39:13.735Z"
   },
   {
    "duration": 14,
    "start_time": "2023-03-11T08:39:24.327Z"
   },
   {
    "duration": 109,
    "start_time": "2023-03-11T08:39:41.098Z"
   },
   {
    "duration": 111,
    "start_time": "2023-03-11T08:39:47.499Z"
   },
   {
    "duration": 320,
    "start_time": "2023-03-11T08:40:11.374Z"
   },
   {
    "duration": 382,
    "start_time": "2023-03-11T08:40:23.913Z"
   },
   {
    "duration": 43,
    "start_time": "2023-03-11T08:40:51.335Z"
   },
   {
    "duration": 12,
    "start_time": "2023-03-11T08:41:24.090Z"
   },
   {
    "duration": 312,
    "start_time": "2023-03-11T08:41:35.756Z"
   },
   {
    "duration": 28,
    "start_time": "2023-03-11T08:41:46.668Z"
   },
   {
    "duration": 32,
    "start_time": "2023-03-11T08:41:59.196Z"
   },
   {
    "duration": 8,
    "start_time": "2023-03-11T08:42:12.700Z"
   },
   {
    "duration": 384,
    "start_time": "2023-03-11T08:42:59.643Z"
   },
   {
    "duration": 20,
    "start_time": "2023-03-11T08:43:16.701Z"
   },
   {
    "duration": 43,
    "start_time": "2023-03-11T08:43:28.655Z"
   },
   {
    "duration": 5,
    "start_time": "2023-03-11T08:44:01.806Z"
   },
   {
    "duration": 8,
    "start_time": "2023-03-11T08:44:12.521Z"
   },
   {
    "duration": 4,
    "start_time": "2023-03-11T08:53:45.260Z"
   },
   {
    "duration": 327,
    "start_time": "2023-03-11T08:53:47.755Z"
   },
   {
    "duration": 4,
    "start_time": "2023-03-11T08:54:02.243Z"
   },
   {
    "duration": 260,
    "start_time": "2023-03-11T08:54:03.871Z"
   },
   {
    "duration": 3,
    "start_time": "2023-03-11T08:55:37.459Z"
   },
   {
    "duration": 5,
    "start_time": "2023-03-11T08:55:38.230Z"
   },
   {
    "duration": 750,
    "start_time": "2023-03-11T08:55:39.555Z"
   },
   {
    "duration": 5,
    "start_time": "2023-03-11T09:00:23.662Z"
   },
   {
    "duration": 7,
    "start_time": "2023-03-11T09:00:40.925Z"
   },
   {
    "duration": 3,
    "start_time": "2023-03-11T09:00:48.855Z"
   },
   {
    "duration": 6,
    "start_time": "2023-03-11T09:00:58.940Z"
   },
   {
    "duration": 11,
    "start_time": "2023-03-11T09:01:00.694Z"
   },
   {
    "duration": 81,
    "start_time": "2023-03-11T09:02:20.487Z"
   },
   {
    "duration": 1544,
    "start_time": "2023-03-11T09:18:25.768Z"
   },
   {
    "duration": 19,
    "start_time": "2023-03-11T09:18:27.314Z"
   },
   {
    "duration": 17,
    "start_time": "2023-03-11T09:18:27.335Z"
   },
   {
    "duration": 14,
    "start_time": "2023-03-11T09:18:27.354Z"
   },
   {
    "duration": 61,
    "start_time": "2023-03-11T09:18:27.370Z"
   },
   {
    "duration": 11,
    "start_time": "2023-03-11T09:18:27.432Z"
   },
   {
    "duration": 4,
    "start_time": "2023-03-11T09:18:27.445Z"
   },
   {
    "duration": 8,
    "start_time": "2023-03-11T09:18:27.451Z"
   },
   {
    "duration": 34,
    "start_time": "2023-03-11T09:18:27.461Z"
   },
   {
    "duration": 37,
    "start_time": "2023-03-11T09:18:27.498Z"
   },
   {
    "duration": 3,
    "start_time": "2023-03-11T09:18:27.537Z"
   },
   {
    "duration": 7,
    "start_time": "2023-03-11T09:18:27.542Z"
   },
   {
    "duration": 7,
    "start_time": "2023-03-11T09:18:27.550Z"
   },
   {
    "duration": 27,
    "start_time": "2023-03-11T09:18:27.558Z"
   },
   {
    "duration": 3,
    "start_time": "2023-03-11T09:18:27.598Z"
   },
   {
    "duration": 22,
    "start_time": "2023-03-11T09:18:27.604Z"
   },
   {
    "duration": 28,
    "start_time": "2023-03-11T09:18:27.628Z"
   },
   {
    "duration": 18,
    "start_time": "2023-03-11T09:18:27.658Z"
   },
   {
    "duration": 24,
    "start_time": "2023-03-11T09:18:27.677Z"
   },
   {
    "duration": 6,
    "start_time": "2023-03-11T09:18:27.703Z"
   },
   {
    "duration": 311,
    "start_time": "2023-03-11T09:18:27.710Z"
   },
   {
    "duration": 175,
    "start_time": "2023-03-11T09:18:28.023Z"
   },
   {
    "duration": 102,
    "start_time": "2023-03-11T09:18:28.200Z"
   },
   {
    "duration": 4,
    "start_time": "2023-03-11T09:18:28.303Z"
   },
   {
    "duration": 6,
    "start_time": "2023-03-11T09:18:28.309Z"
   },
   {
    "duration": 968,
    "start_time": "2023-03-11T09:18:28.316Z"
   },
   {
    "duration": 850,
    "start_time": "2023-03-11T09:18:29.286Z"
   },
   {
    "duration": 7,
    "start_time": "2023-03-11T09:18:30.140Z"
   },
   {
    "duration": 61,
    "start_time": "2023-03-11T09:18:30.149Z"
   },
   {
    "duration": 47,
    "start_time": "2023-03-11T09:18:30.212Z"
   },
   {
    "duration": 37,
    "start_time": "2023-03-11T09:18:30.260Z"
   },
   {
    "duration": 8,
    "start_time": "2023-03-11T09:18:30.299Z"
   },
   {
    "duration": 78,
    "start_time": "2023-03-11T09:18:30.308Z"
   },
   {
    "duration": 132,
    "start_time": "2023-03-11T09:18:30.387Z"
   },
   {
    "duration": 25,
    "start_time": "2023-03-11T09:18:30.521Z"
   },
   {
    "duration": 156,
    "start_time": "2023-03-11T09:18:30.548Z"
   },
   {
    "duration": 185,
    "start_time": "2023-03-11T09:18:30.706Z"
   },
   {
    "duration": 300,
    "start_time": "2023-03-11T09:18:30.893Z"
   },
   {
    "duration": 8,
    "start_time": "2023-03-11T09:18:31.194Z"
   },
   {
    "duration": 42,
    "start_time": "2023-03-11T09:18:31.204Z"
   },
   {
    "duration": 66,
    "start_time": "2023-03-11T09:18:31.247Z"
   },
   {
    "duration": 48,
    "start_time": "2023-03-11T09:18:31.316Z"
   },
   {
    "duration": 53,
    "start_time": "2023-03-11T09:18:31.366Z"
   },
   {
    "duration": 28,
    "start_time": "2023-03-11T09:18:31.420Z"
   },
   {
    "duration": 40,
    "start_time": "2023-03-11T09:18:31.450Z"
   },
   {
    "duration": 26,
    "start_time": "2023-03-11T09:18:31.494Z"
   },
   {
    "duration": 94,
    "start_time": "2023-03-11T09:18:31.523Z"
   },
   {
    "duration": 287,
    "start_time": "2023-03-11T09:18:31.618Z"
   },
   {
    "duration": 506,
    "start_time": "2023-03-11T09:18:31.907Z"
   },
   {
    "duration": 188,
    "start_time": "2023-03-11T09:18:32.415Z"
   },
   {
    "duration": 11,
    "start_time": "2023-03-11T09:18:32.605Z"
   },
   {
    "duration": 318,
    "start_time": "2023-03-11T09:18:32.618Z"
   },
   {
    "duration": 19,
    "start_time": "2023-03-11T09:18:32.938Z"
   },
   {
    "duration": 53,
    "start_time": "2023-03-11T09:18:32.959Z"
   },
   {
    "duration": 22,
    "start_time": "2023-03-11T09:18:33.079Z"
   },
   {
    "duration": 470,
    "start_time": "2023-03-11T09:18:33.103Z"
   },
   {
    "duration": 36,
    "start_time": "2023-03-11T09:18:33.574Z"
   },
   {
    "duration": 23,
    "start_time": "2023-03-11T09:18:33.612Z"
   },
   {
    "duration": 7,
    "start_time": "2023-03-11T09:18:33.636Z"
   },
   {
    "duration": 17,
    "start_time": "2023-03-11T09:18:33.645Z"
   },
   {
    "duration": 69,
    "start_time": "2023-03-13T11:06:53.444Z"
   },
   {
    "duration": 1574,
    "start_time": "2023-03-13T11:07:02.513Z"
   },
   {
    "duration": 100,
    "start_time": "2023-03-13T11:07:04.091Z"
   },
   {
    "duration": 25,
    "start_time": "2023-03-13T11:07:04.194Z"
   },
   {
    "duration": 20,
    "start_time": "2023-03-13T11:07:04.224Z"
   },
   {
    "duration": 68,
    "start_time": "2023-03-13T11:07:04.246Z"
   },
   {
    "duration": 13,
    "start_time": "2023-03-13T11:07:04.316Z"
   },
   {
    "duration": 5,
    "start_time": "2023-03-13T11:07:04.331Z"
   },
   {
    "duration": 28,
    "start_time": "2023-03-13T11:07:04.338Z"
   },
   {
    "duration": 20,
    "start_time": "2023-03-13T11:07:04.368Z"
   },
   {
    "duration": 25,
    "start_time": "2023-03-13T11:07:04.391Z"
   },
   {
    "duration": 4,
    "start_time": "2023-03-13T11:07:04.419Z"
   },
   {
    "duration": 13,
    "start_time": "2023-03-13T11:07:04.425Z"
   },
   {
    "duration": 27,
    "start_time": "2023-03-13T11:07:04.441Z"
   },
   {
    "duration": 7,
    "start_time": "2023-03-13T11:07:04.470Z"
   },
   {
    "duration": 8,
    "start_time": "2023-03-13T11:07:04.479Z"
   },
   {
    "duration": 16,
    "start_time": "2023-03-13T11:07:04.488Z"
   },
   {
    "duration": 20,
    "start_time": "2023-03-13T11:07:04.506Z"
   },
   {
    "duration": 50,
    "start_time": "2023-03-13T11:07:04.528Z"
   },
   {
    "duration": 26,
    "start_time": "2023-03-13T11:07:04.581Z"
   },
   {
    "duration": 7,
    "start_time": "2023-03-13T11:07:04.610Z"
   },
   {
    "duration": 171,
    "start_time": "2023-03-13T11:07:04.619Z"
   },
   {
    "duration": 0,
    "start_time": "2023-03-13T11:07:04.793Z"
   },
   {
    "duration": 1,
    "start_time": "2023-03-13T11:07:04.794Z"
   },
   {
    "duration": 0,
    "start_time": "2023-03-13T11:07:04.796Z"
   },
   {
    "duration": 0,
    "start_time": "2023-03-13T11:07:04.797Z"
   },
   {
    "duration": 0,
    "start_time": "2023-03-13T11:07:04.798Z"
   },
   {
    "duration": 1,
    "start_time": "2023-03-13T11:07:04.799Z"
   },
   {
    "duration": 0,
    "start_time": "2023-03-13T11:07:04.801Z"
   },
   {
    "duration": 0,
    "start_time": "2023-03-13T11:07:04.802Z"
   },
   {
    "duration": 0,
    "start_time": "2023-03-13T11:07:04.803Z"
   },
   {
    "duration": 0,
    "start_time": "2023-03-13T11:07:04.804Z"
   },
   {
    "duration": 0,
    "start_time": "2023-03-13T11:07:04.805Z"
   },
   {
    "duration": 0,
    "start_time": "2023-03-13T11:07:04.806Z"
   },
   {
    "duration": 0,
    "start_time": "2023-03-13T11:07:04.808Z"
   },
   {
    "duration": 0,
    "start_time": "2023-03-13T11:07:04.809Z"
   },
   {
    "duration": 0,
    "start_time": "2023-03-13T11:07:04.810Z"
   },
   {
    "duration": 0,
    "start_time": "2023-03-13T11:07:04.811Z"
   },
   {
    "duration": 0,
    "start_time": "2023-03-13T11:07:04.813Z"
   },
   {
    "duration": 0,
    "start_time": "2023-03-13T11:07:04.816Z"
   },
   {
    "duration": 0,
    "start_time": "2023-03-13T11:07:04.817Z"
   },
   {
    "duration": 0,
    "start_time": "2023-03-13T11:07:04.818Z"
   },
   {
    "duration": 0,
    "start_time": "2023-03-13T11:07:04.819Z"
   },
   {
    "duration": 0,
    "start_time": "2023-03-13T11:07:04.820Z"
   },
   {
    "duration": 0,
    "start_time": "2023-03-13T11:07:04.821Z"
   },
   {
    "duration": 0,
    "start_time": "2023-03-13T11:07:04.822Z"
   },
   {
    "duration": 0,
    "start_time": "2023-03-13T11:07:04.823Z"
   },
   {
    "duration": 0,
    "start_time": "2023-03-13T11:07:04.823Z"
   },
   {
    "duration": 0,
    "start_time": "2023-03-13T11:07:04.865Z"
   },
   {
    "duration": 0,
    "start_time": "2023-03-13T11:07:04.867Z"
   },
   {
    "duration": 0,
    "start_time": "2023-03-13T11:07:04.869Z"
   },
   {
    "duration": 0,
    "start_time": "2023-03-13T11:07:04.871Z"
   },
   {
    "duration": 0,
    "start_time": "2023-03-13T11:07:04.872Z"
   },
   {
    "duration": 0,
    "start_time": "2023-03-13T11:07:04.873Z"
   },
   {
    "duration": 0,
    "start_time": "2023-03-13T11:07:04.874Z"
   },
   {
    "duration": 0,
    "start_time": "2023-03-13T11:07:04.875Z"
   },
   {
    "duration": 0,
    "start_time": "2023-03-13T11:07:04.876Z"
   },
   {
    "duration": 0,
    "start_time": "2023-03-13T11:07:04.877Z"
   },
   {
    "duration": 0,
    "start_time": "2023-03-13T11:07:04.878Z"
   },
   {
    "duration": 0,
    "start_time": "2023-03-13T11:07:04.880Z"
   },
   {
    "duration": 0,
    "start_time": "2023-03-13T11:07:04.881Z"
   },
   {
    "duration": 4,
    "start_time": "2023-03-13T11:07:14.210Z"
   },
   {
    "duration": 5,
    "start_time": "2023-03-13T11:09:55.205Z"
   },
   {
    "duration": 13,
    "start_time": "2023-03-13T11:09:57.300Z"
   },
   {
    "duration": 26,
    "start_time": "2023-03-13T11:10:01.805Z"
   },
   {
    "duration": 4,
    "start_time": "2023-03-13T11:11:22.230Z"
   },
   {
    "duration": 6,
    "start_time": "2023-03-13T11:11:23.505Z"
   },
   {
    "duration": 8,
    "start_time": "2023-03-13T11:11:24.109Z"
   },
   {
    "duration": 7,
    "start_time": "2023-03-13T11:11:25.954Z"
   },
   {
    "duration": 3,
    "start_time": "2023-03-13T11:11:27.317Z"
   },
   {
    "duration": 9,
    "start_time": "2023-03-13T11:11:27.629Z"
   },
   {
    "duration": 22,
    "start_time": "2023-03-13T11:11:27.938Z"
   },
   {
    "duration": 25,
    "start_time": "2023-03-13T11:11:28.785Z"
   },
   {
    "duration": 16,
    "start_time": "2023-03-13T11:11:29.558Z"
   },
   {
    "duration": 4,
    "start_time": "2023-03-13T11:11:33.652Z"
   },
   {
    "duration": 19,
    "start_time": "2023-03-13T11:11:38.523Z"
   },
   {
    "duration": 1339,
    "start_time": "2023-03-13T11:12:03.445Z"
   },
   {
    "duration": 42,
    "start_time": "2023-03-13T11:12:04.785Z"
   },
   {
    "duration": 16,
    "start_time": "2023-03-13T11:12:04.828Z"
   },
   {
    "duration": 11,
    "start_time": "2023-03-13T11:12:04.846Z"
   },
   {
    "duration": 39,
    "start_time": "2023-03-13T11:12:04.858Z"
   },
   {
    "duration": 10,
    "start_time": "2023-03-13T11:12:04.898Z"
   },
   {
    "duration": 3,
    "start_time": "2023-03-13T11:12:04.910Z"
   },
   {
    "duration": 6,
    "start_time": "2023-03-13T11:12:04.915Z"
   },
   {
    "duration": 13,
    "start_time": "2023-03-13T11:12:04.923Z"
   },
   {
    "duration": 43,
    "start_time": "2023-03-13T11:12:04.939Z"
   },
   {
    "duration": 4,
    "start_time": "2023-03-13T11:12:04.984Z"
   },
   {
    "duration": 7,
    "start_time": "2023-03-13T11:12:04.989Z"
   },
   {
    "duration": 7,
    "start_time": "2023-03-13T11:12:04.997Z"
   },
   {
    "duration": 6,
    "start_time": "2023-03-13T11:12:05.006Z"
   },
   {
    "duration": 12,
    "start_time": "2023-03-13T11:12:05.014Z"
   },
   {
    "duration": 12,
    "start_time": "2023-03-13T11:12:05.028Z"
   },
   {
    "duration": 23,
    "start_time": "2023-03-13T11:12:05.065Z"
   },
   {
    "duration": 19,
    "start_time": "2023-03-13T11:12:05.089Z"
   },
   {
    "duration": 20,
    "start_time": "2023-03-13T11:12:05.111Z"
   },
   {
    "duration": 9,
    "start_time": "2023-03-13T11:12:05.133Z"
   },
   {
    "duration": 119,
    "start_time": "2023-03-13T11:12:05.165Z"
   },
   {
    "duration": 0,
    "start_time": "2023-03-13T11:12:05.287Z"
   },
   {
    "duration": 0,
    "start_time": "2023-03-13T11:12:05.288Z"
   },
   {
    "duration": 0,
    "start_time": "2023-03-13T11:12:05.289Z"
   },
   {
    "duration": 0,
    "start_time": "2023-03-13T11:12:05.290Z"
   },
   {
    "duration": 0,
    "start_time": "2023-03-13T11:12:05.291Z"
   },
   {
    "duration": 0,
    "start_time": "2023-03-13T11:12:05.292Z"
   },
   {
    "duration": 0,
    "start_time": "2023-03-13T11:12:05.293Z"
   },
   {
    "duration": 0,
    "start_time": "2023-03-13T11:12:05.294Z"
   },
   {
    "duration": 0,
    "start_time": "2023-03-13T11:12:05.295Z"
   },
   {
    "duration": 0,
    "start_time": "2023-03-13T11:12:05.296Z"
   },
   {
    "duration": 0,
    "start_time": "2023-03-13T11:12:05.297Z"
   },
   {
    "duration": 0,
    "start_time": "2023-03-13T11:12:05.298Z"
   },
   {
    "duration": 0,
    "start_time": "2023-03-13T11:12:05.299Z"
   },
   {
    "duration": 0,
    "start_time": "2023-03-13T11:12:05.300Z"
   },
   {
    "duration": 0,
    "start_time": "2023-03-13T11:12:05.301Z"
   },
   {
    "duration": 0,
    "start_time": "2023-03-13T11:12:05.302Z"
   },
   {
    "duration": 0,
    "start_time": "2023-03-13T11:12:05.303Z"
   },
   {
    "duration": 0,
    "start_time": "2023-03-13T11:12:05.304Z"
   },
   {
    "duration": 0,
    "start_time": "2023-03-13T11:12:05.305Z"
   },
   {
    "duration": 0,
    "start_time": "2023-03-13T11:12:05.306Z"
   },
   {
    "duration": 0,
    "start_time": "2023-03-13T11:12:05.308Z"
   },
   {
    "duration": 0,
    "start_time": "2023-03-13T11:12:05.309Z"
   },
   {
    "duration": 0,
    "start_time": "2023-03-13T11:12:05.310Z"
   },
   {
    "duration": 0,
    "start_time": "2023-03-13T11:12:05.311Z"
   },
   {
    "duration": 0,
    "start_time": "2023-03-13T11:12:05.312Z"
   },
   {
    "duration": 0,
    "start_time": "2023-03-13T11:12:05.313Z"
   },
   {
    "duration": 0,
    "start_time": "2023-03-13T11:12:05.314Z"
   },
   {
    "duration": 0,
    "start_time": "2023-03-13T11:12:05.315Z"
   },
   {
    "duration": 0,
    "start_time": "2023-03-13T11:12:05.365Z"
   },
   {
    "duration": 0,
    "start_time": "2023-03-13T11:12:05.366Z"
   },
   {
    "duration": 0,
    "start_time": "2023-03-13T11:12:05.367Z"
   },
   {
    "duration": 0,
    "start_time": "2023-03-13T11:12:05.368Z"
   },
   {
    "duration": 0,
    "start_time": "2023-03-13T11:12:05.369Z"
   },
   {
    "duration": 0,
    "start_time": "2023-03-13T11:12:05.370Z"
   },
   {
    "duration": 0,
    "start_time": "2023-03-13T11:12:05.372Z"
   },
   {
    "duration": 0,
    "start_time": "2023-03-13T11:12:05.373Z"
   },
   {
    "duration": 0,
    "start_time": "2023-03-13T11:12:05.374Z"
   },
   {
    "duration": 0,
    "start_time": "2023-03-13T11:12:05.375Z"
   },
   {
    "duration": 0,
    "start_time": "2023-03-13T11:12:05.376Z"
   },
   {
    "duration": 20,
    "start_time": "2023-03-13T11:13:57.108Z"
   },
   {
    "duration": 4,
    "start_time": "2023-03-13T11:16:35.609Z"
   },
   {
    "duration": 5,
    "start_time": "2023-03-13T11:16:40.222Z"
   },
   {
    "duration": 15,
    "start_time": "2023-03-13T11:16:43.280Z"
   },
   {
    "duration": 22,
    "start_time": "2023-03-13T11:16:46.857Z"
   },
   {
    "duration": 3,
    "start_time": "2023-03-13T11:16:50.282Z"
   },
   {
    "duration": 5,
    "start_time": "2023-03-13T11:16:52.122Z"
   },
   {
    "duration": 6,
    "start_time": "2023-03-13T11:16:52.785Z"
   },
   {
    "duration": 5,
    "start_time": "2023-03-13T11:16:53.935Z"
   },
   {
    "duration": 3,
    "start_time": "2023-03-13T11:16:56.227Z"
   },
   {
    "duration": 10,
    "start_time": "2023-03-13T11:16:56.564Z"
   },
   {
    "duration": 20,
    "start_time": "2023-03-13T11:16:56.972Z"
   },
   {
    "duration": 17,
    "start_time": "2023-03-13T11:17:00.032Z"
   },
   {
    "duration": 19,
    "start_time": "2023-03-13T11:17:01.708Z"
   },
   {
    "duration": 4,
    "start_time": "2023-03-13T11:17:04.877Z"
   },
   {
    "duration": 268,
    "start_time": "2023-03-13T11:17:06.366Z"
   },
   {
    "duration": 4,
    "start_time": "2023-03-13T11:18:07.125Z"
   },
   {
    "duration": 9,
    "start_time": "2023-03-13T11:18:21.376Z"
   },
   {
    "duration": 86,
    "start_time": "2023-03-13T11:18:22.252Z"
   },
   {
    "duration": 3,
    "start_time": "2023-03-13T11:18:26.671Z"
   },
   {
    "duration": 5,
    "start_time": "2023-03-13T11:18:28.644Z"
   },
   {
    "duration": 713,
    "start_time": "2023-03-13T11:18:29.161Z"
   },
   {
    "duration": 661,
    "start_time": "2023-03-13T11:18:33.654Z"
   },
   {
    "duration": 10,
    "start_time": "2023-03-13T11:18:34.317Z"
   },
   {
    "duration": 53,
    "start_time": "2023-03-13T11:18:34.650Z"
   },
   {
    "duration": 14,
    "start_time": "2023-03-13T11:22:34.105Z"
   },
   {
    "duration": 15,
    "start_time": "2023-03-13T11:23:57.524Z"
   },
   {
    "duration": 194,
    "start_time": "2023-03-13T11:25:04.799Z"
   },
   {
    "duration": 5080,
    "start_time": "2023-03-13T11:27:57.161Z"
   },
   {
    "duration": 3839,
    "start_time": "2023-03-13T11:30:11.426Z"
   },
   {
    "duration": 4577,
    "start_time": "2023-03-13T11:32:34.044Z"
   },
   {
    "duration": 255,
    "start_time": "2023-03-13T11:35:10.609Z"
   },
   {
    "duration": 85,
    "start_time": "2023-03-13T11:38:19.943Z"
   },
   {
    "duration": 164,
    "start_time": "2023-03-13T11:39:29.806Z"
   },
   {
    "duration": 1439,
    "start_time": "2023-03-13T11:39:45.115Z"
   },
   {
    "duration": 50,
    "start_time": "2023-03-13T11:39:46.557Z"
   },
   {
    "duration": 26,
    "start_time": "2023-03-13T11:39:46.609Z"
   },
   {
    "duration": 29,
    "start_time": "2023-03-13T11:39:46.638Z"
   },
   {
    "duration": 56,
    "start_time": "2023-03-13T11:39:46.669Z"
   },
   {
    "duration": 10,
    "start_time": "2023-03-13T11:39:46.727Z"
   },
   {
    "duration": 11,
    "start_time": "2023-03-13T11:39:46.739Z"
   },
   {
    "duration": 17,
    "start_time": "2023-03-13T11:39:46.751Z"
   },
   {
    "duration": 24,
    "start_time": "2023-03-13T11:39:46.770Z"
   },
   {
    "duration": 25,
    "start_time": "2023-03-13T11:39:46.797Z"
   },
   {
    "duration": 7,
    "start_time": "2023-03-13T11:39:46.824Z"
   },
   {
    "duration": 9,
    "start_time": "2023-03-13T11:39:46.833Z"
   },
   {
    "duration": 24,
    "start_time": "2023-03-13T11:39:46.843Z"
   },
   {
    "duration": 7,
    "start_time": "2023-03-13T11:39:46.868Z"
   },
   {
    "duration": 23,
    "start_time": "2023-03-13T11:39:46.877Z"
   },
   {
    "duration": 27,
    "start_time": "2023-03-13T11:39:46.901Z"
   },
   {
    "duration": 34,
    "start_time": "2023-03-13T11:39:46.931Z"
   },
   {
    "duration": 23,
    "start_time": "2023-03-13T11:39:46.968Z"
   },
   {
    "duration": 19,
    "start_time": "2023-03-13T11:39:46.993Z"
   },
   {
    "duration": 11,
    "start_time": "2023-03-13T11:39:47.014Z"
   },
   {
    "duration": 439,
    "start_time": "2023-03-13T11:39:47.027Z"
   },
   {
    "duration": 10,
    "start_time": "2023-03-13T11:39:47.468Z"
   },
   {
    "duration": 134,
    "start_time": "2023-03-13T11:39:47.481Z"
   },
   {
    "duration": 4,
    "start_time": "2023-03-13T11:39:47.617Z"
   },
   {
    "duration": 10,
    "start_time": "2023-03-13T11:39:47.622Z"
   },
   {
    "duration": 830,
    "start_time": "2023-03-13T11:39:47.634Z"
   },
   {
    "duration": 772,
    "start_time": "2023-03-13T11:39:48.467Z"
   },
   {
    "duration": 8,
    "start_time": "2023-03-13T11:39:49.244Z"
   },
   {
    "duration": 65,
    "start_time": "2023-03-13T11:39:49.253Z"
   },
   {
    "duration": 170,
    "start_time": "2023-03-13T11:39:49.319Z"
   },
   {
    "duration": 4951,
    "start_time": "2023-03-13T11:39:49.491Z"
   },
   {
    "duration": 4727,
    "start_time": "2023-03-13T11:39:54.444Z"
   },
   {
    "duration": 603,
    "start_time": "2023-03-13T11:39:59.172Z"
   },
   {
    "duration": 219,
    "start_time": "2023-03-13T11:39:59.777Z"
   },
   {
    "duration": 12,
    "start_time": "2023-03-13T11:39:59.998Z"
   },
   {
    "duration": 12,
    "start_time": "2023-03-13T11:40:00.066Z"
   },
   {
    "duration": 191,
    "start_time": "2023-03-13T11:40:00.080Z"
   },
   {
    "duration": 11,
    "start_time": "2023-03-13T11:40:00.273Z"
   },
   {
    "duration": 193,
    "start_time": "2023-03-13T11:40:00.286Z"
   },
   {
    "duration": 116,
    "start_time": "2023-03-13T11:40:00.481Z"
   },
   {
    "duration": 285,
    "start_time": "2023-03-13T11:40:00.599Z"
   },
   {
    "duration": 479,
    "start_time": "2023-03-13T11:40:00.886Z"
   },
   {
    "duration": 6,
    "start_time": "2023-03-13T11:40:01.367Z"
   },
   {
    "duration": 18,
    "start_time": "2023-03-13T11:40:01.374Z"
   },
   {
    "duration": 13,
    "start_time": "2023-03-13T11:40:01.394Z"
   },
   {
    "duration": 78,
    "start_time": "2023-03-13T11:40:01.408Z"
   },
   {
    "duration": 37,
    "start_time": "2023-03-13T11:40:01.488Z"
   },
   {
    "duration": 22,
    "start_time": "2023-03-13T11:40:01.527Z"
   },
   {
    "duration": 38,
    "start_time": "2023-03-13T11:40:01.551Z"
   },
   {
    "duration": 21,
    "start_time": "2023-03-13T11:40:01.592Z"
   },
   {
    "duration": 123,
    "start_time": "2023-03-13T11:40:01.615Z"
   },
   {
    "duration": 248,
    "start_time": "2023-03-13T11:40:01.740Z"
   },
   {
    "duration": 477,
    "start_time": "2023-03-13T11:40:01.990Z"
   },
   {
    "duration": 213,
    "start_time": "2023-03-13T11:40:02.469Z"
   },
   {
    "duration": 8,
    "start_time": "2023-03-13T11:40:02.684Z"
   },
   {
    "duration": 286,
    "start_time": "2023-03-13T11:40:02.693Z"
   },
   {
    "duration": 21,
    "start_time": "2023-03-13T11:40:02.982Z"
   },
   {
    "duration": 61,
    "start_time": "2023-03-13T11:40:03.005Z"
   },
   {
    "duration": 98,
    "start_time": "2023-03-13T11:40:03.068Z"
   },
   {
    "duration": 423,
    "start_time": "2023-03-13T11:40:03.168Z"
   },
   {
    "duration": 26,
    "start_time": "2023-03-13T11:40:03.593Z"
   },
   {
    "duration": 22,
    "start_time": "2023-03-13T11:40:03.620Z"
   },
   {
    "duration": 27,
    "start_time": "2023-03-13T11:40:03.643Z"
   },
   {
    "duration": 15,
    "start_time": "2023-03-13T11:40:03.680Z"
   },
   {
    "duration": 75,
    "start_time": "2023-03-13T11:41:25.001Z"
   },
   {
    "duration": 83,
    "start_time": "2023-03-14T04:35:01.468Z"
   },
   {
    "duration": 1717,
    "start_time": "2023-03-14T04:35:15.118Z"
   },
   {
    "duration": 130,
    "start_time": "2023-03-14T04:35:16.841Z"
   },
   {
    "duration": 28,
    "start_time": "2023-03-14T04:35:16.973Z"
   },
   {
    "duration": 18,
    "start_time": "2023-03-14T04:35:17.004Z"
   },
   {
    "duration": 63,
    "start_time": "2023-03-14T04:35:17.024Z"
   },
   {
    "duration": 15,
    "start_time": "2023-03-14T04:35:17.090Z"
   },
   {
    "duration": 5,
    "start_time": "2023-03-14T04:35:17.107Z"
   },
   {
    "duration": 27,
    "start_time": "2023-03-14T04:35:17.113Z"
   },
   {
    "duration": 23,
    "start_time": "2023-03-14T04:35:17.142Z"
   },
   {
    "duration": 31,
    "start_time": "2023-03-14T04:35:17.168Z"
   },
   {
    "duration": 5,
    "start_time": "2023-03-14T04:35:17.201Z"
   },
   {
    "duration": 11,
    "start_time": "2023-03-14T04:35:17.207Z"
   },
   {
    "duration": 13,
    "start_time": "2023-03-14T04:35:17.220Z"
   },
   {
    "duration": 20,
    "start_time": "2023-03-14T04:35:17.235Z"
   },
   {
    "duration": 37,
    "start_time": "2023-03-14T04:35:17.257Z"
   },
   {
    "duration": 26,
    "start_time": "2023-03-14T04:35:17.296Z"
   },
   {
    "duration": 36,
    "start_time": "2023-03-14T04:35:17.324Z"
   },
   {
    "duration": 33,
    "start_time": "2023-03-14T04:35:17.362Z"
   },
   {
    "duration": 23,
    "start_time": "2023-03-14T04:35:17.401Z"
   },
   {
    "duration": 8,
    "start_time": "2023-03-14T04:35:17.426Z"
   },
   {
    "duration": 370,
    "start_time": "2023-03-14T04:35:17.436Z"
   },
   {
    "duration": 89,
    "start_time": "2023-03-14T04:35:17.812Z"
   },
   {
    "duration": 198,
    "start_time": "2023-03-14T04:35:17.908Z"
   },
   {
    "duration": 4,
    "start_time": "2023-03-14T04:35:18.108Z"
   },
   {
    "duration": 13,
    "start_time": "2023-03-14T04:35:18.113Z"
   },
   {
    "duration": 951,
    "start_time": "2023-03-14T04:35:18.128Z"
   },
   {
    "duration": 938,
    "start_time": "2023-03-14T04:35:19.081Z"
   },
   {
    "duration": 10,
    "start_time": "2023-03-14T04:35:20.023Z"
   },
   {
    "duration": 78,
    "start_time": "2023-03-14T04:35:20.035Z"
   },
   {
    "duration": 196,
    "start_time": "2023-03-14T04:35:20.115Z"
   },
   {
    "duration": 7464,
    "start_time": "2023-03-14T04:35:20.313Z"
   },
   {
    "duration": 5171,
    "start_time": "2023-03-14T04:35:27.786Z"
   },
   {
    "duration": 142,
    "start_time": "2023-03-14T04:35:32.959Z"
   },
   {
    "duration": 198,
    "start_time": "2023-03-14T04:35:33.102Z"
   },
   {
    "duration": 12,
    "start_time": "2023-03-14T04:35:33.303Z"
   },
   {
    "duration": 10,
    "start_time": "2023-03-14T04:35:33.317Z"
   },
   {
    "duration": 61,
    "start_time": "2023-03-14T04:35:33.329Z"
   },
   {
    "duration": 96,
    "start_time": "2023-03-14T04:35:33.397Z"
   },
   {
    "duration": 26,
    "start_time": "2023-03-14T04:35:33.495Z"
   },
   {
    "duration": 96,
    "start_time": "2023-03-14T04:35:33.581Z"
   },
   {
    "duration": 169,
    "start_time": "2023-03-14T04:35:33.684Z"
   },
   {
    "duration": 344,
    "start_time": "2023-03-14T04:35:33.855Z"
   },
   {
    "duration": 7,
    "start_time": "2023-03-14T04:35:34.201Z"
   },
   {
    "duration": 11,
    "start_time": "2023-03-14T04:35:34.210Z"
   },
   {
    "duration": 9,
    "start_time": "2023-03-14T04:35:34.224Z"
   },
   {
    "duration": 34,
    "start_time": "2023-03-14T04:35:34.235Z"
   },
   {
    "duration": 24,
    "start_time": "2023-03-14T04:35:34.271Z"
   },
   {
    "duration": 21,
    "start_time": "2023-03-14T04:35:34.296Z"
   },
   {
    "duration": 16,
    "start_time": "2023-03-14T04:35:34.319Z"
   },
   {
    "duration": 16,
    "start_time": "2023-03-14T04:35:34.337Z"
   },
   {
    "duration": 117,
    "start_time": "2023-03-14T04:35:34.355Z"
   },
   {
    "duration": 408,
    "start_time": "2023-03-14T04:35:34.474Z"
   },
   {
    "duration": 507,
    "start_time": "2023-03-14T04:35:34.889Z"
   },
   {
    "duration": 131,
    "start_time": "2023-03-14T04:35:35.406Z"
   },
   {
    "duration": 17,
    "start_time": "2023-03-14T04:35:35.577Z"
   },
   {
    "duration": 217,
    "start_time": "2023-03-14T04:35:35.597Z"
   },
   {
    "duration": 20,
    "start_time": "2023-03-14T04:35:35.816Z"
   },
   {
    "duration": 149,
    "start_time": "2023-03-14T04:35:35.838Z"
   },
   {
    "duration": 0,
    "start_time": "2023-03-14T04:35:35.991Z"
   },
   {
    "duration": 0,
    "start_time": "2023-03-14T04:35:35.992Z"
   },
   {
    "duration": 0,
    "start_time": "2023-03-14T04:35:35.993Z"
   },
   {
    "duration": 0,
    "start_time": "2023-03-14T04:35:35.994Z"
   },
   {
    "duration": 0,
    "start_time": "2023-03-14T04:35:35.994Z"
   },
   {
    "duration": 242,
    "start_time": "2023-03-14T04:37:49.396Z"
   },
   {
    "duration": 286,
    "start_time": "2023-03-14T04:39:12.377Z"
   },
   {
    "duration": 5,
    "start_time": "2023-03-14T04:51:48.642Z"
   },
   {
    "duration": 15,
    "start_time": "2023-03-14T04:51:49.526Z"
   },
   {
    "duration": 1507,
    "start_time": "2023-03-14T04:53:26.652Z"
   },
   {
    "duration": 48,
    "start_time": "2023-03-14T04:53:28.161Z"
   },
   {
    "duration": 18,
    "start_time": "2023-03-14T04:53:28.210Z"
   },
   {
    "duration": 12,
    "start_time": "2023-03-14T04:53:28.231Z"
   },
   {
    "duration": 50,
    "start_time": "2023-03-14T04:53:28.245Z"
   },
   {
    "duration": 11,
    "start_time": "2023-03-14T04:53:28.297Z"
   },
   {
    "duration": 4,
    "start_time": "2023-03-14T04:53:28.310Z"
   },
   {
    "duration": 8,
    "start_time": "2023-03-14T04:53:28.316Z"
   },
   {
    "duration": 15,
    "start_time": "2023-03-14T04:53:28.326Z"
   },
   {
    "duration": 53,
    "start_time": "2023-03-14T04:53:28.344Z"
   },
   {
    "duration": 4,
    "start_time": "2023-03-14T04:53:28.399Z"
   },
   {
    "duration": 27,
    "start_time": "2023-03-14T04:53:28.404Z"
   },
   {
    "duration": 9,
    "start_time": "2023-03-14T04:53:28.433Z"
   },
   {
    "duration": 10,
    "start_time": "2023-03-14T04:53:28.444Z"
   },
   {
    "duration": 11,
    "start_time": "2023-03-14T04:53:28.456Z"
   },
   {
    "duration": 30,
    "start_time": "2023-03-14T04:53:28.469Z"
   },
   {
    "duration": 26,
    "start_time": "2023-03-14T04:53:28.501Z"
   },
   {
    "duration": 22,
    "start_time": "2023-03-14T04:53:28.530Z"
   },
   {
    "duration": 38,
    "start_time": "2023-03-14T04:53:28.555Z"
   },
   {
    "duration": 5,
    "start_time": "2023-03-14T04:53:28.596Z"
   },
   {
    "duration": 307,
    "start_time": "2023-03-14T04:53:28.603Z"
   },
   {
    "duration": 85,
    "start_time": "2023-03-14T04:53:28.912Z"
   },
   {
    "duration": 107,
    "start_time": "2023-03-14T04:53:29.079Z"
   },
   {
    "duration": 5,
    "start_time": "2023-03-14T04:53:29.188Z"
   },
   {
    "duration": 13,
    "start_time": "2023-03-14T04:53:29.194Z"
   },
   {
    "duration": 981,
    "start_time": "2023-03-14T04:53:29.209Z"
   },
   {
    "duration": 897,
    "start_time": "2023-03-14T04:53:30.197Z"
   },
   {
    "duration": 9,
    "start_time": "2023-03-14T04:53:31.100Z"
   },
   {
    "duration": 85,
    "start_time": "2023-03-14T04:53:31.111Z"
   },
   {
    "duration": 192,
    "start_time": "2023-03-14T04:53:31.198Z"
   },
   {
    "duration": 5922,
    "start_time": "2023-03-14T04:53:31.392Z"
   },
   {
    "duration": 5211,
    "start_time": "2023-03-14T04:53:37.316Z"
   },
   {
    "duration": 369,
    "start_time": "2023-03-14T04:53:42.530Z"
   },
   {
    "duration": 186,
    "start_time": "2023-03-14T04:53:42.904Z"
   },
   {
    "duration": 28,
    "start_time": "2023-03-14T04:53:43.094Z"
   },
   {
    "duration": 72,
    "start_time": "2023-03-14T04:53:43.126Z"
   },
   {
    "duration": 94,
    "start_time": "2023-03-14T04:53:43.200Z"
   },
   {
    "duration": 121,
    "start_time": "2023-03-14T04:53:43.297Z"
   },
   {
    "duration": 26,
    "start_time": "2023-03-14T04:53:43.421Z"
   },
   {
    "duration": 131,
    "start_time": "2023-03-14T04:53:43.450Z"
   },
   {
    "duration": 185,
    "start_time": "2023-03-14T04:53:43.583Z"
   },
   {
    "duration": 350,
    "start_time": "2023-03-14T04:53:43.770Z"
   },
   {
    "duration": 6,
    "start_time": "2023-03-14T04:53:44.122Z"
   },
   {
    "duration": 14,
    "start_time": "2023-03-14T04:53:44.130Z"
   },
   {
    "duration": 10,
    "start_time": "2023-03-14T04:53:44.146Z"
   },
   {
    "duration": 25,
    "start_time": "2023-03-14T04:53:44.157Z"
   },
   {
    "duration": 21,
    "start_time": "2023-03-14T04:53:44.192Z"
   },
   {
    "duration": 8,
    "start_time": "2023-03-14T04:53:44.214Z"
   },
   {
    "duration": 24,
    "start_time": "2023-03-14T04:53:44.223Z"
   },
   {
    "duration": 12,
    "start_time": "2023-03-14T04:53:44.249Z"
   },
   {
    "duration": 101,
    "start_time": "2023-03-14T04:53:44.263Z"
   },
   {
    "duration": 331,
    "start_time": "2023-03-14T04:53:44.366Z"
   },
   {
    "duration": 452,
    "start_time": "2023-03-14T04:53:44.795Z"
   },
   {
    "duration": 131,
    "start_time": "2023-03-14T04:53:45.289Z"
   },
   {
    "duration": 9,
    "start_time": "2023-03-14T04:53:45.422Z"
   },
   {
    "duration": 231,
    "start_time": "2023-03-14T04:53:45.433Z"
   },
   {
    "duration": 27,
    "start_time": "2023-03-14T04:53:45.666Z"
   },
   {
    "duration": 27,
    "start_time": "2023-03-14T04:53:45.696Z"
   },
   {
    "duration": 61,
    "start_time": "2023-03-14T04:53:45.725Z"
   },
   {
    "duration": 281,
    "start_time": "2023-03-14T04:53:45.787Z"
   },
   {
    "duration": 33,
    "start_time": "2023-03-14T04:53:46.069Z"
   },
   {
    "duration": 23,
    "start_time": "2023-03-14T04:53:46.104Z"
   },
   {
    "duration": 8,
    "start_time": "2023-03-14T04:53:46.129Z"
   },
   {
    "duration": 13,
    "start_time": "2023-03-14T04:53:46.139Z"
   },
   {
    "duration": 77,
    "start_time": "2023-03-17T06:26:25.043Z"
   },
   {
    "duration": 1685,
    "start_time": "2023-03-17T06:26:40.837Z"
   },
   {
    "duration": 95,
    "start_time": "2023-03-17T06:26:42.524Z"
   },
   {
    "duration": 20,
    "start_time": "2023-03-17T06:26:42.620Z"
   },
   {
    "duration": 15,
    "start_time": "2023-03-17T06:26:42.643Z"
   },
   {
    "duration": 61,
    "start_time": "2023-03-17T06:26:42.660Z"
   },
   {
    "duration": 12,
    "start_time": "2023-03-17T06:26:42.723Z"
   },
   {
    "duration": 5,
    "start_time": "2023-03-17T06:26:42.736Z"
   },
   {
    "duration": 10,
    "start_time": "2023-03-17T06:26:42.743Z"
   },
   {
    "duration": 37,
    "start_time": "2023-03-17T06:26:42.755Z"
   },
   {
    "duration": 22,
    "start_time": "2023-03-17T06:26:42.795Z"
   },
   {
    "duration": 7,
    "start_time": "2023-03-17T06:26:42.819Z"
   },
   {
    "duration": 11,
    "start_time": "2023-03-17T06:26:42.828Z"
   },
   {
    "duration": 43,
    "start_time": "2023-03-17T06:26:42.842Z"
   },
   {
    "duration": 21,
    "start_time": "2023-03-17T06:26:42.888Z"
   },
   {
    "duration": 52,
    "start_time": "2023-03-17T06:26:42.911Z"
   },
   {
    "duration": 38,
    "start_time": "2023-03-17T06:26:42.965Z"
   },
   {
    "duration": 53,
    "start_time": "2023-03-17T06:26:43.006Z"
   },
   {
    "duration": 36,
    "start_time": "2023-03-17T06:26:43.061Z"
   },
   {
    "duration": 23,
    "start_time": "2023-03-17T06:26:43.099Z"
   },
   {
    "duration": 5,
    "start_time": "2023-03-17T06:26:43.124Z"
   },
   {
    "duration": 298,
    "start_time": "2023-03-17T06:26:43.131Z"
   },
   {
    "duration": 10,
    "start_time": "2023-03-17T06:26:43.482Z"
   },
   {
    "duration": 112,
    "start_time": "2023-03-17T06:26:43.580Z"
   },
   {
    "duration": 4,
    "start_time": "2023-03-17T06:26:43.693Z"
   },
   {
    "duration": 14,
    "start_time": "2023-03-17T06:26:43.699Z"
   },
   {
    "duration": 966,
    "start_time": "2023-03-17T06:26:43.715Z"
   },
   {
    "duration": 794,
    "start_time": "2023-03-17T06:26:44.684Z"
   },
   {
    "duration": 15,
    "start_time": "2023-03-17T06:26:45.487Z"
   },
   {
    "duration": 85,
    "start_time": "2023-03-17T06:26:45.504Z"
   },
   {
    "duration": 206,
    "start_time": "2023-03-17T06:26:45.591Z"
   },
   {
    "duration": 6785,
    "start_time": "2023-03-17T06:26:45.799Z"
   },
   {
    "duration": 4908,
    "start_time": "2023-03-17T06:26:52.587Z"
   },
   {
    "duration": 97,
    "start_time": "2023-03-17T06:26:57.497Z"
   },
   {
    "duration": 219,
    "start_time": "2023-03-17T06:26:57.596Z"
   },
   {
    "duration": 11,
    "start_time": "2023-03-17T06:26:57.817Z"
   },
   {
    "duration": 12,
    "start_time": "2023-03-17T06:26:57.830Z"
   },
   {
    "duration": 57,
    "start_time": "2023-03-17T06:26:57.844Z"
   },
   {
    "duration": 82,
    "start_time": "2023-03-17T06:26:57.903Z"
   },
   {
    "duration": 109,
    "start_time": "2023-03-17T06:26:57.987Z"
   },
   {
    "duration": 84,
    "start_time": "2023-03-17T06:26:58.098Z"
   },
   {
    "duration": 253,
    "start_time": "2023-03-17T06:26:58.185Z"
   },
   {
    "duration": 469,
    "start_time": "2023-03-17T06:26:58.440Z"
   },
   {
    "duration": 7,
    "start_time": "2023-03-17T06:26:58.911Z"
   },
   {
    "duration": 13,
    "start_time": "2023-03-17T06:26:58.920Z"
   },
   {
    "duration": 7,
    "start_time": "2023-03-17T06:26:58.935Z"
   },
   {
    "duration": 24,
    "start_time": "2023-03-17T06:26:58.944Z"
   },
   {
    "duration": 24,
    "start_time": "2023-03-17T06:26:58.970Z"
   },
   {
    "duration": 9,
    "start_time": "2023-03-17T06:26:58.997Z"
   },
   {
    "duration": 13,
    "start_time": "2023-03-17T06:26:59.008Z"
   },
   {
    "duration": 14,
    "start_time": "2023-03-17T06:26:59.024Z"
   },
   {
    "duration": 142,
    "start_time": "2023-03-17T06:26:59.041Z"
   },
   {
    "duration": 298,
    "start_time": "2023-03-17T06:26:59.185Z"
   },
   {
    "duration": 513,
    "start_time": "2023-03-17T06:26:59.485Z"
   },
   {
    "duration": 209,
    "start_time": "2023-03-17T06:27:00.001Z"
   },
   {
    "duration": 10,
    "start_time": "2023-03-17T06:27:00.212Z"
   },
   {
    "duration": 224,
    "start_time": "2023-03-17T06:27:00.224Z"
   },
   {
    "duration": 5800,
    "start_time": "2023-03-17T06:27:00.451Z"
   },
   {
    "duration": 4900,
    "start_time": "2023-03-17T06:27:06.253Z"
   },
   {
    "duration": 214,
    "start_time": "2023-03-17T06:27:11.154Z"
   },
   {
    "duration": 33,
    "start_time": "2023-03-17T06:27:11.370Z"
   },
   {
    "duration": 6,
    "start_time": "2023-03-17T06:27:11.406Z"
   },
   {
    "duration": 18,
    "start_time": "2023-03-17T06:27:11.414Z"
   },
   {
    "duration": 228,
    "start_time": "2023-03-17T06:27:11.435Z"
   },
   {
    "duration": 37,
    "start_time": "2023-03-17T06:27:11.666Z"
   },
   {
    "duration": 27,
    "start_time": "2023-03-17T06:27:11.706Z"
   },
   {
    "duration": 8,
    "start_time": "2023-03-17T06:27:11.735Z"
   },
   {
    "duration": 44,
    "start_time": "2023-03-17T06:27:11.745Z"
   },
   {
    "duration": 7354,
    "start_time": "2023-03-17T06:28:30.894Z"
   },
   {
    "duration": 6769,
    "start_time": "2023-03-17T06:29:01.455Z"
   },
   {
    "duration": 4335,
    "start_time": "2023-03-17T06:34:28.542Z"
   },
   {
    "duration": 267,
    "start_time": "2023-03-17T06:37:56.169Z"
   },
   {
    "duration": 22,
    "start_time": "2023-03-17T06:38:02.217Z"
   },
   {
    "duration": 121,
    "start_time": "2023-03-17T06:52:50.146Z"
   },
   {
    "duration": 127,
    "start_time": "2023-03-17T06:53:56.735Z"
   },
   {
    "duration": 230,
    "start_time": "2023-03-17T07:03:22.443Z"
   },
   {
    "duration": 24,
    "start_time": "2023-03-17T07:03:32.283Z"
   },
   {
    "duration": 1552,
    "start_time": "2023-03-17T07:10:28.953Z"
   },
   {
    "duration": 43,
    "start_time": "2023-03-17T07:10:30.507Z"
   },
   {
    "duration": 33,
    "start_time": "2023-03-17T07:10:30.552Z"
   },
   {
    "duration": 47,
    "start_time": "2023-03-17T07:10:30.587Z"
   },
   {
    "duration": 85,
    "start_time": "2023-03-17T07:10:30.636Z"
   },
   {
    "duration": 27,
    "start_time": "2023-03-17T07:10:30.723Z"
   },
   {
    "duration": 94,
    "start_time": "2023-03-17T07:10:30.752Z"
   },
   {
    "duration": 106,
    "start_time": "2023-03-17T07:10:30.848Z"
   },
   {
    "duration": 61,
    "start_time": "2023-03-17T07:10:30.956Z"
   },
   {
    "duration": 61,
    "start_time": "2023-03-17T07:10:31.020Z"
   },
   {
    "duration": 56,
    "start_time": "2023-03-17T07:10:31.083Z"
   },
   {
    "duration": 68,
    "start_time": "2023-03-17T07:10:31.141Z"
   },
   {
    "duration": 33,
    "start_time": "2023-03-17T07:10:31.211Z"
   },
   {
    "duration": 31,
    "start_time": "2023-03-17T07:10:31.246Z"
   },
   {
    "duration": 44,
    "start_time": "2023-03-17T07:10:31.280Z"
   },
   {
    "duration": 41,
    "start_time": "2023-03-17T07:10:31.326Z"
   },
   {
    "duration": 57,
    "start_time": "2023-03-17T07:10:31.370Z"
   },
   {
    "duration": 88,
    "start_time": "2023-03-17T07:10:31.429Z"
   },
   {
    "duration": 47,
    "start_time": "2023-03-17T07:10:31.519Z"
   },
   {
    "duration": 45,
    "start_time": "2023-03-17T07:10:31.568Z"
   },
   {
    "duration": 365,
    "start_time": "2023-03-17T07:10:31.615Z"
   },
   {
    "duration": 99,
    "start_time": "2023-03-17T07:10:31.983Z"
   },
   {
    "duration": 102,
    "start_time": "2023-03-17T07:10:32.084Z"
   },
   {
    "duration": 5,
    "start_time": "2023-03-17T07:10:32.188Z"
   },
   {
    "duration": 7,
    "start_time": "2023-03-17T07:10:32.194Z"
   },
   {
    "duration": 780,
    "start_time": "2023-03-17T07:10:32.203Z"
   },
   {
    "duration": 816,
    "start_time": "2023-03-17T07:10:32.988Z"
   },
   {
    "duration": 8,
    "start_time": "2023-03-17T07:10:33.808Z"
   },
   {
    "duration": 72,
    "start_time": "2023-03-17T07:10:33.818Z"
   },
   {
    "duration": 173,
    "start_time": "2023-03-17T07:10:33.892Z"
   },
   {
    "duration": 6308,
    "start_time": "2023-03-17T07:10:34.068Z"
   },
   {
    "duration": 4718,
    "start_time": "2023-03-17T07:10:40.380Z"
   },
   {
    "duration": 93,
    "start_time": "2023-03-17T07:10:45.100Z"
   },
   {
    "duration": 205,
    "start_time": "2023-03-17T07:10:45.195Z"
   },
   {
    "duration": 9,
    "start_time": "2023-03-17T07:10:45.401Z"
   },
   {
    "duration": 22,
    "start_time": "2023-03-17T07:10:45.411Z"
   },
   {
    "duration": 60,
    "start_time": "2023-03-17T07:10:45.436Z"
   },
   {
    "duration": 94,
    "start_time": "2023-03-17T07:10:45.498Z"
   },
   {
    "duration": 89,
    "start_time": "2023-03-17T07:10:45.594Z"
   },
   {
    "duration": 100,
    "start_time": "2023-03-17T07:10:45.686Z"
   },
   {
    "duration": 175,
    "start_time": "2023-03-17T07:10:45.788Z"
   },
   {
    "duration": 347,
    "start_time": "2023-03-17T07:10:45.965Z"
   },
   {
    "duration": 7,
    "start_time": "2023-03-17T07:10:46.313Z"
   },
   {
    "duration": 22,
    "start_time": "2023-03-17T07:10:46.326Z"
   },
   {
    "duration": 24,
    "start_time": "2023-03-17T07:10:46.350Z"
   },
   {
    "duration": 15,
    "start_time": "2023-03-17T07:10:46.376Z"
   },
   {
    "duration": 117,
    "start_time": "2023-03-17T07:10:46.393Z"
   },
   {
    "duration": 0,
    "start_time": "2023-03-17T07:10:46.512Z"
   },
   {
    "duration": 0,
    "start_time": "2023-03-17T07:10:46.514Z"
   },
   {
    "duration": 0,
    "start_time": "2023-03-17T07:10:46.515Z"
   },
   {
    "duration": 0,
    "start_time": "2023-03-17T07:10:46.516Z"
   },
   {
    "duration": 0,
    "start_time": "2023-03-17T07:10:46.517Z"
   },
   {
    "duration": 0,
    "start_time": "2023-03-17T07:10:46.518Z"
   },
   {
    "duration": 0,
    "start_time": "2023-03-17T07:10:46.519Z"
   },
   {
    "duration": 0,
    "start_time": "2023-03-17T07:10:46.520Z"
   },
   {
    "duration": 0,
    "start_time": "2023-03-17T07:10:46.522Z"
   },
   {
    "duration": 0,
    "start_time": "2023-03-17T07:10:46.523Z"
   },
   {
    "duration": 0,
    "start_time": "2023-03-17T07:10:46.524Z"
   },
   {
    "duration": 0,
    "start_time": "2023-03-17T07:10:46.524Z"
   },
   {
    "duration": 0,
    "start_time": "2023-03-17T07:10:46.526Z"
   },
   {
    "duration": 0,
    "start_time": "2023-03-17T07:10:46.527Z"
   },
   {
    "duration": 0,
    "start_time": "2023-03-17T07:10:46.528Z"
   },
   {
    "duration": 12,
    "start_time": "2023-03-17T07:24:54.765Z"
   },
   {
    "duration": 6,
    "start_time": "2023-03-17T07:25:01.395Z"
   },
   {
    "duration": 4,
    "start_time": "2023-03-17T07:25:01.911Z"
   },
   {
    "duration": 12,
    "start_time": "2023-03-17T07:25:03.039Z"
   },
   {
    "duration": 16,
    "start_time": "2023-03-17T07:25:03.596Z"
   },
   {
    "duration": 8,
    "start_time": "2023-03-17T07:25:04.452Z"
   },
   {
    "duration": 14,
    "start_time": "2023-03-17T07:25:05.372Z"
   },
   {
    "duration": 13,
    "start_time": "2023-03-17T07:25:06.372Z"
   },
   {
    "duration": 102,
    "start_time": "2023-03-17T07:25:07.172Z"
   },
   {
    "duration": 185,
    "start_time": "2023-03-17T07:25:25.516Z"
   },
   {
    "duration": 53,
    "start_time": "2023-03-17T09:21:52.005Z"
   },
   {
    "duration": 1614,
    "start_time": "2023-03-17T09:21:58.753Z"
   },
   {
    "duration": 156,
    "start_time": "2023-03-17T09:22:00.369Z"
   },
   {
    "duration": 17,
    "start_time": "2023-03-17T09:22:00.526Z"
   },
   {
    "duration": 42,
    "start_time": "2023-03-17T09:22:00.545Z"
   },
   {
    "duration": 81,
    "start_time": "2023-03-17T09:22:00.588Z"
   },
   {
    "duration": 11,
    "start_time": "2023-03-17T09:22:00.671Z"
   },
   {
    "duration": 20,
    "start_time": "2023-03-17T09:22:00.683Z"
   },
   {
    "duration": 29,
    "start_time": "2023-03-17T09:22:00.704Z"
   },
   {
    "duration": 38,
    "start_time": "2023-03-17T09:22:00.735Z"
   },
   {
    "duration": 58,
    "start_time": "2023-03-17T09:22:00.776Z"
   },
   {
    "duration": 15,
    "start_time": "2023-03-17T09:22:00.836Z"
   },
   {
    "duration": 35,
    "start_time": "2023-03-17T09:22:00.853Z"
   },
   {
    "duration": 43,
    "start_time": "2023-03-17T09:22:00.890Z"
   },
   {
    "duration": 29,
    "start_time": "2023-03-17T09:22:00.935Z"
   },
   {
    "duration": 25,
    "start_time": "2023-03-17T09:22:00.966Z"
   },
   {
    "duration": 18,
    "start_time": "2023-03-17T09:22:00.993Z"
   },
   {
    "duration": 68,
    "start_time": "2023-03-17T09:22:01.013Z"
   },
   {
    "duration": 24,
    "start_time": "2023-03-17T09:22:01.083Z"
   },
   {
    "duration": 36,
    "start_time": "2023-03-17T09:22:01.109Z"
   },
   {
    "duration": 12,
    "start_time": "2023-03-17T09:22:01.148Z"
   },
   {
    "duration": 298,
    "start_time": "2023-03-17T09:22:01.161Z"
   },
   {
    "duration": 95,
    "start_time": "2023-03-17T09:22:01.461Z"
   },
   {
    "duration": 111,
    "start_time": "2023-03-17T09:22:01.641Z"
   },
   {
    "duration": 3,
    "start_time": "2023-03-17T09:22:01.753Z"
   },
   {
    "duration": 22,
    "start_time": "2023-03-17T09:22:01.758Z"
   },
   {
    "duration": 794,
    "start_time": "2023-03-17T09:22:01.781Z"
   },
   {
    "duration": 834,
    "start_time": "2023-03-17T09:22:02.577Z"
   },
   {
    "duration": 7,
    "start_time": "2023-03-17T09:22:03.416Z"
   },
   {
    "duration": 63,
    "start_time": "2023-03-17T09:22:03.425Z"
   },
   {
    "duration": 163,
    "start_time": "2023-03-17T09:22:03.490Z"
   },
   {
    "duration": 5056,
    "start_time": "2023-03-17T09:22:03.655Z"
   },
   {
    "duration": 4664,
    "start_time": "2023-03-17T09:22:08.713Z"
   },
   {
    "duration": 476,
    "start_time": "2023-03-17T09:22:13.379Z"
   },
   {
    "duration": 122,
    "start_time": "2023-03-17T09:22:13.943Z"
   },
   {
    "duration": 9,
    "start_time": "2023-03-17T09:22:14.066Z"
   },
   {
    "duration": 10,
    "start_time": "2023-03-17T09:22:14.076Z"
   },
   {
    "duration": 54,
    "start_time": "2023-03-17T09:22:14.088Z"
   },
   {
    "duration": 97,
    "start_time": "2023-03-17T09:22:14.145Z"
   },
   {
    "duration": 11,
    "start_time": "2023-03-17T09:22:14.243Z"
   },
   {
    "duration": 92,
    "start_time": "2023-03-17T09:22:14.257Z"
   },
   {
    "duration": 231,
    "start_time": "2023-03-17T09:22:14.352Z"
   },
   {
    "duration": 320,
    "start_time": "2023-03-17T09:22:14.585Z"
   },
   {
    "duration": 6,
    "start_time": "2023-03-17T09:22:14.907Z"
   },
   {
    "duration": 9,
    "start_time": "2023-03-17T09:22:14.914Z"
   },
   {
    "duration": 29,
    "start_time": "2023-03-17T09:22:14.925Z"
   },
   {
    "duration": 13,
    "start_time": "2023-03-17T09:22:14.957Z"
   },
   {
    "duration": 7,
    "start_time": "2023-03-17T09:22:14.972Z"
   },
   {
    "duration": 12,
    "start_time": "2023-03-17T09:22:14.981Z"
   },
   {
    "duration": 11,
    "start_time": "2023-03-17T09:22:14.995Z"
   },
   {
    "duration": 124,
    "start_time": "2023-03-17T09:22:15.009Z"
   },
   {
    "duration": 306,
    "start_time": "2023-03-17T09:22:15.140Z"
   },
   {
    "duration": 494,
    "start_time": "2023-03-17T09:22:15.449Z"
   },
   {
    "duration": 220,
    "start_time": "2023-03-17T09:22:15.945Z"
   },
   {
    "duration": 7,
    "start_time": "2023-03-17T09:22:16.167Z"
   },
   {
    "duration": 326,
    "start_time": "2023-03-17T09:22:16.176Z"
   },
   {
    "duration": 38,
    "start_time": "2023-03-17T09:22:16.504Z"
   },
   {
    "duration": 98,
    "start_time": "2023-03-17T09:22:16.545Z"
   },
   {
    "duration": 115,
    "start_time": "2023-03-17T09:22:16.647Z"
   },
   {
    "duration": 449,
    "start_time": "2023-03-17T09:22:16.765Z"
   },
   {
    "duration": 7752,
    "start_time": "2023-03-17T09:22:17.216Z"
   },
   {
    "duration": 4442,
    "start_time": "2023-03-17T09:22:24.970Z"
   },
   {
    "duration": 248,
    "start_time": "2023-03-17T09:22:29.414Z"
   },
   {
    "duration": 21,
    "start_time": "2023-03-17T09:22:29.664Z"
   },
   {
    "duration": 131,
    "start_time": "2023-03-17T09:22:29.687Z"
   },
   {
    "duration": 235,
    "start_time": "2023-03-17T09:22:29.821Z"
   },
   {
    "duration": 23,
    "start_time": "2023-03-17T09:22:30.057Z"
   },
   {
    "duration": 28,
    "start_time": "2023-03-17T09:22:30.082Z"
   },
   {
    "duration": 7,
    "start_time": "2023-03-17T09:22:30.112Z"
   },
   {
    "duration": 11,
    "start_time": "2023-03-17T09:22:30.140Z"
   },
   {
    "duration": 120,
    "start_time": "2023-03-17T09:41:23.469Z"
   },
   {
    "duration": 125,
    "start_time": "2023-03-17T09:43:22.428Z"
   },
   {
    "duration": 1506,
    "start_time": "2023-03-17T09:43:54.333Z"
   },
   {
    "duration": 42,
    "start_time": "2023-03-17T09:43:55.842Z"
   },
   {
    "duration": 17,
    "start_time": "2023-03-17T09:43:55.886Z"
   },
   {
    "duration": 13,
    "start_time": "2023-03-17T09:43:55.906Z"
   },
   {
    "duration": 51,
    "start_time": "2023-03-17T09:43:55.921Z"
   },
   {
    "duration": 13,
    "start_time": "2023-03-17T09:43:55.973Z"
   },
   {
    "duration": 4,
    "start_time": "2023-03-17T09:43:55.988Z"
   },
   {
    "duration": 14,
    "start_time": "2023-03-17T09:43:55.994Z"
   },
   {
    "duration": 38,
    "start_time": "2023-03-17T09:43:56.010Z"
   },
   {
    "duration": 22,
    "start_time": "2023-03-17T09:43:56.053Z"
   },
   {
    "duration": 3,
    "start_time": "2023-03-17T09:43:56.077Z"
   },
   {
    "duration": 8,
    "start_time": "2023-03-17T09:43:56.082Z"
   },
   {
    "duration": 6,
    "start_time": "2023-03-17T09:43:56.092Z"
   },
   {
    "duration": 14,
    "start_time": "2023-03-17T09:43:56.100Z"
   },
   {
    "duration": 5,
    "start_time": "2023-03-17T09:43:56.115Z"
   },
   {
    "duration": 16,
    "start_time": "2023-03-17T09:43:56.142Z"
   },
   {
    "duration": 22,
    "start_time": "2023-03-17T09:43:56.159Z"
   },
   {
    "duration": 19,
    "start_time": "2023-03-17T09:43:56.182Z"
   },
   {
    "duration": 44,
    "start_time": "2023-03-17T09:43:56.202Z"
   },
   {
    "duration": 7,
    "start_time": "2023-03-17T09:43:56.249Z"
   },
   {
    "duration": 308,
    "start_time": "2023-03-17T09:43:56.258Z"
   },
   {
    "duration": 14,
    "start_time": "2023-03-17T09:43:56.641Z"
   },
   {
    "duration": 165,
    "start_time": "2023-03-17T09:43:56.659Z"
   },
   {
    "duration": 3,
    "start_time": "2023-03-17T09:43:56.826Z"
   },
   {
    "duration": 15,
    "start_time": "2023-03-17T09:43:56.831Z"
   },
   {
    "duration": 1714,
    "start_time": "2023-03-17T09:43:56.848Z"
   },
   {
    "duration": 1298,
    "start_time": "2023-03-17T09:43:58.563Z"
   },
   {
    "duration": 12,
    "start_time": "2023-03-17T09:43:59.866Z"
   },
   {
    "duration": 72,
    "start_time": "2023-03-17T09:43:59.880Z"
   },
   {
    "duration": 177,
    "start_time": "2023-03-17T09:43:59.954Z"
   },
   {
    "duration": 5533,
    "start_time": "2023-03-17T09:44:00.133Z"
   },
   {
    "duration": 4876,
    "start_time": "2023-03-17T09:44:05.668Z"
   },
   {
    "duration": 213,
    "start_time": "2023-03-17T09:44:10.546Z"
   },
   {
    "duration": 208,
    "start_time": "2023-03-17T09:44:10.761Z"
   },
   {
    "duration": 11,
    "start_time": "2023-03-17T09:44:10.970Z"
   },
   {
    "duration": 10,
    "start_time": "2023-03-17T09:44:10.983Z"
   },
   {
    "duration": 148,
    "start_time": "2023-03-17T09:44:10.995Z"
   },
   {
    "duration": 99,
    "start_time": "2023-03-17T09:44:11.147Z"
   },
   {
    "duration": 15,
    "start_time": "2023-03-17T09:44:11.248Z"
   },
   {
    "duration": 76,
    "start_time": "2023-03-17T09:44:11.266Z"
   },
   {
    "duration": 254,
    "start_time": "2023-03-17T09:44:11.344Z"
   },
   {
    "duration": 316,
    "start_time": "2023-03-17T09:44:11.599Z"
   },
   {
    "duration": 5,
    "start_time": "2023-03-17T09:44:11.917Z"
   },
   {
    "duration": 20,
    "start_time": "2023-03-17T09:44:11.924Z"
   },
   {
    "duration": 12,
    "start_time": "2023-03-17T09:44:11.947Z"
   },
   {
    "duration": 16,
    "start_time": "2023-03-17T09:44:11.962Z"
   },
   {
    "duration": 8,
    "start_time": "2023-03-17T09:44:11.980Z"
   },
   {
    "duration": 12,
    "start_time": "2023-03-17T09:44:11.989Z"
   },
   {
    "duration": 47,
    "start_time": "2023-03-17T09:44:12.003Z"
   },
   {
    "duration": 108,
    "start_time": "2023-03-17T09:44:12.052Z"
   },
   {
    "duration": 379,
    "start_time": "2023-03-17T09:44:12.161Z"
   },
   {
    "duration": 499,
    "start_time": "2023-03-17T09:44:12.542Z"
   },
   {
    "duration": 144,
    "start_time": "2023-03-17T09:44:13.043Z"
   },
   {
    "duration": 8,
    "start_time": "2023-03-17T09:44:13.188Z"
   },
   {
    "duration": 314,
    "start_time": "2023-03-17T09:44:13.197Z"
   },
   {
    "duration": 28,
    "start_time": "2023-03-17T09:44:13.512Z"
   },
   {
    "duration": 100,
    "start_time": "2023-03-17T09:44:13.542Z"
   },
   {
    "duration": 98,
    "start_time": "2023-03-17T09:44:13.644Z"
   },
   {
    "duration": 369,
    "start_time": "2023-03-17T09:44:13.744Z"
   },
   {
    "duration": 7918,
    "start_time": "2023-03-17T09:44:14.114Z"
   },
   {
    "duration": 4655,
    "start_time": "2023-03-17T09:44:22.034Z"
   },
   {
    "duration": 267,
    "start_time": "2023-03-17T09:44:26.691Z"
   },
   {
    "duration": 24,
    "start_time": "2023-03-17T09:44:26.960Z"
   },
   {
    "duration": 133,
    "start_time": "2023-03-17T09:44:26.985Z"
   },
   {
    "duration": 0,
    "start_time": "2023-03-17T09:44:27.120Z"
   },
   {
    "duration": 0,
    "start_time": "2023-03-17T09:44:27.121Z"
   },
   {
    "duration": 0,
    "start_time": "2023-03-17T09:44:27.122Z"
   },
   {
    "duration": 0,
    "start_time": "2023-03-17T09:44:27.123Z"
   },
   {
    "duration": 0,
    "start_time": "2023-03-17T09:44:27.125Z"
   },
   {
    "duration": 0,
    "start_time": "2023-03-17T09:44:27.126Z"
   },
   {
    "duration": 16,
    "start_time": "2023-03-17T09:44:38.848Z"
   },
   {
    "duration": 135,
    "start_time": "2023-03-17T09:45:16.215Z"
   },
   {
    "duration": 130,
    "start_time": "2023-03-17T09:45:22.991Z"
   },
   {
    "duration": 51,
    "start_time": "2023-03-17T14:07:14.598Z"
   },
   {
    "duration": 1571,
    "start_time": "2023-03-17T14:07:24.011Z"
   },
   {
    "duration": 179,
    "start_time": "2023-03-17T14:07:25.585Z"
   },
   {
    "duration": 17,
    "start_time": "2023-03-17T14:07:25.765Z"
   },
   {
    "duration": 12,
    "start_time": "2023-03-17T14:07:25.784Z"
   },
   {
    "duration": 39,
    "start_time": "2023-03-17T14:07:25.798Z"
   },
   {
    "duration": 32,
    "start_time": "2023-03-17T14:07:25.839Z"
   },
   {
    "duration": 4,
    "start_time": "2023-03-17T14:07:25.872Z"
   },
   {
    "duration": 15,
    "start_time": "2023-03-17T14:07:25.878Z"
   },
   {
    "duration": 17,
    "start_time": "2023-03-17T14:07:25.894Z"
   },
   {
    "duration": 28,
    "start_time": "2023-03-17T14:07:25.914Z"
   },
   {
    "duration": 18,
    "start_time": "2023-03-17T14:07:25.944Z"
   },
   {
    "duration": 7,
    "start_time": "2023-03-17T14:07:25.964Z"
   },
   {
    "duration": 20,
    "start_time": "2023-03-17T14:07:25.973Z"
   },
   {
    "duration": 5,
    "start_time": "2023-03-17T14:07:25.995Z"
   },
   {
    "duration": 13,
    "start_time": "2023-03-17T14:07:26.002Z"
   },
   {
    "duration": 14,
    "start_time": "2023-03-17T14:07:26.016Z"
   },
   {
    "duration": 31,
    "start_time": "2023-03-17T14:07:26.032Z"
   },
   {
    "duration": 19,
    "start_time": "2023-03-17T14:07:26.064Z"
   },
   {
    "duration": 18,
    "start_time": "2023-03-17T14:07:26.084Z"
   },
   {
    "duration": 4,
    "start_time": "2023-03-17T14:07:26.104Z"
   },
   {
    "duration": 353,
    "start_time": "2023-03-17T14:07:26.110Z"
   },
   {
    "duration": 96,
    "start_time": "2023-03-17T14:07:26.466Z"
   },
   {
    "duration": 100,
    "start_time": "2023-03-17T14:07:26.564Z"
   },
   {
    "duration": 4,
    "start_time": "2023-03-17T14:07:26.665Z"
   },
   {
    "duration": 22,
    "start_time": "2023-03-17T14:07:26.670Z"
   },
   {
    "duration": 1568,
    "start_time": "2023-03-17T14:07:26.694Z"
   },
   {
    "duration": 940,
    "start_time": "2023-03-17T14:07:28.264Z"
   },
   {
    "duration": 10,
    "start_time": "2023-03-17T14:07:29.207Z"
   },
   {
    "duration": 80,
    "start_time": "2023-03-17T14:07:29.219Z"
   },
   {
    "duration": 153,
    "start_time": "2023-03-17T14:07:29.300Z"
   },
   {
    "duration": 5334,
    "start_time": "2023-03-17T14:07:29.461Z"
   },
   {
    "duration": 4576,
    "start_time": "2023-03-17T14:07:34.797Z"
   },
   {
    "duration": 189,
    "start_time": "2023-03-17T14:07:39.376Z"
   },
   {
    "duration": 204,
    "start_time": "2023-03-17T14:07:39.567Z"
   },
   {
    "duration": 9,
    "start_time": "2023-03-17T14:07:39.773Z"
   },
   {
    "duration": 8,
    "start_time": "2023-03-17T14:07:39.784Z"
   },
   {
    "duration": 71,
    "start_time": "2023-03-17T14:07:39.794Z"
   },
   {
    "duration": 98,
    "start_time": "2023-03-17T14:07:39.867Z"
   },
   {
    "duration": 11,
    "start_time": "2023-03-17T14:07:39.966Z"
   },
   {
    "duration": 84,
    "start_time": "2023-03-17T14:07:39.980Z"
   },
   {
    "duration": 242,
    "start_time": "2023-03-17T14:07:40.067Z"
   },
   {
    "duration": 381,
    "start_time": "2023-03-17T14:07:40.311Z"
   },
   {
    "duration": 6,
    "start_time": "2023-03-17T14:07:40.694Z"
   },
   {
    "duration": 18,
    "start_time": "2023-03-17T14:07:40.702Z"
   },
   {
    "duration": 16,
    "start_time": "2023-03-17T14:07:40.721Z"
   },
   {
    "duration": 26,
    "start_time": "2023-03-17T14:07:40.740Z"
   },
   {
    "duration": 9,
    "start_time": "2023-03-17T14:07:40.768Z"
   },
   {
    "duration": 13,
    "start_time": "2023-03-17T14:07:40.779Z"
   },
   {
    "duration": 15,
    "start_time": "2023-03-17T14:07:40.794Z"
   },
   {
    "duration": 133,
    "start_time": "2023-03-17T14:07:40.811Z"
   },
   {
    "duration": 319,
    "start_time": "2023-03-17T14:07:40.945Z"
   },
   {
    "duration": 505,
    "start_time": "2023-03-17T14:07:41.265Z"
   },
   {
    "duration": 216,
    "start_time": "2023-03-17T14:07:41.772Z"
   },
   {
    "duration": 9,
    "start_time": "2023-03-17T14:07:41.989Z"
   },
   {
    "duration": 329,
    "start_time": "2023-03-17T14:07:42.000Z"
   },
   {
    "duration": 30,
    "start_time": "2023-03-17T14:07:42.332Z"
   },
   {
    "duration": 99,
    "start_time": "2023-03-17T14:07:42.364Z"
   },
   {
    "duration": 99,
    "start_time": "2023-03-17T14:07:42.465Z"
   },
   {
    "duration": 385,
    "start_time": "2023-03-17T14:07:42.566Z"
   },
   {
    "duration": 7445,
    "start_time": "2023-03-17T14:07:42.961Z"
   },
   {
    "duration": 4155,
    "start_time": "2023-03-17T14:07:50.408Z"
   },
   {
    "duration": 248,
    "start_time": "2023-03-17T14:07:54.565Z"
   },
   {
    "duration": 20,
    "start_time": "2023-03-17T14:07:54.815Z"
   },
   {
    "duration": 127,
    "start_time": "2023-03-17T14:07:54.837Z"
   },
   {
    "duration": 124,
    "start_time": "2023-03-17T14:07:54.965Z"
   },
   {
    "duration": 248,
    "start_time": "2023-03-17T14:07:55.091Z"
   },
   {
    "duration": 33,
    "start_time": "2023-03-17T14:07:55.341Z"
   },
   {
    "duration": 21,
    "start_time": "2023-03-17T14:07:55.375Z"
   },
   {
    "duration": 8,
    "start_time": "2023-03-17T14:07:55.398Z"
   },
   {
    "duration": 10,
    "start_time": "2023-03-17T14:07:55.408Z"
   },
   {
    "duration": 186,
    "start_time": "2023-03-17T14:30:30.268Z"
   },
   {
    "duration": 7098,
    "start_time": "2023-03-17T14:30:36.032Z"
   },
   {
    "duration": 4861,
    "start_time": "2023-03-17T14:32:19.077Z"
   },
   {
    "duration": 241,
    "start_time": "2023-03-17T14:33:49.457Z"
   },
   {
    "duration": 21,
    "start_time": "2023-03-17T14:33:56.249Z"
   },
   {
    "duration": 122,
    "start_time": "2023-03-17T14:34:07.249Z"
   },
   {
    "duration": 367,
    "start_time": "2023-03-17T14:58:03.863Z"
   },
   {
    "duration": 26,
    "start_time": "2023-03-17T14:58:13.301Z"
   },
   {
    "duration": 114,
    "start_time": "2023-03-17T14:58:24.312Z"
   },
   {
    "duration": 48,
    "start_time": "2023-03-18T06:41:24.554Z"
   },
   {
    "duration": 5,
    "start_time": "2023-03-18T06:41:53.874Z"
   },
   {
    "duration": 1792,
    "start_time": "2023-03-22T08:12:52.076Z"
   },
   {
    "duration": 196,
    "start_time": "2023-03-22T08:12:53.871Z"
   },
   {
    "duration": 20,
    "start_time": "2023-03-22T08:12:54.069Z"
   },
   {
    "duration": 15,
    "start_time": "2023-03-22T08:12:54.092Z"
   },
   {
    "duration": 46,
    "start_time": "2023-03-22T08:12:54.108Z"
   },
   {
    "duration": 13,
    "start_time": "2023-03-22T08:12:54.156Z"
   },
   {
    "duration": 4,
    "start_time": "2023-03-22T08:12:54.171Z"
   },
   {
    "duration": 32,
    "start_time": "2023-03-22T08:12:54.177Z"
   },
   {
    "duration": 22,
    "start_time": "2023-03-22T08:12:54.211Z"
   },
   {
    "duration": 28,
    "start_time": "2023-03-22T08:12:54.237Z"
   },
   {
    "duration": 4,
    "start_time": "2023-03-22T08:12:54.267Z"
   },
   {
    "duration": 43,
    "start_time": "2023-03-22T08:12:54.273Z"
   },
   {
    "duration": 8,
    "start_time": "2023-03-22T08:12:54.318Z"
   },
   {
    "duration": 6,
    "start_time": "2023-03-22T08:12:54.329Z"
   },
   {
    "duration": 7,
    "start_time": "2023-03-22T08:12:54.336Z"
   },
   {
    "duration": 11,
    "start_time": "2023-03-22T08:12:54.344Z"
   },
   {
    "duration": 30,
    "start_time": "2023-03-22T08:12:54.356Z"
   },
   {
    "duration": 31,
    "start_time": "2023-03-22T08:12:54.404Z"
   },
   {
    "duration": 21,
    "start_time": "2023-03-22T08:12:54.437Z"
   },
   {
    "duration": 18,
    "start_time": "2023-03-22T08:12:54.459Z"
   },
   {
    "duration": 342,
    "start_time": "2023-03-22T08:12:54.479Z"
   },
   {
    "duration": 79,
    "start_time": "2023-03-22T08:12:54.830Z"
   },
   {
    "duration": 180,
    "start_time": "2023-03-22T08:12:54.921Z"
   },
   {
    "duration": 3,
    "start_time": "2023-03-22T08:12:55.108Z"
   },
   {
    "duration": 20,
    "start_time": "2023-03-22T08:12:55.113Z"
   },
   {
    "duration": 901,
    "start_time": "2023-03-22T08:12:55.136Z"
   },
   {
    "duration": 846,
    "start_time": "2023-03-22T08:12:56.107Z"
   },
   {
    "duration": 11,
    "start_time": "2023-03-22T08:12:56.957Z"
   },
   {
    "duration": 106,
    "start_time": "2023-03-22T08:12:56.970Z"
   },
   {
    "duration": 171,
    "start_time": "2023-03-22T08:12:57.078Z"
   },
   {
    "duration": 7430,
    "start_time": "2023-03-22T08:12:57.251Z"
   },
   {
    "duration": 5148,
    "start_time": "2023-03-22T08:13:04.682Z"
   },
   {
    "duration": 1084,
    "start_time": "2023-03-22T08:13:09.832Z"
   },
   {
    "duration": 144,
    "start_time": "2023-03-22T08:13:10.923Z"
   },
   {
    "duration": 47,
    "start_time": "2023-03-22T08:13:11.068Z"
   },
   {
    "duration": 14,
    "start_time": "2023-03-22T08:13:11.121Z"
   },
   {
    "duration": 79,
    "start_time": "2023-03-22T08:13:11.139Z"
   },
   {
    "duration": 94,
    "start_time": "2023-03-22T08:13:11.222Z"
   },
   {
    "duration": 88,
    "start_time": "2023-03-22T08:13:11.319Z"
   },
   {
    "duration": 10,
    "start_time": "2023-03-22T08:13:11.415Z"
   },
   {
    "duration": 260,
    "start_time": "2023-03-22T08:13:11.427Z"
   },
   {
    "duration": 405,
    "start_time": "2023-03-22T08:13:11.689Z"
   },
   {
    "duration": 13,
    "start_time": "2023-03-22T08:13:12.096Z"
   },
   {
    "duration": 14,
    "start_time": "2023-03-22T08:13:12.111Z"
   },
   {
    "duration": 26,
    "start_time": "2023-03-22T08:13:12.127Z"
   },
   {
    "duration": 18,
    "start_time": "2023-03-22T08:13:12.155Z"
   },
   {
    "duration": 11,
    "start_time": "2023-03-22T08:13:12.176Z"
   },
   {
    "duration": 18,
    "start_time": "2023-03-22T08:13:12.203Z"
   },
   {
    "duration": 16,
    "start_time": "2023-03-22T08:13:12.223Z"
   },
   {
    "duration": 150,
    "start_time": "2023-03-22T08:13:12.241Z"
   },
   {
    "duration": 315,
    "start_time": "2023-03-22T08:13:12.393Z"
   },
   {
    "duration": 500,
    "start_time": "2023-03-22T08:13:12.710Z"
   },
   {
    "duration": 139,
    "start_time": "2023-03-22T08:13:13.212Z"
   },
   {
    "duration": 10,
    "start_time": "2023-03-22T08:13:13.353Z"
   },
   {
    "duration": 355,
    "start_time": "2023-03-22T08:13:13.365Z"
   },
   {
    "duration": 28,
    "start_time": "2023-03-22T08:13:13.726Z"
   },
   {
    "duration": 166,
    "start_time": "2023-03-22T08:13:13.757Z"
   },
   {
    "duration": 85,
    "start_time": "2023-03-22T08:13:13.928Z"
   },
   {
    "duration": 348,
    "start_time": "2023-03-22T08:13:14.026Z"
   },
   {
    "duration": 7854,
    "start_time": "2023-03-22T08:13:14.375Z"
   },
   {
    "duration": 5417,
    "start_time": "2023-03-22T08:13:22.231Z"
   },
   {
    "duration": 327,
    "start_time": "2023-03-22T08:13:27.651Z"
   },
   {
    "duration": 41,
    "start_time": "2023-03-22T08:13:27.979Z"
   },
   {
    "duration": 158,
    "start_time": "2023-03-22T08:13:28.022Z"
   },
   {
    "duration": 262,
    "start_time": "2023-03-22T08:13:28.182Z"
   },
   {
    "duration": 26,
    "start_time": "2023-03-22T08:13:28.446Z"
   },
   {
    "duration": 46,
    "start_time": "2023-03-22T08:13:28.474Z"
   },
   {
    "duration": 8,
    "start_time": "2023-03-22T08:13:28.528Z"
   },
   {
    "duration": 13,
    "start_time": "2023-03-22T08:13:28.539Z"
   },
   {
    "duration": 300,
    "start_time": "2023-03-22T08:17:51.220Z"
   },
   {
    "duration": 30,
    "start_time": "2023-03-22T08:18:01.249Z"
   },
   {
    "duration": 26,
    "start_time": "2023-03-22T08:18:23.771Z"
   },
   {
    "duration": 9,
    "start_time": "2023-03-22T08:18:24.182Z"
   },
   {
    "duration": 11,
    "start_time": "2023-03-22T08:18:24.682Z"
   },
   {
    "duration": 8,
    "start_time": "2023-03-22T08:22:39.994Z"
   },
   {
    "duration": 1613,
    "start_time": "2023-03-22T08:22:53.576Z"
   },
   {
    "duration": 63,
    "start_time": "2023-03-22T08:22:55.192Z"
   },
   {
    "duration": 19,
    "start_time": "2023-03-22T08:22:55.256Z"
   },
   {
    "duration": 13,
    "start_time": "2023-03-22T08:22:55.278Z"
   },
   {
    "duration": 67,
    "start_time": "2023-03-22T08:22:55.292Z"
   },
   {
    "duration": 13,
    "start_time": "2023-03-22T08:22:55.360Z"
   },
   {
    "duration": 4,
    "start_time": "2023-03-22T08:22:55.375Z"
   },
   {
    "duration": 13,
    "start_time": "2023-03-22T08:22:55.380Z"
   },
   {
    "duration": 35,
    "start_time": "2023-03-22T08:22:55.395Z"
   },
   {
    "duration": 29,
    "start_time": "2023-03-22T08:22:55.436Z"
   },
   {
    "duration": 5,
    "start_time": "2023-03-22T08:22:55.468Z"
   },
   {
    "duration": 15,
    "start_time": "2023-03-22T08:22:55.474Z"
   },
   {
    "duration": 19,
    "start_time": "2023-03-22T08:22:55.490Z"
   },
   {
    "duration": 19,
    "start_time": "2023-03-22T08:22:55.511Z"
   },
   {
    "duration": 3,
    "start_time": "2023-03-22T08:22:55.533Z"
   },
   {
    "duration": 14,
    "start_time": "2023-03-22T08:22:55.538Z"
   },
   {
    "duration": 26,
    "start_time": "2023-03-22T08:22:55.554Z"
   },
   {
    "duration": 52,
    "start_time": "2023-03-22T08:22:55.582Z"
   },
   {
    "duration": 27,
    "start_time": "2023-03-22T08:22:55.636Z"
   },
   {
    "duration": 5,
    "start_time": "2023-03-22T08:22:55.664Z"
   },
   {
    "duration": 342,
    "start_time": "2023-03-22T08:22:55.671Z"
   },
   {
    "duration": 93,
    "start_time": "2023-03-22T08:22:56.015Z"
   },
   {
    "duration": 155,
    "start_time": "2023-03-22T08:22:56.111Z"
   },
   {
    "duration": 4,
    "start_time": "2023-03-22T08:22:56.268Z"
   },
   {
    "duration": 28,
    "start_time": "2023-03-22T08:22:56.274Z"
   },
   {
    "duration": 1925,
    "start_time": "2023-03-22T08:22:56.304Z"
   },
   {
    "duration": 1469,
    "start_time": "2023-03-22T08:22:58.233Z"
   },
   {
    "duration": 17,
    "start_time": "2023-03-22T08:22:59.710Z"
   },
   {
    "duration": 79,
    "start_time": "2023-03-22T08:22:59.731Z"
   },
   {
    "duration": 177,
    "start_time": "2023-03-22T08:22:59.812Z"
   },
   {
    "duration": 6368,
    "start_time": "2023-03-22T08:22:59.991Z"
   },
   {
    "duration": 5571,
    "start_time": "2023-03-22T08:23:06.361Z"
   },
   {
    "duration": 390,
    "start_time": "2023-03-22T08:23:11.934Z"
   },
   {
    "duration": 143,
    "start_time": "2023-03-22T08:23:12.327Z"
   },
   {
    "duration": 12,
    "start_time": "2023-03-22T08:23:12.472Z"
   },
   {
    "duration": 25,
    "start_time": "2023-03-22T08:23:12.486Z"
   },
   {
    "duration": 94,
    "start_time": "2023-03-22T08:23:12.514Z"
   },
   {
    "duration": 20,
    "start_time": "2023-03-22T08:23:12.610Z"
   },
   {
    "duration": 168,
    "start_time": "2023-03-22T08:23:12.635Z"
   },
   {
    "duration": 13,
    "start_time": "2023-03-22T08:23:12.807Z"
   },
   {
    "duration": 282,
    "start_time": "2023-03-22T08:23:12.825Z"
   },
   {
    "duration": 339,
    "start_time": "2023-03-22T08:23:13.110Z"
   },
   {
    "duration": 6,
    "start_time": "2023-03-22T08:23:13.451Z"
   },
   {
    "duration": 9,
    "start_time": "2023-03-22T08:23:13.459Z"
   },
   {
    "duration": 19,
    "start_time": "2023-03-22T08:23:13.470Z"
   },
   {
    "duration": 28,
    "start_time": "2023-03-22T08:23:13.491Z"
   },
   {
    "duration": 8,
    "start_time": "2023-03-22T08:23:13.521Z"
   },
   {
    "duration": 14,
    "start_time": "2023-03-22T08:23:13.531Z"
   },
   {
    "duration": 12,
    "start_time": "2023-03-22T08:23:13.547Z"
   },
   {
    "duration": 133,
    "start_time": "2023-03-22T08:23:13.561Z"
   },
   {
    "duration": 319,
    "start_time": "2023-03-22T08:23:13.696Z"
   },
   {
    "duration": 584,
    "start_time": "2023-03-22T08:23:14.019Z"
   },
   {
    "duration": 135,
    "start_time": "2023-03-22T08:23:14.608Z"
   },
   {
    "duration": 10,
    "start_time": "2023-03-22T08:23:14.745Z"
   },
   {
    "duration": 249,
    "start_time": "2023-03-22T08:23:14.757Z"
   },
   {
    "duration": 8076,
    "start_time": "2023-03-22T08:23:15.008Z"
   },
   {
    "duration": 5434,
    "start_time": "2023-03-22T08:23:23.086Z"
   },
   {
    "duration": 47,
    "start_time": "2023-03-22T08:23:28.522Z"
   },
   {
    "duration": 0,
    "start_time": "2023-03-22T08:23:28.571Z"
   },
   {
    "duration": 0,
    "start_time": "2023-03-22T08:23:28.573Z"
   },
   {
    "duration": 0,
    "start_time": "2023-03-22T08:23:28.574Z"
   },
   {
    "duration": 0,
    "start_time": "2023-03-22T08:23:28.576Z"
   },
   {
    "duration": 0,
    "start_time": "2023-03-22T08:23:28.577Z"
   },
   {
    "duration": 0,
    "start_time": "2023-03-22T08:23:28.579Z"
   },
   {
    "duration": 0,
    "start_time": "2023-03-22T08:23:28.580Z"
   },
   {
    "duration": 0,
    "start_time": "2023-03-22T08:23:28.582Z"
   },
   {
    "duration": 0,
    "start_time": "2023-03-22T08:23:28.583Z"
   },
   {
    "duration": 331,
    "start_time": "2023-03-22T08:24:22.781Z"
   },
   {
    "duration": 30,
    "start_time": "2023-03-22T08:24:29.161Z"
   },
   {
    "duration": 36,
    "start_time": "2023-03-22T08:25:35.897Z"
   },
   {
    "duration": 152,
    "start_time": "2023-03-22T08:25:37.984Z"
   },
   {
    "duration": 15,
    "start_time": "2023-03-22T08:25:44.985Z"
   },
   {
    "duration": 342,
    "start_time": "2023-03-22T08:26:59.050Z"
   },
   {
    "duration": 37,
    "start_time": "2023-03-22T08:27:35.249Z"
   },
   {
    "duration": 25,
    "start_time": "2023-03-22T08:28:47.436Z"
   },
   {
    "duration": 8,
    "start_time": "2023-03-22T08:28:48.429Z"
   },
   {
    "duration": 13,
    "start_time": "2023-03-22T08:28:49.976Z"
   },
   {
    "duration": 1528,
    "start_time": "2023-03-22T08:48:08.570Z"
   },
   {
    "duration": 63,
    "start_time": "2023-03-22T08:48:10.100Z"
   },
   {
    "duration": 24,
    "start_time": "2023-03-22T08:48:10.165Z"
   },
   {
    "duration": 28,
    "start_time": "2023-03-22T08:48:10.192Z"
   },
   {
    "duration": 51,
    "start_time": "2023-03-22T08:48:10.222Z"
   },
   {
    "duration": 12,
    "start_time": "2023-03-22T08:48:10.275Z"
   },
   {
    "duration": 20,
    "start_time": "2023-03-22T08:48:10.289Z"
   },
   {
    "duration": 16,
    "start_time": "2023-03-22T08:48:10.315Z"
   },
   {
    "duration": 38,
    "start_time": "2023-03-22T08:48:10.333Z"
   },
   {
    "duration": 56,
    "start_time": "2023-03-22T08:48:10.375Z"
   },
   {
    "duration": 5,
    "start_time": "2023-03-22T08:48:10.433Z"
   },
   {
    "duration": 20,
    "start_time": "2023-03-22T08:48:10.440Z"
   },
   {
    "duration": 23,
    "start_time": "2023-03-22T08:48:10.463Z"
   },
   {
    "duration": 26,
    "start_time": "2023-03-22T08:48:10.488Z"
   },
   {
    "duration": 4,
    "start_time": "2023-03-22T08:48:10.516Z"
   },
   {
    "duration": 30,
    "start_time": "2023-03-22T08:48:10.522Z"
   },
   {
    "duration": 31,
    "start_time": "2023-03-22T08:48:10.554Z"
   },
   {
    "duration": 29,
    "start_time": "2023-03-22T08:48:10.588Z"
   },
   {
    "duration": 25,
    "start_time": "2023-03-22T08:48:10.618Z"
   },
   {
    "duration": 5,
    "start_time": "2023-03-22T08:48:10.645Z"
   },
   {
    "duration": 372,
    "start_time": "2023-03-22T08:48:10.652Z"
   },
   {
    "duration": 108,
    "start_time": "2023-03-22T08:48:11.028Z"
   },
   {
    "duration": 168,
    "start_time": "2023-03-22T08:48:11.141Z"
   },
   {
    "duration": 8,
    "start_time": "2023-03-22T08:48:11.311Z"
   },
   {
    "duration": 13,
    "start_time": "2023-03-22T08:48:11.328Z"
   },
   {
    "duration": 1078,
    "start_time": "2023-03-22T08:48:11.343Z"
   },
   {
    "duration": 1019,
    "start_time": "2023-03-22T08:48:12.425Z"
   },
   {
    "duration": 72,
    "start_time": "2023-03-22T08:48:13.448Z"
   },
   {
    "duration": 119,
    "start_time": "2023-03-22T08:48:13.522Z"
   },
   {
    "duration": 405,
    "start_time": "2023-03-22T08:48:13.643Z"
   },
   {
    "duration": 7142,
    "start_time": "2023-03-22T08:48:14.051Z"
   },
   {
    "duration": 5381,
    "start_time": "2023-03-22T08:48:21.196Z"
   },
   {
    "duration": 1230,
    "start_time": "2023-03-22T08:48:26.579Z"
   },
   {
    "duration": 131,
    "start_time": "2023-03-22T08:48:27.817Z"
   },
   {
    "duration": 13,
    "start_time": "2023-03-22T08:48:27.950Z"
   },
   {
    "duration": 12,
    "start_time": "2023-03-22T08:48:27.966Z"
   },
   {
    "duration": 48,
    "start_time": "2023-03-22T08:48:28.014Z"
   },
   {
    "duration": 46,
    "start_time": "2023-03-22T08:48:28.065Z"
   },
   {
    "duration": 116,
    "start_time": "2023-03-22T08:48:28.114Z"
   },
   {
    "duration": 80,
    "start_time": "2023-03-22T08:48:28.234Z"
   },
   {
    "duration": 209,
    "start_time": "2023-03-22T08:48:28.318Z"
   },
   {
    "duration": 412,
    "start_time": "2023-03-22T08:48:28.529Z"
   },
   {
    "duration": 7,
    "start_time": "2023-03-22T08:48:28.943Z"
   },
   {
    "duration": 8,
    "start_time": "2023-03-22T08:48:28.952Z"
   },
   {
    "duration": 19,
    "start_time": "2023-03-22T08:48:28.962Z"
   },
   {
    "duration": 46,
    "start_time": "2023-03-22T08:48:28.984Z"
   },
   {
    "duration": 9,
    "start_time": "2023-03-22T08:48:29.032Z"
   },
   {
    "duration": 15,
    "start_time": "2023-03-22T08:48:29.043Z"
   },
   {
    "duration": 17,
    "start_time": "2023-03-22T08:48:29.061Z"
   },
   {
    "duration": 140,
    "start_time": "2023-03-22T08:48:29.081Z"
   },
   {
    "duration": 303,
    "start_time": "2023-03-22T08:48:29.226Z"
   },
   {
    "duration": 534,
    "start_time": "2023-03-22T08:48:29.531Z"
   },
   {
    "duration": 174,
    "start_time": "2023-03-22T08:48:30.067Z"
   },
   {
    "duration": 11,
    "start_time": "2023-03-22T08:48:30.243Z"
   },
   {
    "duration": 298,
    "start_time": "2023-03-22T08:48:30.257Z"
   },
   {
    "duration": 8263,
    "start_time": "2023-03-22T08:48:30.557Z"
   },
   {
    "duration": 5864,
    "start_time": "2023-03-22T08:48:38.825Z"
   },
   {
    "duration": 338,
    "start_time": "2023-03-22T08:48:44.692Z"
   },
   {
    "duration": 32,
    "start_time": "2023-03-22T08:48:45.033Z"
   },
   {
    "duration": 142,
    "start_time": "2023-03-22T08:48:45.067Z"
   },
   {
    "duration": 16,
    "start_time": "2023-03-22T08:48:45.217Z"
   },
   {
    "duration": 381,
    "start_time": "2023-03-22T08:48:45.307Z"
   },
   {
    "duration": 42,
    "start_time": "2023-03-22T08:48:45.691Z"
   },
   {
    "duration": 26,
    "start_time": "2023-03-22T08:48:45.735Z"
   },
   {
    "duration": 12,
    "start_time": "2023-03-22T08:48:45.763Z"
   },
   {
    "duration": 31,
    "start_time": "2023-03-22T08:48:45.777Z"
   }
  ],
  "kernelspec": {
   "display_name": "Python 3 (ipykernel)",
   "language": "python",
   "name": "python3"
  },
  "language_info": {
   "codemirror_mode": {
    "name": "ipython",
    "version": 3
   },
   "file_extension": ".py",
   "mimetype": "text/x-python",
   "name": "python",
   "nbconvert_exporter": "python",
   "pygments_lexer": "ipython3",
   "version": "3.11.3"
  },
  "toc": {
   "base_numbering": 1,
   "nav_menu": {},
   "number_sections": true,
   "sideBar": true,
   "skip_h1_title": true,
   "title_cell": "Содержание",
   "title_sidebar": "Contents",
   "toc_cell": true,
   "toc_position": {
    "height": "423px",
    "left": "24px",
    "top": "111.125px",
    "width": "165px"
   },
   "toc_section_display": true,
   "toc_window_display": true
  }
 },
 "nbformat": 4,
 "nbformat_minor": 2
}
